{
 "nbformat": 4,
 "nbformat_minor": 0,
 "metadata": {
  "colab": {
   "provenance": [],
   "authorship_tag": "ABX9TyOg95vUaenHxVcH8JyG95T4"
  },
  "kernelspec": {
   "name": "python3",
   "display_name": "Python 3"
  },
  "language_info": {
   "name": "python"
  }
 },
 "cells": [
  {
   "cell_type": "markdown",
   "source": [
    "# 1. CLP Modeling\n",
    "Will Robinson and his crew are lost in space and have crashed their spaceship in an alien planet. They need to collect metals to repair the engine of their spaceship. More specifically, the piece to repair is made of a metal alloy of chrome, aluminium, and titanium. To build the new piece, Will needs to collect 1 kilogram of chrome, 800 grams of aluminium and 1.5 kilograms of  titanium. Will and his crew can gather these metals from 3 different mining locations they have identified around the camp. Will has estimated the average kg/hour that can be extracted in each location:\n",
    "\n",
    "\n",
    "| Mining Location | Chrome (kg/hour) | Aluminium (kg/hour) | Titanium (kg/hour) |\n",
    "|-----------------|------------------|---------------------|--------------------|\n",
    "| Location 1      | 0.1              | 0.3                 | 0.05               |\n",
    "| Location 2      | 0.05             | 0.2                 | 0.1                |\n",
    "| Location 3      | 0.02             | 0.15                | 0.2                |\n",
    "\n",
    "Write down a Continuous Linear Programming model to minimize the total time used to collect the materials needed to build the part needed to fix the engine (3 points).\n",
    "\n",
    "#2. CLP Analysis\n",
    "\n",
    "The following tables provide the solution to a Continuous Linear Programming (CLP) problem that optimizes the return of four different types of investments.\n",
    "\n",
    "|  | Variables | Solution | Reduced cost | Objective Coefficient \\ | Objective Lower bound  | Objective Upper bound |\n",
    "| :--- | :--- | :--- | :--- | :--- | :--- | :--- |\n",
    "| 1 | stocks investments (€) | 116129.03 | 0.00 | 0.10 | 0.08 | 0.12 |\n",
    "| 2 | bonds investments (€) | 0.00 | -0.02 | 0.06 | -Inf | 0.08 |\n",
    "| 3 | real state investments (€) | 483870.97 | 0.00 | 0.08 | 0.05 | 0.10 |\n",
    "| 4 | Crypto assets investments (€) | 400000.00 | 0.00 | 0.15 | 0.12 | inf |\n",
    "\n",
    "\n",
    "**Constraints:**\n",
    "\n",
    "|  | Constraint | Right Hand Side | Slack | Shadow Price | Min RHS | Max RHS |\n",
    "| :--- | :--- | :--- | :--- | :--- | :--- | :--- |\n",
    "| 0 | Maximum budget | 1000000.00 | 0.00 | 0.10 | 861538.46 | 2053846.15 |\n",
    "| 1 | Risk | 0.00 | 0.00 | 6.45 | -360.00 | 880.00 |\n",
    "| 2 | Minimum investment in real estate | 200000.00 | -283870.97 | 0.00 | -Inf | 483870.97 |\n",
    "| 3 | Maximum investment in crypto assets | 400000.00 | 0.00 | 0.03 | 48000.00 | 464285.71 |\n",
    "\n",
    "1. For the constraint \"Minimum investment in real estate,\" the maximum RHS is €483,870.97, which exactly matches the investment amount in real estate. Explain the significance of this value and discuss how changes in the RHS affect the feasibility and optimality of the solution. (1 point)\n",
    "\n",
    "2. Discuss the implication of having a slack of 0.00 for the maximum budget and maximum investment in crypto assets constraints. What does this say about the tightness of these constraints? (1 point)\n",
    "\n",
    "\n",
    "#3. Transportation Problem\n",
    "\n",
    "Professor Xavier's School for Gifted Youngsters is organizing a special summer session focusing on enhancing the students' unique abilities. Students from across the country have been invited, and the school needs to arrange their transportation. The goal is to ensure that all students can arrive at the school in time for the session while minimizing transportation costs.\n",
    "\n",
    "1. First, let us consider an abstract model where gifted students reside in $n$ different locations, can can be transported in $m$ different modes of transport. Each mode of transport from each location to the school has a different associated cost. Additionally, each transportation mode has a different capacity, and each location has a different number of gifted students that need transportation to the school. Write down an Integer Programming (IP) problem that minimizes the overall transportation costs. (2.5 points)\n",
    "\n",
    "2. Given the following number of students:\n",
    "\n",
    "| Location | Number of Students |\n",
    "|----------|--------------------|\n",
    "| L1       | 20                 |\n",
    "| L2       | 30                 |\n",
    "| L3       | 25                 |\n",
    "| L4       | 15                 |\n",
    "| L5       | 40                 |\n",
    "| L6       | 35                 |\n",
    "\n",
    "And the following capacities and costs of transport per student from the different locations for three different modes of transport:\n",
    "\n",
    "| Mode | Capacity | L1 | L2 | L3 | L4 | L5 | L6 |\n",
    "|------|----------|--------------|--------------|--------------|--------------|--------------|--------------|\n",
    "| T1   | 50       | 10           | 8            | 12           | 11           | 9            | 7            |\n",
    "| T2   | 60       | 9            | 7            | 11           | 10           | 8            | 6            |\n",
    "| T3   | 40       | 8            | 9            | 10           | 12           | 7            | 11           |\n",
    "\n",
    "Draw a graph that allows to model the transportation problem as a maximum flow at minimum cost transportation problem. (2.5 points)\n"
   ],
   "metadata": {
    "id": "L8uxsbNs-tku"
   }
  }
 ]
}
