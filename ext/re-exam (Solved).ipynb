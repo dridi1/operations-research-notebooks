{
 "cells": [
  {
   "cell_type": "markdown",
   "metadata": {},
   "source": [
    "# Problem 1\n",
    "## Web Fluid Bending\n",
    "\n",
    "Peter Parker is interning at OsCorp, a leading technology company. As part of his internship, he is working on the development of a high-performance  fluid used in the creation of material that mimics spider's webs mechanical properties, hereafter web fluid. Peter needs to determine the optimal blend of ingredients to produce the web fluid with the desired mechanical properties (strength, flexibility, and adhesion) at the lowest cost. The web fluid is composed of three ingredients: Ingredient A, Ingredient B, and Ingredient C. The goal is to minimize the cost of producing a batch of web fluid while meeting the following requirements:\n",
    "\n",
    "- The web fluid must have a minimum strength of 80 units.\n",
    "- The web fluid must have a flexibility between 50 and 100 units (inclusive).\n",
    "- The web fluid must have an adhesion level of at least 90 units.\n",
    "\n",
    "The cost of each ingredient is as follows:\n",
    "- Ingredient A: 5 dollars per liter\n",
    "- Ingredient B: 4 dollars per liter\n",
    "- Ingredient C: 6 dollars per liter\n",
    "\n",
    "The following table shows the contribution of each ingredient to the strength, flexibility, and adhesion of the web fluid (in units per liter of ingredient).\n",
    "\n",
    "| Ingredient | Strength Contribution | Flexibility Contribution | Adhesion Contribution |\n",
    "|------------|-----------------------|--------------------------|-----------------------|\n",
    "| A          | 0.5                   | 0.1                      | 0.3                   |\n",
    "| B          | 0.3                   | 0.5                      | 0.2                   |\n",
    "| C          | 0.2                   | 0.4                      | 0.5                   |\n",
    "\n",
    "There are 1000 liters of Ingredient A, 800 liters of Ingredient B, and 600 liters of Ingredient C available for the production of the web fluid. Additionally, Peter has a limited budget of 4000 dollars for the production of the web fluid.\n",
    "\n",
    "1. Build a linear programming model to determine the optimal blend of ingredients to produce the web fluid with the desired mechanical properties at the lowest cost. Clearly define the decision variables, objective function, and constraints. **(1.5 points)**\n",
    "2. Define the dual problem. **(1 point)**\n",
    "\n"
   ]
  },
  {
   "cell_type": "markdown",
   "source": [
    "## Solution\n",
    "### Part 1\n",
    "#### Decision Variables\n",
    "Let our decisions variables be noted as $x_i$ where $i \\in \\{A, B, C\\}$ and $x_i$ is the amount of ingredient $i$ in the web fluid, that is:\n",
    "- $x_A$: Amount of ingredient A in the web fluid\n",
    "- $x_B$: Amount of ingredient B in the web fluid\n",
    "- $x_C$: Amount of ingredient C in the web fluid\n",
    "\n",
    "#### Objective Function\n",
    "$$z = \\sum{c_i x_i} = 5x_A + 4x_B + 6x_C$$\n",
    "\n",
    "Where $c_i$ is the cost of ingredient $i$ per liter.\n",
    "#### Constraints\n",
    "- Strength: Strength must be greater than 80 units\n",
    "\n",
    "$$0.5x_A + 0.3x_B + 0.2x_C \\geq 80$$\n",
    "\n",
    "- Flexibility: Flexibility must be between 50 and 100 units\n",
    "\n",
    "$$0.1x_A + 0.5x_B + 0.4x_C \\geq 50$$\n",
    "\n",
    "$$0.1x_A + 0.5x_B + 0.4x_C \\leq 100$$\n",
    "\n",
    "- Adhesion: Adhesion must be greater than 90 units\n",
    "\n",
    "$$0.3x_A + 0.2x_B + 0.5x_C \\geq 90$$\n",
    "\n",
    "- Budget: Budget must be less than 4000 dollars\n",
    "\n",
    "$$5x_A + 4x_B + 6x_C < 4000$$\n",
    "\n",
    "- Amount of ingredients: Amount of ingredients must be less than or equal to the available amount of ingredients\n",
    "\n",
    "$$x_A \\leq 1000$$\n",
    "\n",
    "$$x_B \\leq 800$$\n",
    "\n",
    "$$x_C \\leq 600$$\n",
    "\n",
    "In summary, the linear programming model is:\n",
    "\n",
    "$z = \\sum{c_i x_i} = 5x_A + 4x_B + 6x_C$\n",
    "\n",
    "$0.5x_A + 0.3x_B + 0.2x_C \\geq 80$ (1)\n",
    "\n",
    "$0.1x_A + 0.5x_B + 0.4x_C \\geq 50$ (2)\n",
    "\n",
    "$0.1x_A + 0.5x_B + 0.4x_C \\leq 100$ (3)\n",
    "\n",
    "$0.3x_A + 0.2x_B + 0.5x_C \\geq 90$ (4)\n",
    "\n",
    "$5x_A + 4x_B + 6x_C < 4000$ (5)\n",
    "\n",
    "$x_A \\leq 1000$ (6)\n",
    "\n",
    "$x_B \\leq 800$ (7)\n",
    "\n",
    "$x_C \\leq 600$ (8)\n",
    "\n",
    "$x_A, x_B, x_C \\geq 0$\n",
    "\n",
    "### Part 2\n",
    "#### Decision Variables\n",
    "Let our decisions variables be noted as $u_i$ where $i \\in \\{1, 2, 3, 4, 5, 6, 7, 8\\}$ is the shadow price of the constraint $i$ in the primal problem, as noted in part I. The dual problem becomes:\n",
    "\n",
    "#### Objective Function\n",
    "$$z = \\sum{b_i*u_i} = 80u_1 + 50u_2 + 100u_3 + 90u_4 + 4000u_5 + 1000u_6 + 800u_7 + 600u_8$$\n",
    "\n",
    "Where $b_i$ is the right hand side of constraint $i$ in the primal problem.\n",
    "\n",
    "#### Constraints\n",
    "\n",
    "$$0.5u_1 + 0.1u_2 + 0.1u_3 + 0.3u_4 + 5u_5 + u_6 \\leq 5$$\n",
    "\n",
    "$$0.3u_1 + 0.5u_2 + 0.5u_3 + 0.2u_4 + 4u_5 + u_7 \\leq 4$$\n",
    "\n",
    "$$0.2u_1 + 0.4u_2 + 0.4u_3 + 0.5u_4 + 6u_5 + u_8 \\leq 6$$\n",
    "\n",
    "$$u_3, u_5, u_6, u_7, u_8 \\geq 0$$\n",
    "\n",
    "$$u_1, u_2, u_4 \\leq 0$$\n",
    "\n"
   ],
   "metadata": {
    "collapsed": false
   }
  },
  {
   "cell_type": "markdown",
   "metadata": {},
   "source": [
    "# Problem 2\n",
    "## Transportation Problem\n",
    "After successfully developing the formula for the web fluid, Peter Parker is now working on the sourcing of ingredients from different providers. Peter wants to minimize the total transportation cost while ensuring that the overall demand of ingredients is met. Assume that the ingredients are transported in individual containers of 1 liter each. The following table shows the cost of transporting one container of each ingredient from each provider to the OsCorp facility.\n",
    "\n",
    "\n",
    "| Provider           | City            | Ingredient A | Ingredient B | Ingredient C |\n",
    "|--------------------|-----------------|--------------|--------------|--------------|\n",
    "| Stark Industries   | New Jersey      | 10           | 11           | 12           |\n",
    "| Stark Industries   | Chicago         | 13           | 14           | 15           |\n",
    "| Stark Industries   | Washington D.C. | 16           | 17           | 18           |\n",
    "| Rand Corporation   | New Jersey      | 19           | 20           | 21           |\n",
    "| Rand Corporation   | Chicago         | 22           | 23           | 24           |\n",
    "| Rand Corporation   | Washington D.C. | 25           | 26           | 27           |\n",
    "| Baxter Corporation | New Jersey      | 28           | 29           | 30           |\n",
    "| Baxter Corporation | Chicago         | 31           | 32           | 33           |\n",
    "| Baxter Corporation | Washington D.C. | 34           | 35           | 36           |\n",
    "\n",
    "To ensure the production plan, we need to ensure 1000 liters of Ingredient A, 800 liters of Ingredient B, and 600 liters of Ingredient C. Also, you need to take into account that each supplier has a limited capacity of each ingredient in each city. The following table shows the capacity of each supplier in each city.\n",
    "\n",
    "| Provider           | City            | Ingredient A | Ingredient B | Ingredient C |\n",
    "|--------------------|-----------------|--------------|--------------|--------------|\n",
    "| Stark Industries   | New Jersey      | 100          | 110          | 120          |\n",
    "| Stark Industries   | Chicago         | 80           | 60           | 40           |\n",
    "| Stark Industries   | Washington D.C. | 50           | 70           | 90           |\n",
    "| Rand Corporation   | New Jersey      | 500          | 800          | 600          |\n",
    "| Rand Corporation   | Chicago         | 600          | 400          | 200          |\n",
    "| Rand Corporation   | Washington D.C. | 300          | 200          | 100          |\n",
    "| Baxter Corporation | New Jersey      | 600          | 400          | 200          |\n",
    "| Baxter Corporation | Chicago         | 300          | 200          | 100          |\n",
    "| Baxter Corporation | Washington D.C. | 500          | 800          | 600          |\n",
    "\n",
    "\n",
    "1. Build a linear programming model to determine the optimal transportation plan that minimizes the total transportation cost while ensuring that the overall demand is met. Clearly define the decision variables, objective function, and constraints. You can use compact mathematical notation and variables referring to the values in the tables to safe time. **(1.5 points)**\n",
    "\n",
    "\n",
    "2. Modify your model so that each ingredient can only be sourced from one provider. **(1 point)**\n",
    "\n",
    "\n"
   ]
  },
  {
   "cell_type": "markdown",
   "source": [
    "**Indices**\n",
    "Let us define the following indices:\n",
    "- $i \\in \\{A, B, C\\}$ is the index of the ingredient\n",
    "- $j \\in \\{S, R, B\\}$ is the index of the provider\n",
    "- $k \\in \\{N, C, W\\}$ is the index of the city\n",
    "\n",
    "\n",
    "**Decision Variables**\n",
    "Let us define the following decision variables:\n",
    "- $x_{ijk}$ is the number of containers of ingredient $i$ sourced from provider $j$ in city $k$\n",
    "\n",
    "**Objective Function**\n",
    "The objective is to minimize the distribution costs:\n",
    "\n",
    "$\\min \\sum_{i \\in \\{A, B, C\\}} \\sum_{j \\in \\{S, R, B\\}} \\sum_{k \\in \\{N, C, W\\}} c_{ijk}x_{ijk}$\n",
    "\n",
    "where $c_{ijk}$ is the cost of transporting one container of ingredient $i$ from provider $j$ in city $k$, and is obtained from the first table.\n",
    "\n",
    "**Constraints**\n",
    "The constraints are as follows:\n",
    "$\\sum_{j \\in \\{S, R, B\\}} \\sum_{k \\in \\{N, C, W\\}} x_{ijk} \\geq d_i \\quad \\forall i \\in \\{A, B, C\\}$ (demand constraints)\n",
    "\n",
    "where $d_i$ is the demand of ingredient $i$, and is obtained from the previous exercise (1000, 800, and 600 for ingredients A, B, and C, respectively).\n",
    "\n",
    "$x_{ijk} \\leq c_{ijk} \\quad \\forall i \\in \\{A, B, C\\} \\quad \\forall j \\in \\{S, R, B\\} \\quad \\forall k \\in \\{N, C, W\\}$ (capacity constraints)\n",
    "\n",
    "where $c_{jk}$ is the capacity of provider $j$ in city $k$ for ingredient $i$, and is obtained from the second table.\n",
    "\n",
    "$x_{ijk} \\geq 0 \\quad \\forall i \\in \\{A, B, C\\} \\quad \\forall j \\in \\{S, R, B\\} \\quad \\forall k \\in \\{N, C, W\\}$ (non-negativity constraints)\n",
    "\n",
    "**Modified Model**\n",
    "To modify the model, we need to add the following decision variable:\n",
    "- $y_{ij}$ is a binary variable that is equal to 1 if ingredient $i$ is sourced from provider $j$, and 0 otherwise\n",
    "\n",
    "Since there are no costs associated to the binary variable, the objective function remains the same. We just need to add the following logical constraint:\n",
    "\n",
    "$\\sum_{k \\in \\{N, C, W\\}} x_{ijk} \\leq M·y_{ij} \\quad \\forall i \\in \\{A, B, C\\} \\quad \\forall j \\in \\{S, R, B\\}$ (logical constraint)\n",
    "\n",
    "where $M$ is a large number (e.g., 1000). This constraint ensures that if $y_{ij} = 0$, then $\\sum_{k \\in \\{N, C, W\\}} x_{ijk} = 0$.\n",
    "\n"
   ],
   "metadata": {
    "collapsed": false
   }
  },
  {
   "cell_type": "markdown",
   "source": [
    "# Problem 3\n",
    "## Recruiting a new X-men\n",
    "Professor Charles Xavier, the founder of the X-Men Academy, has come across a new potential recruit for his academy. The skills of the potential recruit are considered extremely rare and highly potent (indeed, she is a mutant with omega-level powers). However, there is a concern that the recruit might turn evil due to the volatile nature of her character. Professor Xavier needs to make a decision on whether to recruit the mutant to join the X-Men or reject the recruitment offer. The following table shows the potential outcomes of the recruitment decision.\n",
    "\n",
    "| Outcome | Probability | Reward |\n",
    "|--|-------------|--------|\n",
    "| candidate enters the academy and does not turn evil | 0.8         | 100    |\n",
    "| candidate enters the academy and turns evil         | 0.2         | -100   |\n",
    "| candidate does not enter the academy and does not turn evil               | 0.3           | 0      |\n",
    "| candidate does not enter the academy and turns evil | 0.7         | -50    |\n",
    "\n",
    "1. Build a decision tree to model the problem. Clearly define the decision nodes, random nodes, and leaf nodes. **(1.5 points)**\n",
    "2. Professor Xavier can ask Destiny, a consultant that can forecast the future, to predict whether the candidate will turn evil or not if she enters the academy. Using the prediction would have a penalty of 25 points in the established reward system. Modify the decision tree in the first section to help Professor Xavier decide if he should hire Destiny to make the prediction. **(1 point)**\n",
    "\n"
   ],
   "metadata": {
    "collapsed": false
   }
  },
  {
   "cell_type": "markdown",
   "source": [
    "# Problem 4\n",
    "## The Last of Us\n",
    "A fungal infection has devastated the human population, resulting in various types of zombies — runners, stalkers, and clickers. Joel and Ellie use Markov chains to model the population of cities and use this information to assess the risk as they travel through America. We will use the same model to analyze the population dynamics of the zombies and estimate the long-term proportions of each zombie type.\n",
    "To help Joel and Ellie, first we need to make the following assumptions:\n",
    "\n",
    "- The population consists of four groups: humans, runners, stalkers, and clickers.\n",
    "- The transition from human to a particular zombie type occurs due to infection by the fungal pathogen.\n",
    "- The transition from one zombie type back to human state is not possible yet.\n",
    "\n",
    "Joel and Ellie have collected the following 1-step transition probabilities (1 step is equivalent to 1 year):\n",
    "\n",
    "| States | Human (H) | Runner (R) | Stalker (S) | Clicker (C) |\n",
    "|--------|-----------|------------|-------------|-------------|\n",
    "| H      |   0.7     | 0.2        | 0.1         | 0           |\n",
    "| R      |   0       | 0.7        | 0.3         | 0           |\n",
    "| S      |   0       | 0.2        | 0.7         | 0.1         |\n",
    "| C      |   0       | 0.4        | 0.1         | 0.5         |\n",
    "\n",
    "1. Draw the transition diagram of the markov chain. **(0.5 points)**\n",
    "2. Two years ago, the population of Arkansas city was 100,000 humans, 10,000 runners, 5,000 stalkers, and 5,000 clickers. What is the expected population of each state now? **(1 point)**\n",
    "3. Find the long-term probabilities of each state. **(1 point)**"
   ],
   "metadata": {
    "collapsed": false
   }
  },
  {
   "cell_type": "markdown",
   "source": [
    "## Solution\n",
    "2. Two years ago, the population of Arkansas city was 100,000 humans, 10,000 runners, 5,000 stalkers, and 5,000 clickers. What is the expected population of each state now? **(1 point)**\n",
    "The initial population vector is:\n",
    "$$A_0 = frac{V_0}{A}= \\begin{bmatrix} 100000 \\\\ 10000 \\\\ 5000 \\\\ 5000 \\end{bmatrix}$$\n",
    "\n",
    "where $A$ is the total population of Arkansas city (120,000) and $V_0$ is the initial population vector.\n",
    "\n",
    "The one-step transition probability matrix is:\n",
    "\n",
    "$$ P^{(1)}=  \\begin{bmatrix} 0.7 && 0.2 && 0.2 && 0 \\\\ 0 && 0.7 && 0.3 && 0 \\\\ 0 && 0.2 && 0.7 && 0.1 \\\\ 0 && 0.4 && 0.1 && 0.5 \\end{bmatrix}$$\n",
    "\n",
    "\n",
    "\n",
    "The population after 1 year is:\n",
    "$$A_1 = A_0 \\times P^{(1)} = \\begin{bmatrix} 70000 && 30000 \\\\ 17000 \\\\ 3000 \\end{bmatrix}$$\n",
    "\n",
    "The population after 2 years is:\n",
    "$$A_2 = A_1 \\times P^{(1)} = \\begin{bmatrix} 49000 && 39600 \\\\ 28200 \\\\ 3200 \\end{bmatrix}$$"
   ],
   "metadata": {
    "collapsed": false
   }
  },
  {
   "cell_type": "code",
   "execution_count": 11,
   "outputs": [
    {
     "name": "stdout",
     "output_type": "stream",
     "text": [
      "[70000. 30000. 17000.  3000.]\n",
      "[49000. 39600. 28200.  3200.]\n",
      "[0.117649 0.410118 0.407264 0.064969]\n",
      "[[0.117649 0.410118 0.407264 0.064969]\n",
      " [0.       0.437383 0.47283  0.089787]\n",
      " [0.       0.434936 0.467312 0.097752]\n",
      " [0.       0.450866 0.4569   0.092234]]\n"
     ]
    }
   ],
   "source": [
    "import numpy as np\n",
    "A0 = np.array([100000, 10000, 5000, 5000])\n",
    "P1 = np.array([[0.7, 0.2, 0.1, 0], [0, 0.7, 0.3, 0], [0, 0.2, 0.7, 0.1], [0, 0.4, 0.1, 0.5]])\n",
    "A1 = A0.dot(P1)\n",
    "print(A1)\n",
    "A2 = A1.dot(P1)\n",
    "print(A2)\n",
    "\n",
    "print(np.array([1, 0, 0, 0]).dot(np.linalg.matrix_power(P1, 6)))\n",
    "print(np.linalg.matrix_power(P1, 6))"
   ],
   "metadata": {
    "collapsed": false
   }
  },
  {
   "cell_type": "markdown",
   "source": [
    "3. Find the long-term probabilities of each state. **(1 point)**\n",
    "\n",
    "To calculate the long term probabilities, we need to solve the following system of equations:\n",
    "\n",
    "$$\\pi_1 = 0.7*\\pi_1$$\n",
    "\n",
    "$$\\pi_2 = 0.2*\\pi_1 + 0.7*\\pi_2 + 0.2*\\pi_3 + 0.4*\\pi_4$$\n",
    "\n",
    "$$\\pi_3 = 0.1*\\pi_1 + 0.3*\\pi_2 + 0.7*\\pi_3 + 0.1*\\pi_4$$\n",
    "\n",
    "$$\\pi_4 = 0.1*\\pi_3 + 0.5*\\pi_4$$\n",
    "\n",
    "$$\\pi_1 + \\pi_2 + \\pi_3 + \\pi_4 = 1$$\n",
    "\n",
    "The solution is:\n",
    "\n"
   ],
   "metadata": {
    "collapsed": false
   }
  },
  {
   "cell_type": "code",
   "execution_count": 8,
   "outputs": [
    {
     "name": "stdout",
     "output_type": "stream",
     "text": [
      "[0.      0.4375  0.46875 0.09375]\n"
     ]
    }
   ],
   "source": [
    "import numpy as np\n",
    "A = np.array([[0.3, 0, 0, 0],\n",
    "              [-0.2, 0.3, -0.2, -0.4],\n",
    "              [-0.1, -0.3, 0.3, -0.1],\n",
    "              [1, 1, 1, 1]])\n",
    "\n",
    "b = np.array([0, 0, 0, 1])\n",
    "\n",
    "x = np.linalg.solve(A, b)\n",
    "print(x)"
   ],
   "metadata": {
    "collapsed": false
   }
  },
  {
   "cell_type": "markdown",
   "metadata": {},
   "source": [
    "**Note 1:** Due to a Non-Disclosure Agreement with OsCorp, we cannot reveal the specific ingredients in the web fluid, and for that reason we use the generic names Ingredient A, Ingredient B, and Ingredient C.\n",
    "\n",
    "**Note 2:** While Destiny is a mutant with the ability to predict the future, she is not a precog. She can only predict the future with a certain probability, and she is not always right.\n",
    "\n",
    "**Note 3:** No zombie or human was harmed during the experiments conducted to collect the 1-step transition probability matrix of problem 4."
   ]
  }
 ],
 "metadata": {
  "kernelspec": {
   "display_name": "Python 3 (ipykernel)",
   "language": "python",
   "name": "python3"
  },
  "language_info": {
   "codemirror_mode": {
    "name": "ipython",
    "version": 3
   },
   "file_extension": ".py",
   "mimetype": "text/x-python",
   "name": "python",
   "nbconvert_exporter": "python",
   "pygments_lexer": "ipython3",
   "version": "3.10.5"
  }
 },
 "nbformat": 4,
 "nbformat_minor": 1
}
