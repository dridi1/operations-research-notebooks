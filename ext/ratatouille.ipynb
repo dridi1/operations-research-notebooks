{
 "cells": [
  {
   "cell_type": "code",
   "execution_count": null,
   "metadata": {
    "collapsed": true
   },
   "outputs": [],
   "source": []
  },
  {
   "cell_type": "code",
   "execution_count": 16,
   "outputs": [
    {
     "name": "stdout",
     "output_type": "stream",
     "text": [
      "Optimal\n"
     ]
    },
    {
     "name": "stderr",
     "output_type": "stream",
     "text": [
      "C:\\Users\\franc\\PycharmProjects\\operations-research-notebooks\\venv\\Lib\\site-packages\\pulp\\pulp.py:1316: UserWarning: Spaces are not permitted in the name. Converted to '_'\n",
      "  warnings.warn(\"Spaces are not permitted in the name. Converted to '_'\")\n"
     ]
    }
   ],
   "source": [
    "import pandas as pd\n",
    "import numpy as np\n",
    "from IPython.display import display, Markdown\n",
    "import pulp\n",
    "\n",
    "model = pulp.LpProblem(\"Maximising profits for Tetravaal\", pulp.LpMinimize)\n",
    "\n",
    "variable_names = ['X1', 'X2', 'X3', 'X4']\n",
    "\n",
    "variables = pulp.LpVariable.dicts(\"grams of ingredient\",\n",
    "                                     (i for i in variable_names),\n",
    "                                     lowBound=0,\n",
    "                                     cat='Continuous')\n",
    "\n",
    "coefficients = [2.5, 2, 3, 2.24]\n",
    "\n",
    "# Objective function\n",
    "model += (\n",
    "    pulp.lpSum([\n",
    "        coefficients[i] * variables[variable_names[i]]\n",
    "        for i in range(len(variable_names))])\n",
    "), \"Cost\"\n",
    "\n",
    "\n",
    "# And the constraints, the Matrix A\n",
    "A=[[1, 0, 0, 0], #Coefficients of the first constraint\n",
    "   [0, 1, 0, 0], #Coefficients of the second constraint\n",
    "   [0, 0, 1, 0], #Coefficients of the third constraint\n",
    "   [0, 0, 0, 1]] #Coefficients of the fourth constraint\n",
    "\n",
    "\n",
    "# And vector b\n",
    "b = [2000, 1900, 1000, 1200] #limits of the availability constraints\n",
    "\n",
    "constraint_names = ['Eggplant', 'Zuccini', 'Pepper', 'Tomatoes']\n",
    "\n",
    "# Constraints\n",
    "for i in range(len(A)):\n",
    "    model += pulp.lpSum([\n",
    "        A[i][j] * variables[variable_names[j]]\n",
    "        for j in range(len(variable_names))]) <= b[i] , constraint_names[i]\n",
    "\n",
    "A2 = [[1, 1, 1, 1],\n",
    "      [1, 1, -1, -1]]\n",
    "\n",
    "b2 = [2000, 0]\n",
    "\n",
    "constraint_names2 = ['Total weight', 'Quality']\n",
    "\n",
    "for i in range(len(A2)):\n",
    "    model += pulp.lpSum([\n",
    "        A2[i][j] * variables[variable_names[j]]\n",
    "        for j in range(len(variable_names))]) >= b2[i] , constraint_names2[i]\n",
    "\n",
    "    # Solve our problem\n",
    "model.solve(solver=pulp.GUROBI(msg = 0))\n",
    "print(pulp.LpStatus[model.status])"
   ],
   "metadata": {
    "collapsed": false
   }
  },
  {
   "cell_type": "code",
   "execution_count": 17,
   "outputs": [
    {
     "data": {
      "text/plain": "<IPython.core.display.Markdown object>",
      "text/markdown": "Total profit is 4024.00 €"
     },
     "metadata": {},
     "output_type": "display_data"
    },
    {
     "data": {
      "text/plain": "<IPython.core.display.Markdown object>",
      "text/markdown": "The following table shows the decision variables: "
     },
     "metadata": {},
     "output_type": "display_data"
    },
    {
     "data": {
      "text/plain": "                 Variables Solution (GRB) Reduced cost (GRB)  \\\nX1  grams_of_ingredient_X1           0.00               0.26   \nX2  grams_of_ingredient_X2        1900.00               0.00   \nX3  grams_of_ingredient_X3           0.00               0.76   \nX4  grams_of_ingredient_X4         100.00               0.00   \n\n   Objective Coefficient (GRB) Objective Lower bound (GRB)  \\\nX1                        2.50                        2.24   \nX2                        2.00                        -Inf   \nX3                        3.00                        2.24   \nX4                        2.24                        2.00   \n\n   Objective Upper bound (GRB)  \nX1                         Inf  \nX2                        2.24  \nX3                         Inf  \nX4                        2.50  ",
      "text/html": "<div>\n<style scoped>\n    .dataframe tbody tr th:only-of-type {\n        vertical-align: middle;\n    }\n\n    .dataframe tbody tr th {\n        vertical-align: top;\n    }\n\n    .dataframe thead th {\n        text-align: right;\n    }\n</style>\n<table border=\"1\" class=\"dataframe\">\n  <thead>\n    <tr style=\"text-align: right;\">\n      <th></th>\n      <th>Variables</th>\n      <th>Solution (GRB)</th>\n      <th>Reduced cost (GRB)</th>\n      <th>Objective Coefficient (GRB)</th>\n      <th>Objective Lower bound (GRB)</th>\n      <th>Objective Upper bound (GRB)</th>\n    </tr>\n  </thead>\n  <tbody>\n    <tr>\n      <th>X1</th>\n      <td>grams_of_ingredient_X1</td>\n      <td>0.00</td>\n      <td>0.26</td>\n      <td>2.50</td>\n      <td>2.24</td>\n      <td>Inf</td>\n    </tr>\n    <tr>\n      <th>X2</th>\n      <td>grams_of_ingredient_X2</td>\n      <td>1900.00</td>\n      <td>0.00</td>\n      <td>2.00</td>\n      <td>-Inf</td>\n      <td>2.24</td>\n    </tr>\n    <tr>\n      <th>X3</th>\n      <td>grams_of_ingredient_X3</td>\n      <td>0.00</td>\n      <td>0.76</td>\n      <td>3.00</td>\n      <td>2.24</td>\n      <td>Inf</td>\n    </tr>\n    <tr>\n      <th>X4</th>\n      <td>grams_of_ingredient_X4</td>\n      <td>100.00</td>\n      <td>0.00</td>\n      <td>2.24</td>\n      <td>2.00</td>\n      <td>2.50</td>\n    </tr>\n  </tbody>\n</table>\n</div>"
     },
     "metadata": {},
     "output_type": "display_data"
    },
    {
     "name": "stdout",
     "output_type": "stream",
     "text": [
      "The following table shows the constraints: \n"
     ]
    },
    {
     "data": {
      "text/plain": "     Constraint Right Hand Side Shadow Price     Slack  Min RHS  Max RHS\n0      Eggplant         2000.00         0.00   2000.00     0.00      Inf\n1       Zuccini         1900.00        -0.24      0.00  1000.00  2000.00\n2        Pepper         1000.00         0.00   1000.00     0.00      Inf\n3      Tomatoes         1200.00         0.00   1100.00   100.00      Inf\n4  Total_weight         2000.00         2.24      0.00  1900.00  3100.00\n5       Quality            0.00         0.00  -1800.00     -inf  1800.00",
      "text/html": "<div>\n<style scoped>\n    .dataframe tbody tr th:only-of-type {\n        vertical-align: middle;\n    }\n\n    .dataframe tbody tr th {\n        vertical-align: top;\n    }\n\n    .dataframe thead th {\n        text-align: right;\n    }\n</style>\n<table border=\"1\" class=\"dataframe\">\n  <thead>\n    <tr style=\"text-align: right;\">\n      <th></th>\n      <th>Constraint</th>\n      <th>Right Hand Side</th>\n      <th>Shadow Price</th>\n      <th>Slack</th>\n      <th>Min RHS</th>\n      <th>Max RHS</th>\n    </tr>\n  </thead>\n  <tbody>\n    <tr>\n      <th>0</th>\n      <td>Eggplant</td>\n      <td>2000.00</td>\n      <td>0.00</td>\n      <td>2000.00</td>\n      <td>0.00</td>\n      <td>Inf</td>\n    </tr>\n    <tr>\n      <th>1</th>\n      <td>Zuccini</td>\n      <td>1900.00</td>\n      <td>-0.24</td>\n      <td>0.00</td>\n      <td>1000.00</td>\n      <td>2000.00</td>\n    </tr>\n    <tr>\n      <th>2</th>\n      <td>Pepper</td>\n      <td>1000.00</td>\n      <td>0.00</td>\n      <td>1000.00</td>\n      <td>0.00</td>\n      <td>Inf</td>\n    </tr>\n    <tr>\n      <th>3</th>\n      <td>Tomatoes</td>\n      <td>1200.00</td>\n      <td>0.00</td>\n      <td>1100.00</td>\n      <td>100.00</td>\n      <td>Inf</td>\n    </tr>\n    <tr>\n      <th>4</th>\n      <td>Total_weight</td>\n      <td>2000.00</td>\n      <td>2.24</td>\n      <td>0.00</td>\n      <td>1900.00</td>\n      <td>3100.00</td>\n    </tr>\n    <tr>\n      <th>5</th>\n      <td>Quality</td>\n      <td>0.00</td>\n      <td>0.00</td>\n      <td>-1800.00</td>\n      <td>-inf</td>\n      <td>1800.00</td>\n    </tr>\n  </tbody>\n</table>\n</div>"
     },
     "metadata": {},
     "output_type": "display_data"
    }
   ],
   "source": [
    "total_profit = pulp.value(model.objective)\n",
    "display(Markdown(\"Total profit is %0.2f €\"%total_profit))\n",
    "\n",
    "display(Markdown(\"The following table shows the decision variables: \"))\n",
    "var_df = pd.DataFrame.from_dict(variables, orient=\"index\",\n",
    "                                columns = [\"Variables\"])\n",
    "\n",
    "var_df[\"Solution (GRB)\"] = var_df[\"Variables\"].apply(lambda item: \"{:.2f}\".format(item.solverVar.X))\n",
    "var_df[\"Reduced cost (GRB)\"] = var_df[\"Variables\"].apply(lambda item: \"{:.2f}\".format(item.solverVar.RC))\n",
    "var_df[\"Objective Coefficient (GRB)\"] = var_df[\"Variables\"].apply(lambda item: \"{:.2f}\".format(item.solverVar.Obj))\n",
    "var_df[\"Objective Lower bound (GRB)\"] = var_df[\"Variables\"].apply(lambda item: \"{:.2f}\".format(item.solverVar.SAObjLow) if item.solverVar.SAObjLow > -0.1 else \"-Inf\" )\n",
    "var_df[\"Objective Upper bound (GRB)\"] = var_df[\"Variables\"].apply(lambda item: \"{:.2f}\".format(item.solverVar.SAObjUp) if item.solverVar.SAObjUp != item.solverVar.UB else \"Inf\")\n",
    "\n",
    "\n",
    "display(var_df)\n",
    "\n",
    "\n",
    "const_dict = dict(model.constraints)\n",
    "con_df = pd.DataFrame.from_records(list(const_dict.items()), exclude=[\"Expression\"], columns=[\"Constraint\", \"Expression\"])\n",
    "con_df[\"Right Hand Side\"]=con_df[\"Constraint\"].apply(lambda item: \"{:.2f}\".format(const_dict[item].solverConstraint.RHS))\n",
    "con_df[\"Shadow Price\"]=con_df[\"Constraint\"].apply(lambda item: \"{:.2f}\".format(const_dict[item].solverConstraint.Pi))\n",
    "con_df[\"Slack\"]=con_df[\"Constraint\"].apply(lambda item: \"{:.2f}\".format(const_dict[item].solverConstraint.Slack))\n",
    "con_df[\"Min RHS\"]=con_df[\"Constraint\"].apply(lambda item: \"{:.2f}\".format(const_dict[item].solverConstraint.SARHSLow) )\n",
    "con_df[\"Max RHS\"]=con_df[\"Constraint\"].apply(lambda item: \"{:.2f}\".format(const_dict[item].solverConstraint.SARHSUp) if const_dict[item].solverConstraint.SARHSUp < 1e10 else \"Inf\" )\n",
    "\n",
    "\n",
    "print(\"The following table shows the constraints: \")\n",
    "display(con_df)"
   ],
   "metadata": {
    "collapsed": false
   }
  },
  {
   "cell_type": "code",
   "execution_count": null,
   "outputs": [],
   "source": [],
   "metadata": {
    "collapsed": false
   }
  }
 ],
 "metadata": {
  "kernelspec": {
   "display_name": "Python 3",
   "language": "python",
   "name": "python3"
  },
  "language_info": {
   "codemirror_mode": {
    "name": "ipython",
    "version": 2
   },
   "file_extension": ".py",
   "mimetype": "text/x-python",
   "name": "python",
   "nbconvert_exporter": "python",
   "pygments_lexer": "ipython2",
   "version": "2.7.6"
  }
 },
 "nbformat": 4,
 "nbformat_minor": 0
}
