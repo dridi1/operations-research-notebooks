{
 "cells": [
  {
   "cell_type": "markdown",
   "metadata": {
    "collapsed": true
   },
   "source": [
    "# Training Pokemon\n",
    "## Problem Definition\n",
    "Ash Ketchum is a renowned Pokémon trainer. He thinks that his most beloved Pokémon, Pikachu, could have been injured in the last battle of the Winners Trophy play-offs.\n",
    "Therefore, the question is:\n",
    "\n",
    "should he use Pikachu in the next battle against Team Rocket?\n",
    "\n",
    "The trainer thinks that there is a probability of 0.1 of victory. However, if Pikachu participates in the fight, his injury could worsen.\n",
    "Ash thinks that there is a probability of 0.2 that Pikachu is actually injured from the last battle.\n",
    "\n",
    "The utilities (in points) that the trainer employs are:\n",
    "\n",
    "- if Pikachu fights, and Ash wins the battle, and Pikachu is not injured, +100;\n",
    "\n",
    "- if Pikachu fights, and Ash wins the battle, and Pikachu is injured, +50;\n",
    "\n",
    "- if Pikachu fights, and Ash loses the battle, and Pikachu is not injured, 0;\n",
    "\n",
    "- if Pikachu fights, and Ash loses the battle, and Pikachu is injured, -50\n",
    "\n",
    "- If Pikachu does not fight and Pikachu is injured, the utility is -10, \n",
    "\n",
    "- If Pikachu does not fight and Pikachu is not injured, the utility is 0.\n",
    "\n",
    "Ash wants to use decision theory to support his decision-making in the battle against Team Rocket.\n",
    "\n",
    "**a**. Draw the decision tree for this problem considering that the probabilities of the result of the battle and the injury are independent.\n",
    "\n",
    "**b**. Determine which is the best decision for Ash.\n",
    "\n",
    "**c**. Ash could acquire further information about the probabilities of the result of the battle. The additional information determines the result of the battle (Win or lose), and based on previous results, it has a certain accuracy to successfully predict the result of the battle.\n",
    "Draw again the decision tree to incorporate into the decision problem the acquisition of this imperfect information about the result of the battle, indicating in the corresponding branches the revised probabilities\n",
    "\n",
    "\n"
   ]
  }
 ],
 "metadata": {
  "kernelspec": {
   "display_name": "Python 3",
   "language": "python",
   "name": "python3"
  },
  "language_info": {
   "codemirror_mode": {
    "name": "ipython",
    "version": 2
   },
   "file_extension": ".py",
   "mimetype": "text/x-python",
   "name": "python",
   "nbconvert_exporter": "python",
   "pygments_lexer": "ipython2",
   "version": "2.7.6"
  },
  "pycharm": {
   "stem_cell": {
    "cell_type": "raw",
    "source": [],
    "metadata": {
     "collapsed": false
    }
   }
  }
 },
 "nbformat": 4,
 "nbformat_minor": 0
}
