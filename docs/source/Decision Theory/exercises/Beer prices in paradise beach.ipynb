{
 "cells": [
  {
   "cell_type": "markdown",
   "metadata": {},
   "source": [
    "# Beer prices in Paradise Beach\n",
    "## Problem definition\n",
    "There are two bars in the paradise beach resort, Awesome Sloth and Brave Flamingo. Each one of the two bars charges its own price for a beer, either 2€, 4€, or 5€. The cost of obtaining and serving the beer can be neglected. It is expected that 60% of the tourists are relaxed and casual and choose the bars randomly regardless of the price, while 40% are more thoughtful and will go to the bar with the lowest price, and split evenly in case both bars offer the same price. \n",
    "\n",
    "**a)** Consider a sample of 100 guests and represent the beer price decision making as a game with two players where the objective is to maximise revenues"
   ]
  },
  {
   "cell_type": "markdown",
   "metadata": {},
   "source": [
    "**b)** Represent the beer price decision making as a zero sum game where the objective is to maximise the percentage of reveneues per beer sales in the resort "
   ]
  }
 ],
 "metadata": {
  "kernelspec": {
   "display_name": "Python 3",
   "language": "python",
   "name": "python3"
  },
  "language_info": {
   "codemirror_mode": {
    "name": "ipython",
    "version": 3
   },
   "file_extension": ".py",
   "mimetype": "text/x-python",
   "name": "python",
   "nbconvert_exporter": "python",
   "pygments_lexer": "ipython3",
   "version": "3.7.4"
  },
  "pycharm": {
   "stem_cell": {
    "cell_type": "raw",
    "source": [],
    "metadata": {
     "collapsed": false
    }
   }
  }
 },
 "nbformat": 4,
 "nbformat_minor": 2
}