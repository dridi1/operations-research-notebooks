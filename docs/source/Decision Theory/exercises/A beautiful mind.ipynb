{
 "cells": [
  {
   "cell_type": "markdown",
   "metadata": {
    "collapsed": true
   },
   "source": [
    "# A beautiful mind\n",
    "## Problem definition\n",
    "Alice and Bernadette have recently watched the movie \"A beautiful mind\". This movie tells the life of John Nash. Alice and Bernadette have just studied Decision Theory in their course on Operations Research at EDEM.\n",
    "They find the movie entertaining, but they are not convinced that the famous scene where Nash seems to realize the Nash equilibrium is accurate. On another note, they find it extremely sexist. So, they decide to run a little experiment\n",
    "on their own to test whether they can do a better model using a similar scenario and at the same time take a little revenge on the screenwriter.\n",
    "Both students go to a bar and spot two boys, a blond (most likely Swedish) and a brunette (most likely from Murcia).\n",
    "\n",
    "Alice will direct the experiment and Bernadette will act as the guinea pig and will need to interact with the boys.\n",
    "\n",
    "Now, for the experiment, they consider that given the context and environment, if Bernadette approaches the blond he has 65% chances of establishing a healthy relationship, whereas, if she approaches the brunette, she has a 53% possibility to\n",
    "establish a healthy relationship.\n",
    "\n",
    "In their personal rebellion against the screenwriters, they set the following scores for their experiment:\n",
    "- 2 if Bernadette establishes a (healthy and friendly) relationship with the brunette\n",
    "- 1 if Bernadette establishes a (healthy and friendly) relationship with the blond\n",
    "- 0 if Bernadette does not establish any relation at all.\n",
    "\n",
    "a) Model the decision-making process by Bernadette as a decision tree\n",
    "\n",
    "\n",
    "\n",
    "b) Solve the decision tree\n",
    "\n",
    "\n",
    "\n",
    "c) Now, they would like to test the business model of a novel match-making startup that just landed in Lanzadera. This company offers a payment service that uses machine learning models and social media mining to tell you whether if you will have a healthy and friendly\n",
    "relationship with another person or not, if you just know his or her Instagram account.\n",
    "They have performed a study and whenever they predict a match, 95% of the time people actually establish a healthy and friendly relationship. They have also analysed cases when their application says that there is no match and the prediction is right 85% of the cases.\n",
    "Incorporate into the decision model whether they should use the match-making service or not\n",
    "\n",
    "\n",
    "d) What is the maximum cost in the same unit of their score system Bernadette should be willing to pay?\n"
   ]
  }
 ],
 "metadata": {
  "kernelspec": {
   "display_name": "Python 3",
   "language": "python",
   "name": "python3"
  },
  "language_info": {
   "codemirror_mode": {
    "name": "ipython",
    "version": 2
   },
   "file_extension": ".py",
   "mimetype": "text/x-python",
   "name": "python",
   "nbconvert_exporter": "python",
   "pygments_lexer": "ipython2",
   "version": "2.7.6"
  },
  "pycharm": {
   "stem_cell": {
    "cell_type": "raw",
    "source": [],
    "metadata": {
     "collapsed": false
    }
   }
  }
 },
 "nbformat": 4,
 "nbformat_minor": 0
}
