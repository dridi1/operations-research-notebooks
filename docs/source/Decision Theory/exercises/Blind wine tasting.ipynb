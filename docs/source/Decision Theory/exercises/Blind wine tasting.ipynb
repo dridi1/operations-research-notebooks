{
 "cells": [
  {
   "cell_type": "markdown",
   "metadata": {
    "collapsed": true,
    "pycharm": {
     "name": "#%% md\n"
    }
   },
   "source": [
    "# Blind wine tasting\n",
    "## Problem Definition\n",
    "María and Alberto (names have been selected randomly, any resemblance with reality is pure coincidence) are two classmates that want to celebrate the end of the course with a game. They will go to their favourite bar and Alberto will randomly select a bottle of wine from the wine list. María will do a blind testing of the wine, with no possibility to see the wine selected by Alberto. If María guesses the type of wine (red or white) just by holding her glass, Alberto will pay 20€. Otherwise if she fails, María will pay Alberto 10€. She may also taste the wine for 5€ (that is, Alberto will discount 5€ of the bet if she guesses the type of wine, or María will pay 5€ extra if she does not).\n",
    "\n",
    "María thinks she can use decision theory to improve her chances of winning the bet. She knows that in the wine list of their favourite bar, there are 15 bottles of red wine and 11 of white wine. She has also done some blind wine tasting to prepare for the bet and found out that it is actually not that easy to guess the colour of the wine just by tasting it blind-folded. She guessed correctly 3/4 of the times she tried a white wine and 2/4 of the times she tried a red wine. \n",
    "\n",
    "**a** Draw the decision tree for María without taking into account that she may test the wine to get additional information.\n",
    "\n",
    "\n",
    "**b** Modify the decision tree for María now taking into account that she may test the wine.\n",
    "\n",
    "\n",
    "**c** What is the best alternative for María? \n",
    "\n"
   ]
  }
 ],
 "metadata": {
  "kernelspec": {
   "display_name": "${KERNEL_SPEC_DISPLAY_NAME}",
   "language": "${KERNEL_SPEC_LANGUAGE}",
   "name": "${KERNEL_SPEC_NAME}"
  },
  "language_info": {
   "codemirror_mode": {
    "name": "ipython",
    "version": 2
   },
   "file_extension": ".py",
   "mimetype": "text/x-python",
   "name": "python",
   "nbconvert_exporter": "python",
   "pygments_lexer": "ipython2",
   "version": "2.7.6"
  },
  "pycharm": {
   "stem_cell": {
    "cell_type": "raw",
    "source": [],
    "metadata": {
     "collapsed": false
    }
   }
  }
 },
 "nbformat": 4,
 "nbformat_minor": 0
}