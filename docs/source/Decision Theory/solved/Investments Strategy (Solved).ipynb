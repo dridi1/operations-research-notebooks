{
 "cells": [
  {
   "cell_type": "markdown",
   "metadata": {},
   "source": [
    "# Investments Strategy\n",
    "## Problem definition\n",
    "An investor wishes to invest €12,000 over a 1-year period, although he/she must decide to invest in market shares and/or gold. The profitability ratios  estimated for each investment are based on the possible states of economy (see Table).\n",
    "\n",
    "| Investment         \t | Growth \t | Mean Growth \t | Stabilisation \t | Poor Growth \t |\n",
    "|----------------------|----------|---------------|-----------------|---------------|\n",
    "| Market shares \t      | 5      \t | 4           \t | 3             \t | -1          \t |\n",
    "| Gold          \t      | 2      \t | 3           \t | 4             \t | 5           \t |\n",
    "\n",
    "Consider a zero-sum Games Theory model with two players and answer the\n",
    "following:\n",
    "\n",
    "**a)** How should the investor invest the €12,000 to carry out the optimal strategy?\n",
    "The interpretation of this Games Theory problem is that the investor is playing against the states of nature (the states of economy).\n",
    "Since there is no data available regarding the probabilities of the states of nature, the optimal strategy may be based on a mixed strategy considering the market as the other player.\n",
    "Let us add a constant k = 1 to make all the profitability ratios positive. Adding this constant value to the table yields:\n",
    "\n",
    "| Investment         \t | Growth \t | Mean Growth \t | Stabilisation \t | Poor Growth \t |\n",
    "|----------------------|----------|---------------|-----------------|---------------|\n",
    "| Market shares \t      | 6      \t | 5           \t | 4             \t | 0          \t  |\n",
    "| Gold          \t      | 3      \t | 4           \t | 5             \t | 6           \t |\n",
    "\n",
    "The optimal strategy for the investor is obtained through the following continuous linear programming problem:\n",
    "\n",
    "$min z = x_1 + x_2$\n",
    "\n",
    "$\\text{s.t.}$\n",
    "\n",
    "$6*x_1 + 3*x_2 \\geq 1$\n",
    "\n",
    "$5*x_1 + 4*x_2 \\geq 1$\n",
    "\n",
    "$4*x_1 + 5*x_2 \\geq 1$\n",
    "\n",
    "$0*x_1 + 6*x_2 \\geq 1$\n",
    "\n",
    "where:\n",
    "\n",
    "$p_1 = \\frac{x_1}{(x_1 + x_2)}$\n",
    "\n",
    "Is the probability that the investor will invest in market shares if he/she chooses the optimal strategy, and:\n",
    "\n",
    "$p_2 = \\frac{x_2}{(x_1 + x_2)}$\n",
    "\n",
    "Is the probability that the investor will invest in gold if he/she chooses the optimal strategy.\n",
    "\n",
    "Therefore, given 12K€ to invest, the investor should invest 12K€*p_1 in marketing and 12K€*p_2 in gold.\n",
    "\n",
    "We would need a solver to find the actual values. The values provided by a solver are p_1 = 0.33 and p_2 = 0.67, therefore the investor should invest 12K€*0.33 = 4K€ in marketing and 12K€*0.67 = 8K€ in gold.\n",
    "\n",
    "**b)** What mean profitability value is obtained?\n",
    "Recall that the objective function is inversely proportional to the lower bound of the profitability ratio, and that we added a constant k = 1 to make all the profitability ratios positive, so:\n",
    "\n",
    "$z = x_1 +x_2 = \\frac{p_1 + p_2}{v} = \\frac{1}{v}$"
   ]
  },
  {
   "cell_type": "markdown",
   "metadata": {},
   "source": [
    "With this expression we can obtain the mean profitability value, recalling that we need to subtract k, since we added the constant to make all the profitability ratios positive."
   ]
  }
 ],
 "metadata": {
  "kernelspec": {
   "display_name": "Python 3",
   "language": "python",
   "name": "python3"
  },
  "language_info": {
   "codemirror_mode": {
    "name": "ipython",
    "version": 3
   },
   "file_extension": ".py",
   "mimetype": "text/x-python",
   "name": "python",
   "nbconvert_exporter": "python",
   "pygments_lexer": "ipython3",
   "version": "3.7.4"
  }
 },
 "nbformat": 4,
 "nbformat_minor": 2
}
