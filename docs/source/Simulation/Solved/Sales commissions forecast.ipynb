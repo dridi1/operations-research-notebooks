{
 "cells": [
  {
   "cell_type": "markdown",
   "metadata": {
    "slideshow": {
     "slide_type": "slide"
    }
   },
   "source": [
    "# Sales commissions forecast\n",
    "\n",
    "## Try me\n",
    " [![Open In Colab](https://colab.research.google.com/assets/colab-badge.svg)](https://colab.research.google.com/github/ffraile/operations-research-notebooks/blob/main/docs/source/Simulation/Solved/Sales%20commissions%20forecast.ipynb)[![Binder](https://mybinder.org/badge_logo.svg)](https://mybinder.org/v2/gh/ffraile/operations-research-notebooks/main?labpath=docs%2Fsource%2FSimulation%2FSolved%2FSales%20commissions%20forecast.ipynb)\n",
    "\n",
    "## Problem Definition\n",
    "A company with 5 sales managers wants to provision budget to pay sales commissions to sales managers. The company applies a commission rate based on the percentage of target sales obtained, given by the following table:\n",
    "\n",
    "| Sales / Target ratio \t| Commission Rate \t|\n",
    "|----------------------\t|-----------------\t|\n",
    "| 0-90 %               \t| 2%              \t|\n",
    "| 90-100%               | 3%              \t|\n",
    "| >= 100%              \t| 4%              \t|\n"
   ]
  },
  {
   "cell_type": "markdown",
   "metadata": {
    "slideshow": {
     "slide_type": "fragment"
    }
   },
   "source": [
    "Each salesman will be compensanted with the commission rate times the total sales obtained. The following table shows the target sales for the five sales managers:\n",
    "\n",
    "| Sales Manager \t| Sales Target (€) \t|\n",
    "|---------------\t|------------------\t|\n",
    "| 1             \t| 100,000          \t|\n",
    "| 2             \t| 200,000          \t|\n",
    "| 3             \t| 75,000           \t|\n",
    "| 4             \t| 400,000          \t|\n",
    "| 5             \t| 500,000          \t|\n",
    "\n"
   ]
  },
  {
   "cell_type": "markdown",
   "metadata": {
    "slideshow": {
     "slide_type": "subslide"
    }
   },
   "source": [
    "**a)** Estimate the budget for sales commissions the company has to pay in the scenario where all sales managers get exactly the 100% of the sales target (naive approach).\n",
    "\n",
    "**b)** The company has a historic record of sales for the five sales managers and from this record, it can estimate that the Percent to Plan (The ratio between the actual sales and the sales target) can be modelled by a normal distribution with a mean of 100% and standard deviation of 10%. Use this insight to estimate the budget for sales commissions using a MonteCarlo distribution. "
   ]
  },
  {
   "cell_type": "markdown",
   "metadata": {
    "slideshow": {
     "slide_type": "slide"
    }
   },
   "source": [
    "## Solution\n",
    "**a)** In the requested scenario, the sales obtained by each sales manager are represented in the table below:\n",
    "\n",
    "\n",
    "| Sales Manager \t| Sales Target (€) \t| Actual Sales (€) \t| Percent to Plan (%) \t| Commission Rate (€) \t| Commission Amount (€) \t|\n",
    "|---------------\t|------------------\t|------------------\t|---------------------\t|---------------------\t|-----------------------\t|\n",
    "| 1             \t| 100,000          \t| 100,000          \t| 100                 \t| 4                   \t| 4,000                 \t|\n",
    "| 2             \t| 200,000          \t| 200,000          \t| 100                 \t| 4                   \t| 8,000                 \t|\n",
    "| 3             \t| 75,000           \t| 75,000           \t| 100                 \t| 4                   \t| 3,000                 \t|\n",
    "| 4             \t| 400,000          \t| 400,000          \t| 100                 \t| 4                   \t| 16,000                \t|\n",
    "| 5             \t| 500,000          \t| 500,000          \t| 100                 \t| 4                   \t| 20,000                \t|\n",
    "\n",
    "The total budget for sales commission can be obtained with the summation of the last column (51,000€)"
   ]
  },
  {
   "cell_type": "markdown",
   "metadata": {
    "slideshow": {
     "slide_type": "subslide"
    }
   },
   "source": [
    "**b)** In order to estimate the budget using Montecarlo, we are going to use the Python numpy package to calculate the probability distribution."
   ]
  },
  {
   "cell_type": "markdown",
   "metadata": {
    "slideshow": {
     "slide_type": "subslide"
    }
   },
   "source": [
    "First we import the libraries we are going to use:"
   ]
  },
  {
   "cell_type": "code",
   "execution_count": 45,
   "metadata": {
    "slideshow": {
     "slide_type": "fragment"
    },
    "pycharm": {
     "is_executing": false
    }
   },
   "outputs": [],
   "source": [
    "\n",
    "import pandas as pd\n",
    "import numpy as np\n"
   ]
  },
  {
   "cell_type": "markdown",
   "metadata": {
    "slideshow": {
     "slide_type": "subslide"
    }
   },
   "source": [
    "Then we initialise the data needed to model the problem"
   ]
  },
  {
   "cell_type": "code",
   "execution_count": 46,
   "metadata": {
    "slideshow": {
     "slide_type": "fragment"
    },
    "pycharm": {
     "is_executing": false
    }
   },
   "outputs": [],
   "source": [
    "\n",
    "avg = 1\n",
    "std_dev = .1\n",
    "num_simulations = 1000\n",
    "\n",
    "sales_target_values = np.array([100000, 200000, 75000, 400000, 500000])\n",
    "\n",
    "# Define a function to calculate the commission rate depending on the rate to target\n",
    "def calc_com_rate(x):\n",
    "    if x <= 0.9:\n",
    "        return 0.02\n",
    "    elif x <= 1:\n",
    "        return 0.03\n",
    "    else:\n",
    "        return 0.04\n",
    "    \n",
    "# You can also use a lambda:\n",
    "# calc_com_rate = lambda x: 0.02 if x <= 0.9 else 0.03 if x <= 0.99 else 0.04 \n",
    "\n",
    "# Vectorize the function so that we can apply it to vectors and matrices\n",
    "v_calc_com_rate = np.vectorize(calc_com_rate)\n",
    "\n",
    "# Define a list to keep all the results from each simulation that we want to analyze\n",
    "all_stats = np.zeros((num_simulations, 3))\n",
    "\n",
    "\n",
    "\n"
   ]
  },
  {
   "cell_type": "markdown",
   "metadata": {
    "slideshow": {
     "slide_type": "subslide"
    }
   },
   "source": [
    "Now we run the simulations in a for loop:"
   ]
  },
  {
   "cell_type": "code",
   "execution_count": 47,
   "metadata": {
    "slideshow": {
     "slide_type": "fragment"
    },
    "pycharm": {
     "is_executing": false
    }
   },
   "outputs": [],
   "source": [
    "# Loop through simulations\n",
    "for i in range(num_simulations):\n",
    "\n",
    "    # Choose random inputs for the sales targets and percent to target\n",
    "    pct_to_target = np.random.normal(avg, std_dev, len(sales_target_values))\n",
    "\n",
    "    #Calculate actual sales\n",
    "    sales = pct_to_target*sales_target_values\n",
    "    \n",
    "    # Determine the commissions rate and calculate it\n",
    "    commission_rate = v_calc_com_rate(np.array(pct_to_target))\n",
    "\n",
    "    # Calculate the commission\n",
    "    commission = sales*commission_rate\n",
    "    \n",
    "    # We want to track sales,commission amounts and sales targets over all the simulations\n",
    "    # Sum values among sales managers and calculate the mean commission rate\n",
    "    all_stats[i,:] = [np.sum(sales),\n",
    "                      np.sum(commission),\n",
    "                      np.mean(commission_rate)]\n",
    "\n",
    "\n",
    "results_df = pd.DataFrame.from_records(all_stats, columns=['Sales',\n",
    "                                                           'Commission_Amount',\n",
    "                                                           'Commission_Rate'])"
   ]
  },
  {
   "cell_type": "markdown",
   "metadata": {
    "slideshow": {
     "slide_type": "subslide"
    }
   },
   "source": [
    "Finally, we represent the results and calculate the confidence interval:"
   ]
  },
  {
   "cell_type": "code",
   "execution_count": 48,
   "metadata": {
    "slideshow": {
     "slide_type": "fragment"
    },
    "pycharm": {
     "is_executing": false
    }
   },
   "outputs": [
    {
     "data": {
      "text/plain": "              Sales  Commission_Amount  Commission_Rate\ncount  1.000000e+03        1000.000000      1000.000000\nmean   1.275014e+06       44052.103207         0.033898\nstd    6.787145e+04        6867.089676         0.003249\nmin    1.074120e+06       23942.116488         0.024000\n25%    1.229842e+06       39561.533879         0.032000\n50%    1.275006e+06       44543.493621         0.034000\n75%    1.317589e+06       49169.062538         0.036000\nmax    1.478058e+06       58539.162650         0.040000",
      "text/html": "<div>\n<style scoped>\n    .dataframe tbody tr th:only-of-type {\n        vertical-align: middle;\n    }\n\n    .dataframe tbody tr th {\n        vertical-align: top;\n    }\n\n    .dataframe thead th {\n        text-align: right;\n    }\n</style>\n<table border=\"1\" class=\"dataframe\">\n  <thead>\n    <tr style=\"text-align: right;\">\n      <th></th>\n      <th>Sales</th>\n      <th>Commission_Amount</th>\n      <th>Commission_Rate</th>\n    </tr>\n  </thead>\n  <tbody>\n    <tr>\n      <th>count</th>\n      <td>1.000000e+03</td>\n      <td>1000.000000</td>\n      <td>1000.000000</td>\n    </tr>\n    <tr>\n      <th>mean</th>\n      <td>1.275014e+06</td>\n      <td>44052.103207</td>\n      <td>0.033898</td>\n    </tr>\n    <tr>\n      <th>std</th>\n      <td>6.787145e+04</td>\n      <td>6867.089676</td>\n      <td>0.003249</td>\n    </tr>\n    <tr>\n      <th>min</th>\n      <td>1.074120e+06</td>\n      <td>23942.116488</td>\n      <td>0.024000</td>\n    </tr>\n    <tr>\n      <th>25%</th>\n      <td>1.229842e+06</td>\n      <td>39561.533879</td>\n      <td>0.032000</td>\n    </tr>\n    <tr>\n      <th>50%</th>\n      <td>1.275006e+06</td>\n      <td>44543.493621</td>\n      <td>0.034000</td>\n    </tr>\n    <tr>\n      <th>75%</th>\n      <td>1.317589e+06</td>\n      <td>49169.062538</td>\n      <td>0.036000</td>\n    </tr>\n    <tr>\n      <th>max</th>\n      <td>1.478058e+06</td>\n      <td>58539.162650</td>\n      <td>0.040000</td>\n    </tr>\n  </tbody>\n</table>\n</div>"
     },
     "metadata": {},
     "output_type": "execute_result",
     "execution_count": 48
    }
   ],
   "source": [
    "results_df.describe()"
   ]
  },
  {
   "cell_type": "code",
   "execution_count": 49,
   "metadata": {
    "pycharm": {
     "is_executing": false
    }
   },
   "outputs": [
    {
     "name": "stderr",
     "text": [
      "c:\\users\\ffraile\\appdata\\local\\programs\\python\\python37\\lib\\site-packages\\pandas\\plotting\\_matplotlib\\tools.py:307: MatplotlibDeprecationWarning: \n",
      "The rowNum attribute was deprecated in Matplotlib 3.2 and will be removed two minor releases later. Use ax.get_subplotspec().rowspan.start instead.\n",
      "  layout[ax.rowNum, ax.colNum] = ax.get_visible()\n",
      "c:\\users\\ffraile\\appdata\\local\\programs\\python\\python37\\lib\\site-packages\\pandas\\plotting\\_matplotlib\\tools.py:307: MatplotlibDeprecationWarning: \n",
      "The colNum attribute was deprecated in Matplotlib 3.2 and will be removed two minor releases later. Use ax.get_subplotspec().colspan.start instead.\n",
      "  layout[ax.rowNum, ax.colNum] = ax.get_visible()\n",
      "c:\\users\\ffraile\\appdata\\local\\programs\\python\\python37\\lib\\site-packages\\pandas\\plotting\\_matplotlib\\tools.py:313: MatplotlibDeprecationWarning: \n",
      "The rowNum attribute was deprecated in Matplotlib 3.2 and will be removed two minor releases later. Use ax.get_subplotspec().rowspan.start instead.\n",
      "  if not layout[ax.rowNum + 1, ax.colNum]:\n",
      "c:\\users\\ffraile\\appdata\\local\\programs\\python\\python37\\lib\\site-packages\\pandas\\plotting\\_matplotlib\\tools.py:313: MatplotlibDeprecationWarning: \n",
      "The colNum attribute was deprecated in Matplotlib 3.2 and will be removed two minor releases later. Use ax.get_subplotspec().colspan.start instead.\n",
      "  if not layout[ax.rowNum + 1, ax.colNum]:\n"
     ],
     "output_type": "stream"
    },
    {
     "data": {
      "text/plain": "<Figure size 432x288 with 4 Axes>",
      "image/png": "[encoded data removed]"
     },
     "metadata": {
      "needs_background": "light"
     },
     "output_type": "display_data"
    }
   ],
   "source": [
    "hist = results_df.hist(bins=100)"
   ]
  },
  {
   "cell_type": "code",
   "execution_count": 50,
   "metadata": {
    "slideshow": {
     "slide_type": "subslide"
    },
    "pycharm": {
     "is_executing": false
    }
   },
   "outputs": [
    {
     "name": "stdout",
     "text": [
      "95% confidence interval is:  (43626.697262449656, 44477.5091506711)\n",
      "or\n",
      "(43626.697262449656, 44477.5091506711)\n"
     ],
     "output_type": "stream"
    }
   ],
   "source": [
    "import scipy.stats as st\n",
    "#Calculate the 95% confidence interval\n",
    "\n",
    "# We collect the results from the data frame\n",
    "a = np.array(results_df['Commission_Amount'])\n",
    "\n",
    "\n",
    "# loc is used to center the distribution at mean of array\n",
    "# scale is used to scale the distribution according to the standard error \n",
    "# of the mean (st.sem)\n",
    "arr_standard_dev = np.std(a)/(len(a)**0.5)\n",
    "arr_mean = np.mean(a)\n",
    "interval = (st.norm.ppf(0.025, loc= arr_mean, scale=arr_standard_dev), st.norm.ppf(0.975, loc= arr_mean, scale=arr_standard_dev))"
   ]
  },
  {
   "cell_type": "code",
   "execution_count": 51,
   "metadata": {
    "slideshow": {
     "slide_type": "skip"
    },
    "pycharm": {
     "is_executing": false
    }
   },
   "outputs": [
    {
     "data": {
      "text/plain": "              Sales  Commission_Amount  Commission_Rate\ncount  1.000000e+03        1000.000000      1000.000000\nmean   1.274653e+06       43849.666014         0.033772\nstd    6.770009e+04        6868.545178         0.003330\nmin    1.070847e+06       22201.173382         0.020000\n25%    1.228111e+06       39223.966965         0.032000\n50%    1.275056e+06       44283.089045         0.034000\n75%    1.320497e+06       49146.611184         0.036000\nmax    1.469480e+06       58207.805777         0.040000",
      "text/html": "<div>\n<style scoped>\n    .dataframe tbody tr th:only-of-type {\n        vertical-align: middle;\n    }\n\n    .dataframe tbody tr th {\n        vertical-align: top;\n    }\n\n    .dataframe thead th {\n        text-align: right;\n    }\n</style>\n<table border=\"1\" class=\"dataframe\">\n  <thead>\n    <tr style=\"text-align: right;\">\n      <th></th>\n      <th>Sales</th>\n      <th>Commission_Amount</th>\n      <th>Commission_Rate</th>\n    </tr>\n  </thead>\n  <tbody>\n    <tr>\n      <th>count</th>\n      <td>1.000000e+03</td>\n      <td>1000.000000</td>\n      <td>1000.000000</td>\n    </tr>\n    <tr>\n      <th>mean</th>\n      <td>1.274653e+06</td>\n      <td>43849.666014</td>\n      <td>0.033772</td>\n    </tr>\n    <tr>\n      <th>std</th>\n      <td>6.770009e+04</td>\n      <td>6868.545178</td>\n      <td>0.003330</td>\n    </tr>\n    <tr>\n      <th>min</th>\n      <td>1.070847e+06</td>\n      <td>22201.173382</td>\n      <td>0.020000</td>\n    </tr>\n    <tr>\n      <th>25%</th>\n      <td>1.228111e+06</td>\n      <td>39223.966965</td>\n      <td>0.032000</td>\n    </tr>\n    <tr>\n      <th>50%</th>\n      <td>1.275056e+06</td>\n      <td>44283.089045</td>\n      <td>0.034000</td>\n    </tr>\n    <tr>\n      <th>75%</th>\n      <td>1.320497e+06</td>\n      <td>49146.611184</td>\n      <td>0.036000</td>\n    </tr>\n    <tr>\n      <th>max</th>\n      <td>1.469480e+06</td>\n      <td>58207.805777</td>\n      <td>0.040000</td>\n    </tr>\n  </tbody>\n</table>\n</div>"
     },
     "metadata": {},
     "output_type": "execute_result",
     "execution_count": 51
    }
   ],
   "source": [
    "import pandas as pd\n",
    "import numpy as np\n",
    "\n",
    "avg = 1\n",
    "std_dev = .1\n",
    "num_reps = 500\n",
    "num_simulations = 1000\n",
    "\n",
    "sales_target_values = np.array([100000, 200000, 75000, 400000, 500000])\n",
    "\n",
    "# Define a lambda function to calculate the ratio\n",
    "calc_com_rate = lambda x: 0.02 if x <= 0.9 else 0.03 if x <= 0.99 else 0.04 \n",
    "v_calc_com_rate = np.vectorize(calc_com_rate)\n",
    "\n",
    "# Choose random inputs for the sales targets and percent to target, \n",
    "# this time create a matrix with as many rows as simulations\n",
    "pct_to_target = np.random.normal(avg, std_dev, (num_simulations, len(sales_target_values)))\n",
    "\n",
    "# Reshape the sales target values into a matrix of adequate size\n",
    "stv = np.broadcast_to(sales_target_values, (num_simulations, len(sales_target_values)))\n",
    "\n",
    "# Calculate the sales applying the ratio\n",
    "sales = pct_to_target*stv\n",
    "\n",
    "# Calculate commission rate\n",
    "commission_rate = v_calc_com_rate(pct_to_target)\n",
    "\n",
    "# And commission\n",
    "commission = sales*commission_rate\n",
    "\n",
    "# Sum values among sales managers and calculate the mean commission rate\n",
    "all_stats = [np.sum(sales, axis=1), np.sum(commission, axis=1), np.mean(commission_rate, axis=1)]\n",
    "\n",
    "results_df = pd.DataFrame.from_records(np.transpose(all_stats), columns=['Sales',\n",
    "                                                           'Commission_Amount',\n",
    "                                                           'Commission_Rate'])\n",
    "\n",
    "results_df.describe()\n"
   ]
  }
 ],
 "metadata": {
  "celltoolbar": "Slideshow",
  "kernelspec": {
   "display_name": "Python 3",
   "language": "python",
   "name": "python3"
  },
  "language_info": {
   "codemirror_mode": {
    "name": "ipython",
    "version": 3
   },
   "file_extension": ".py",
   "mimetype": "text/x-python",
   "name": "python",
   "nbconvert_exporter": "python",
   "pygments_lexer": "ipython3",
   "version": "3.7.4"
  },
  "pycharm": {
   "stem_cell": {
    "cell_type": "raw",
    "source": [],
    "metadata": {
     "collapsed": false
    }
   }
  }
 },
 "nbformat": 4,
 "nbformat_minor": 2
}