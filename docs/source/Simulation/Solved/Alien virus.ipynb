{
 "cells": [
  {
   "cell_type": "markdown",
   "metadata": {
    "collapsed": true
   },
   "source": [
    "# Alien Virus\n",
    "## Problem Definition\n",
    "Rick is a re-known scientist that is currently analysing the effects and mortality of an alien virus. Rick considers that, under the effect of the virus, a cell can be in three different states s1=healthy, s2=infected, s3=dead.\n",
    "\n",
    "**a** Rick thinks that the effect of the virus can be modelled as a Markov Process. Consider the transition probabilities as unknowns, taking into account that infected cells may heal but dead cells cannot be alive again. Draw the Markov process chain and the one-step transition probability matrix.\n",
    "\n",
    "The one-step probability matrix is given by:\n",
    "\n",
    "$P^{(1)}=\\begin{bmatrix}\n",
    "p_{11} & p_{12} & p_{13}\\\\\n",
    "p_{21} & p_{22} & p_{23}\\\\ \n",
    "0 & 0 & 1\\end{bmatrix}$\n",
    "\n",
    "Since dead cells cannot be healthy or infected again, the probability of a dead cell remaining cell is 1, the rest of the transition probabilities are unknowns.\n",
    "\n",
    "Rick makes a series of experiments by exposing a healthy cell culture to the virus and checking a sample every 10 hours. After 10 hours, 40% of the cells are infected, but none are dead. After 20 hours, 24% of the cells are dead and 36% are infected.\n",
    "\n",
    "**b** Consider that the result of the 10 hours sample is the probability vector Vt (t=1) obtained from the one-step transition probability matrix above and a vector Vt(t=0) representing the healthy cell culture population. Calculate the transition probabilities from s1.\n",
    "After 10 ours, our vector is:\n",
    " \n",
    "$V^1 = [0.6 \\quad 0.4 \\quad 0] = [1 \\quad 0 \\quad 0] * P^{(1)} = [p_{11} \\quad p_{12} \\quad p_{13}]$\n",
    "\n",
    "$p_{11} = 0.6$\n",
    "\n",
    "$p_{12} = 0.4$\n",
    "\n",
    "$p_{13} = 0$\n",
    "\n",
    "**c** Consider now the result of the 20 hours sample as the probability vector Vt(t=2). Can you determine the transition probabilities from s2?\n",
    "\n",
    "We can obtain the missing values using the same procedure: \n",
    "\n",
    "$V^2 = [0.4 \\quad 0.36 \\quad 0.24] = [0.6 \\quad 0.4 \\quad 0] * P^{(1)}$\n",
    "\n",
    "$0.4 = 0.6*p_{11} + 0.4*p_{21} \\rightarrow p_{21} = \\frac{0.4 - 0.36}{0.4} = 0.1$\n",
    "\n",
    "$0.36 = 0.6*p_{12} + 0.4*p_{22} \\rightarrow p_{22} = \\frac{0.36 - 0.24}{0.4} = 0.3$\n",
    "\n",
    "$0.24 = 0.6*p_{13} + 0.4*p_{23} \\rightarrow p_{23} = \\frac{0.24}{0.4} = 0.6$ "
   ]
  }
 ],
 "metadata": {
  "kernelspec": {
   "display_name": "Python 3",
   "language": "python",
   "name": "python3"
  },
  "language_info": {
   "codemirror_mode": {
    "name": "ipython",
    "version": 2
   },
   "file_extension": ".py",
   "mimetype": "text/x-python",
   "name": "python",
   "nbconvert_exporter": "python",
   "pygments_lexer": "ipython2",
   "version": "2.7.6"
  },
  "pycharm": {
   "stem_cell": {
    "cell_type": "raw",
    "source": [],
    "metadata": {
     "collapsed": false
    }
   }
  }
 },
 "nbformat": 4,
 "nbformat_minor": 0
}
