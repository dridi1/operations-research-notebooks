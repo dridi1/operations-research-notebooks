{
 "cells": [
  {
   "cell_type": "markdown",
   "metadata": {},
   "source": [
    "# Distribution of Operators in Workshop Areas\n",
    "## Problem Definition\n",
    "Rick & Morty Inc. is a small workshop that specialises in manufacturing special parts for the metallurgical industry. The firms’ personnel comprises the Director Rick (an Industrial Organisation Engineer), the Designer Morty (an Industrial Design Engineer) and three highly specialised Operators. The workshop has two very different areas (A and B) given the type of machinery in them and the kind of works that can be done with it. The three Operators can move between the two areas as they prefer because they can all work on any of the workshop machines. The Director has noticed that the Operators tend to gather in the same area because their performance is enhanced if they help each other. Nevertheless, leaving an area without Operators for several days is not a good option because the tasks in this area are considerably delayed. By analysing last year’s manufacturing reports, the Director has calculated that the two areas were not occupied by the Operators for 30 % of the days. However, the most worrying aspect is that one area can be void of Operators for several days running. Therefore, the Director has decided to set up the following work plan: at the beginning of the working day, the three Operators will enter a draw to see which of them changes area so no area will be empty for more than 1 day running, or so the Director believes.\n",
    "\n",
    "**a)** Consider the problem according to a Markov chain\n",
    "\n",
    "**b)** For what percentage of time will one of the areas be void of Operators?\n",
    "\n",
    "**c)** On average, how much time passes from there being no Operator in one zone to there being one Operator in it? And the time from an area with no Operator until this same situation occurs again?"
   ]
  },
  {
   "cell_type": "code",
   "execution_count": null,
   "metadata": {},
   "outputs": [],
   "source": []
  }
 ],
 "metadata": {
  "kernelspec": {
   "display_name": "Python 3",
   "language": "python",
   "name": "python3"
  },
  "language_info": {
   "codemirror_mode": {
    "name": "ipython",
    "version": 3
   },
   "file_extension": ".py",
   "mimetype": "text/x-python",
   "name": "python",
   "nbconvert_exporter": "python",
   "pygments_lexer": "ipython3",
   "version": "3.7.0"
  }
 },
 "nbformat": 4,
 "nbformat_minor": 2
}
