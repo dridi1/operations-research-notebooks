{
 "cells": [
  {
   "cell_type": "markdown",
   "metadata": {},
   "source": [
    "# Return of Investments for online marketing\n",
    "\n",
    "## Try me
 [![Open In Colab](https://colab.research.google.com/assets/colab-badge.svg)](https://colab.research.google.com/github/ffraile/operations-research-notebooks/blob/main/docs/source/Simulation/Exercises/Return%20of%20search%20engine%20investments.ipynb)[![Binder](https://mybinder.org/badge_logo.svg)](https://mybinder.org/v2/gh/ffraile/operations-research-notebooks/main?labpath=docs%2Fsource%2FSimulation%2FExercises%2FReturn%20of%20search%20engine%20investments.ipynb)\n",
    "\n",
    "\n",
    "The following metrics and indicators determine the expenditures and return of investments of marketing investments in paid inclusion (including your company's web page in search results) for your company:\n",
    "\n",
    "- **S (Total Search results in period):** Total number of times the keywords are used in searches in the planning period.\n",
    "- **CPM (Cost per 1000 impressions):** Cost of the search engine per every 1000 impressions, every time your website appears in a search result\n",
    "- **CPC (Cost per click):** Cost per every click\n",
    "- **CTR (Click Through Rate):** rate between the number of clicks and number of impressions\n",
    "- **CVR (Conversion Rate):** rate between the number of visitors and the number of users\n",
    "\n",
    "With this, the number of visitors (V) and the number of users (U) can be calculated as:\n",
    "\n",
    "$U = V * CVR = S * CTR * CVR$\n",
    "\n",
    "The total costs ($C_t$) of the search engine investmets are:\n",
    "\n",
    "$C_t = CPC*V + CPM/1000*S$\n",
    "\n",
    "\n",
    "The **ARPU (Average revenue per user in planning period)** is the average revenue per user, or the total revenue in the planning period (R), divided by the number of users:\n",
    "\n",
    "$ARPU = R/U$\n",
    "\n",
    "The Return of Investments for online marketing is calculated as:\n",
    "\n",
    "$ROI = \\frac{R - C_t}{C_t}$\n",
    "\n",
    "After some research, you have found that the different metrics can be modeled as normal distributions with the following parameters:\n",
    "\n",
    "| Metric | Mean | Standard Deviation |\n",
    "|--------|------|--------------------|\n",
    "|Search results | 600000 | 100000 |\n",
    "| CTR | 0.05 | 0.01 |\n",
    "| CVR | 0.5 | 0.1 |\n",
    "\n",
    "These are the search engine fees for your keywords:\n",
    "- CPM = 0,3€\n",
    "- CPC = 0,75€\n",
    "\n",
    "You estimate your ARPU in 5€\n",
    "\n",
    "**a.** Calculate the total costs, the total Return of Investments and the average cost per acquisition using Montecarlo Simulation\n",
    "\n",
    "**b.** Calculate the 95% confidence interval of the ROI"
   ]
  },
  {
   "cell_type": "markdown",
   "metadata": {
    "pycharm": {
     "name": "#%% md\n"
    }
   },
   "source": [
    "The 95% confidence interval of the ROI will be between these 2 values"
   ]
  }
 ],
 "metadata": {
  "kernelspec": {
   "display_name": "Python 3",
   "language": "python",
   "name": "python3"
  },
  "language_info": {
   "codemirror_mode": {
    "name": "ipython",
    "version": 3
   },
   "file_extension": ".py",
   "mimetype": "text/x-python",
   "name": "python",
   "nbconvert_exporter": "python",
   "pygments_lexer": "ipython3",
   "version": "3.8.5"
  }
 },
 "nbformat": 4,
 "nbformat_minor": 2
}