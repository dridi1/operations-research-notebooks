{
 "cells": [
  {
   "cell_type": "markdown",
   "metadata": {},
   "source": [
    "# Net Income of OR Platform\n",
    "\n",
    "## Try me\n",
    " [![Open In Colab](https://colab.research.google.com/assets/colab-badge.svg)](https://colab.research.google.com/github/ffraile/operations-research-notebooks/blob/main/docs/source/Simulation/Exercises/OR%20Platform.ipynb)[![Binder](https://mybinder.org/badge_logo.svg)](https://mybinder.org/v2/gh/ffraile/operations-research-notebooks/main?labpath=docs%2Fsource%2FSimulation%2FExercises%2FOR%20Platform.ipynb)\n",
    "\n",
    "## Introduction\n",
    "You want to use Montecarlo simulation to estimate the net income of OR Platform (Operations Research Platform): A cloud platform that facilitates the development and access to algorithms to solve optimization problems in the field of operations research. The platform is a web application that allows users to upload their algorithms and data, and sale them to final users who can in turn plug in their data and run them on the platform.\n",
    "\n",
    "![OR Platform](https://raw.githubusercontent.com/ffraile/operations-research-notebooks/master/docs/source/Simulation/Exercises/img/OR_Platform.png)\n",
    "\n",
    "The platform is free for developers, who can in turn establish a yearly subscription fee and a pay-per-use fee for hour of use of the platform.\n",
    "As the platform operator, OR Platform establishes a 5% retention rate for the revenues generated from the subscription fee and a 10% retention rate for the revenues generated from the pay-per-use fee.\n",
    "\n",
    "To support your business model and to make the platform profitable, you want to estimate the net income of the platform using Montecarlo simulation to simulate the revenue of the platform in the following scenarios:\n",
    "\n",
    "  1. Optimistic: The platform is used by a large number of users.\n",
    "  2. Pessimistic: The platform is used by a small number of users.\n",
    "  3. Moderate: The platform is used by a moderate number of users.\n",
    "\n",
    "The following table shows the mean and standard deviation of the number of algorithms in the marketplace, the number of users per algorithm, and license and usage costs of algorithms, and the monthly use. \n",
    "Each cell provides the average and standard deviation as (average/std):\n",
    "\n",
    "| Scenario | Algorithms in marketplace | Users per algorithm | License Cost (€) | Usage cost (€) | Monthly use (hours) |\n",
    "| -------- | ------------------------- | ------------------- | ---------------- | -------------- | ------------------- |\n",
    "| 1        | 500/100                   | 25/10               | 1000/200         | 10/3           | 30/10               |\n",
    "| 2        | 10/3                      | 5/1                 | 1000/200         | 10/3           | 30/10               |\n",
    "| 3        | 100/10                    | 8/2                 | 1000/200         | 10/3           | 30/10               |\n",
    "\n",
    "**a.** Complete the following function so that it returns a dataframe with the data of the simulation"
   ]
  },
  {
   "cell_type": "code",
   "metadata": {
    "pycharm": {
     "name": "#%%\n",
     "is_executing": true
    }
   },
   "source": [
    "import pandas as pd\n",
    "import numpy as np\n",
    "\n",
    "\n",
    "def run_simulation(num_simulations = 100000, alg_avg = 500, alg_std = 100, alg_usr_avg = 25, alg_usr_std = 10,\n",
    "                   usage_cost_avg = 10, usage_cost_std = 3, fixed_costs = 5000, license_avg = 1000, license_std = 200,\n",
    "                   license_fee = 0.05, usage_fee = 0.1, average_monthly_use_avg = 30,  average_monthly_use_std = 10):\n",
    "    \"\"\"\n",
    "    Runs a Monte Carlo simulation to calculate the total costs, the total Return of Investments and the average cost per acquisition.\n",
    "\n",
    "    :param num_simulations: Number of simulations to run (default 100000)\n",
    "    :param alg_avg: Average number of algorithms in platform (default 500)\n",
    "    :param alg_std: Standard deviation of number of algorithms in platform (default 100)\n",
    "    :param alg_usr_avg: Average number of users per algorithm (default 25)\n",
    "    :param alg_usr_std: Standard deviation of number of users per algorithm (default 10)\n",
    "    :param usage_cost_avg: Average usage cost per hour of algorithm (default 10 €/hour)\n",
    "    :param usage_cost_std: Standard deviation of usage cost per hour of algorithm (default 3 €/hour)\n",
    "    :param fixed_costs: Fixed operational costs of platform per month (default 5000 €/month)\n",
    "    :param license_avg: Average license cost per year (default 1000 €/year)\n",
    "    :param license_std: Standard deviation of license cost per year (default 200 €/year)\n",
    "    :param average_monthly_use_avg: Average number of hours used per month (default 30 hours/month)\n",
    "    :param average_monthly_use_std: Standard deviation of number of hours used per month (default 10 hours/month)\n",
    "    :param usage_fee: Usage fee ratio retained by the platform (default 0.1)\n",
    "    :param license_fee: License fee ratio retained by the platform (default 0.05)\n",
    "    :return: DataFrame with simulation results\n",
    "    \"\"\"\n",
    "\n",
    "    # Random variables definition, drawn from standard distribution (Complete the code!)\n",
    "\n",
    "    # Number of algorithms in platform\n",
    "    alg_num = np.random.normal(alg_avg, alg_std, num_simulations)\n",
    "    # Number of users\n",
    "    alg_usr_num =\n",
    "    # Usage cost\n",
    "    usage_cost =\n",
    "    # License cost\n",
    "    license_cost =\n",
    "    # Average monthly use\n",
    "    average_monthly_use =\n",
    "\n",
    "\n",
    "    # License revenue (Complete the code!)\n",
    "    license_revenue =\n",
    "\n",
    "    # Usage revenue (Complete the code!)\n",
    "    usage_revenue =\n",
    "\n",
    "    # total revenue (Complete the code!)\n",
    "    total_revenue =\n",
    "\n",
    "    # Usage costs\n",
    "    usage_cost =\n",
    "\n",
    "    # net income per month\n",
    "    net_income =\n",
    "\n",
    "    df = pd.DataFrame({\n",
    "        'algorithms': alg_num,\n",
    "        'usage_cost': usage_cost,\n",
    "        'license_cost': license_cost,\n",
    "        'license_revenue': license_revenue,\n",
    "        'usage_revenue': usage_revenue,\n",
    "        'total_revenue': total_revenue,\n",
    "        'net_income': net_income\n",
    "    })\n",
    "    return df\n",
    "\n",
    "scenario_1 = run_simulation()\n",
    "scenario_1.describe(percentiles=[0.025, 0.975])\n",
    "\n"
   ],
   "execution_count": null,
   "outputs": []
  },
  {
   "cell_type": "markdown",
   "source": [
    "Now, complete the following cells to obtain the results of the scenarios 2 and 3:"
   ],
   "metadata": {
    "collapsed": false,
    "pycharm": {
     "name": "#%% md\n"
    }
   }
  },
  {
   "cell_type": "code",
   "execution_count": null,
   "outputs": [],
   "source": [
    "# Complete the code!\n",
    "scenario_2 =\n",
    "scenario_2.describe(percentiles=[0.025, 0.975])"
   ],
   "metadata": {
    "collapsed": false,
    "pycharm": {
     "name": "#%%\n"
    }
   }
  },
  {
   "cell_type": "code",
   "execution_count": null,
   "outputs": [],
   "source": [
    "# Complete the code!\n",
    "scenario_3 =\n",
    "scenario_3.describe(percentiles=[0.025, 0.975])"
   ],
   "metadata": {
    "collapsed": false,
    "pycharm": {
     "name": "#%%\n",
     "is_executing": true
    }
   }
  },
  {
   "cell_type": "markdown",
   "source": [
    "Discuss the results, if necessary, run additional simulations to analyse the impact in the revenues of the licensing and\n",
    "usage costs and the average number of hours in the different scenarios.\n"
   ],
   "metadata": {
    "collapsed": false
   }
  },
  {
   "cell_type": "code",
   "execution_count": null,
   "outputs": [],
   "source": [],
   "metadata": {
    "collapsed": false,
    "pycharm": {
     "name": "#%%\n"
    }
   }
  }
 ],
 "metadata": {
  "kernelspec": {
   "display_name": "Python 3",
   "language": "python",
   "name": "python3"
  },
  "language_info": {
   "codemirror_mode": {
    "name": "ipython",
    "version": 3
   },
   "file_extension": ".py",
   "mimetype": "text/x-python",
   "name": "python",
   "nbconvert_exporter": "python",
   "pygments_lexer": "ipython3",
   "version": "3.8.5"
  }
 },
 "nbformat": 4,
 "nbformat_minor": 2
}