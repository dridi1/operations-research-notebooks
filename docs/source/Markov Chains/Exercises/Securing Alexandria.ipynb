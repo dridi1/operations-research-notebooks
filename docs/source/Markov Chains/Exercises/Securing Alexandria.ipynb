{
 "cells": [
  {
   "cell_type": "markdown",
   "metadata": {
    "collapsed": true,
    "pycharm": {
     "name": "#%% md\n"
    }
   },
   "source": [
    "# Securing Alexandria\n",
    "## Problem Definition\n",
    "Eugene is a young scientist that witnessed the raise of the walking dead, a zombie apocalypse that has decimated human population worldwide. Few years have passed since the event that released the virus that got everyone infected and nowadays survivors gather in somewhat self-sufficient settlements. Eugene is a counsellor in Alexandria, one of the most prominent settlements. However, not all humans take part of this incipient society. There is a nomad band of thieves and scavengers that is threatening Alexandria and its surroundings. Led by the infamous Alpha, the band counts 600 fearless members that use hordes of zombies to threaten their rivals. Eugene would like to use science to advice the community on whether to attack or not to attack this band. Eugene has been analysing nomad bands for a long time and he knows that, every day that passes 0.3% of the population dies from without becoming zombies in the same day while 0.7% turns into zombie state in the same day. The band of Alpha uses zombies to threaten their rivals so, out of the dead nomads, Eugene has observed that they let approximately 20% to turn into zombies the next day (and no probability to heal or come back to live, obviously). Once a member of the band becomes part of the horde of zombies, they remain in this state and the band never terminates any of its zombie members.\n",
    "\n",
    "a) Help Eugene draw a Markov Chain and one step probability matrix to model the evolution of the population of the band as a Markov Process.\n",
    "\n",
    "b) Calculate the stationary probabilities. Based on the results, what should Eugene advice the community?\n"
   ]
  }
 ],
 "metadata": {
  "kernelspec": {
   "display_name": "Python 3",
   "language": "python",
   "name": "python3"
  },
  "language_info": {
   "codemirror_mode": {
    "name": "ipython",
    "version": 2
   },
   "file_extension": ".py",
   "mimetype": "text/x-python",
   "name": "python",
   "nbconvert_exporter": "python",
   "pygments_lexer": "ipython2",
   "version": "2.7.6"
  },
  "pycharm": {
   "stem_cell": {
    "cell_type": "raw",
    "source": [],
    "metadata": {
     "collapsed": false
    }
   }
  }
 },
 "nbformat": 4,
 "nbformat_minor": 0
}