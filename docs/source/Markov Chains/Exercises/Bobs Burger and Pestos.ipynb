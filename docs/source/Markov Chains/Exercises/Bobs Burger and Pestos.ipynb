{
 "cells": [
  {
   "attachments": {},
   "cell_type": "markdown",
   "metadata": {},
   "source": [
    "# Problem definition\n",
    "Tina Belcher, brand new manager of the new Bob´s burger parlour downtown San Francisco,  wants to analyse the impact on the market and the loyalty of the customers of Bob’s Burger and Pesto´s, an Italian restaurant nearby. It is assumed that one customer dines once a week at Bob’s or at Pesto´s, but not at both.\n",
    "Tina has collected information from 100 consumers over a 10-week period. When checking the data, she discovered that of all the customers who consumed at Bob’s in a given week, 90 % returned to the restaurant following week, while 10 % switched to Pesto’s. Of all the consumers who consumed at Pesto’s in a given week, 80 % returned to the same place the following week, but 20 % switched to Bob´s.\n",
    "Assuming that the transition probabilities are the same for every customer and that they not change over time, we can get insights modelling customer fidelity with Markov chains.\n"
   ]
  },
  {
   "attachments": {},
   "cell_type": "markdown",
   "metadata": {},
   "source": [
    "Model customer fidelity as a Markov process and answer the following questions:\n",
    "\n",
    "**a)** If at week 0, a customer dines at Bob’s, what is the probability of the same customer dining at Bob´s in week 1?\n",
    "\n"
   ]
  },
  {
   "cell_type": "markdown",
   "metadata": {},
   "source": [
    "**b)** What is the probability of a customer going back to Bob´s two weeks running?\n"
   ]
  },
  {
   "cell_type": "markdown",
   "metadata": {},
   "source": [
    "**c)** What is the probability of a customer changing to Pesto´s after dining at Bob´s and then going back to Bob´s\n",
    "\n"
   ]
  },
  {
   "cell_type": "markdown",
   "metadata": {},
   "source": [
    "**d)** Consider the customer of section a) what is the probability that this customer comes back to Bob´s in two weeks time?\n"
   ]
  },
  {
   "cell_type": "markdown",
   "metadata": {
    "pycharm": {
     "name": "#%% md\n"
    }
   },
   "source": [
    "**e)** What is the expected market share of customers between the two restaurants?"
   ]
  }
 ],
 "metadata": {
  "kernelspec": {
   "display_name": "Python 3",
   "language": "python",
   "name": "python3"
  },
  "language_info": {
   "codemirror_mode": {
    "name": "ipython",
    "version": 3
   },
   "file_extension": ".py",
   "mimetype": "text/x-python",
   "name": "python",
   "nbconvert_exporter": "python",
   "pygments_lexer": "ipython3",
   "version": "3.7.4"
  },
  "pycharm": {
   "stem_cell": {
    "cell_type": "raw",
    "source": [],
    "metadata": {
     "collapsed": false
    }
   }
  }
 },
 "nbformat": 4,
 "nbformat_minor": 2
}