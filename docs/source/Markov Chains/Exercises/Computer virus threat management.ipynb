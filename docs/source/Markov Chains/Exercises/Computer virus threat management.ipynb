{
 "cells": [
  {
   "cell_type": "markdown",
   "metadata": {
    "collapsed": true,
    "pycharm": {
     "name": "#%% md\n"
    }
   },
   "source": [
    "# Management of Computer virus threats\n",
    "## Problem definition\n",
    "The IT department of your company has detected a threat in a software virus that affecs the Operating System (OS) of the PCs used in the company. When the virus infects a computer, it sends emails to a set of corporate emails. Once the virus is installed in a computer, there is a procedure that can successfully remove the virus and restore the normal operation of the computer. However, in some situations, IT might not be able to restore the OS and the computer might become non-operative. \n",
    "\n",
    "IT wants to use Markov Chains to model the status of a computer. After collecting data, they have determined that the probability that a computer is infected by the virus given that it was operating normally the day before is 0.05. The probability that the computer is non-operative for other reasons given that it was operating normally the day before is 0.1. Once a computer is infected, they always perform the virus removal procedure in the same day. They estimate that the probality that the procedure is successful is 70%, while in 30% of the cases the procedure renders the computer non-operative. When a computer is in non-operative state, the equipment supplier always replaces it the next business day. \n",
    "\n",
    "**a** Define the one-step probability matrix of the Markov chain\n",
    "\n",
    "\n",
    "**b** The maintenance cost of a computer is 3€/day when it operates normally. The cost of the virus removal procedure is 30€ and the cost of replacing a computer is 1200€. Calculate the long term average costs in computer maintenance for the IT department.  \n",
    "\n",
    "\n"
   ]
  }
 ],
 "metadata": {
  "kernelspec": {
   "display_name": "Python 3",
   "language": "python",
   "name": "python3"
  },
  "language_info": {
   "codemirror_mode": {
    "name": "ipython",
    "version": 2
   },
   "file_extension": ".py",
   "mimetype": "text/x-python",
   "name": "python",
   "nbconvert_exporter": "python",
   "pygments_lexer": "ipython2",
   "version": "2.7.6"
  },
  "pycharm": {
   "stem_cell": {
    "cell_type": "raw",
    "source": [],
    "metadata": {
     "collapsed": false
    }
   }
  }
 },
 "nbformat": 4,
 "nbformat_minor": 0
}