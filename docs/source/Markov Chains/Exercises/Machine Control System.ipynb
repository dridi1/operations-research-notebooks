{
 "cells": [
  {
   "cell_type": "markdown",
   "metadata": {},
   "source": [
    "# Machine Control System\n",
    "## Problem definition\n",
    "The control system of a certain machine comprises two independent controls, A and B. This system is activated every hour the machine operates to check that the machine works according to suitable parameters. The controls have a limited life span. Indeed, control A has been replaced 52 times in the last 1,300 h of operation, whereas control B has been substituted 39 times in the same time.\n",
    "Every time the system is activated, apart from controlling the machine, it warns that one (or both) of the controls has failed. The faulty control is replaced before the system is next activated. When one of the two controls is replaced, its reliability is lower because it has not been verified. Specifically, it is considered that when the system is next activated, the reliability of the substituted control is half its normal value.\n",
    "Replacing control A entails a cost of €70 and of €50 for replacing control B.\n",
    "\n",
    "**a)** Consider the problem according to a Markov chain. Calculate the failure probability of each control according to its historic of failures. Calculate the reliability\n",
    "\n",
    "**b)** What is the hourly cost of the control system?\n"
   ]
  },
  {
   "cell_type": "markdown",
   "metadata": {},
   "source": []
  }
 ],
 "metadata": {
  "kernelspec": {
   "display_name": "Python 3",
   "language": "python",
   "name": "python3"
  },
  "language_info": {
   "codemirror_mode": {
    "name": "ipython",
    "version": 3
   },
   "file_extension": ".py",
   "mimetype": "text/x-python",
   "name": "python",
   "nbconvert_exporter": "python",
   "pygments_lexer": "ipython3",
   "version": "3.7.0"
  }
 },
 "nbformat": 4,
 "nbformat_minor": 2
}
