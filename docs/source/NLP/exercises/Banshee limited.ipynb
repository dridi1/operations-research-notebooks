{
 "cells": [
  {
   "cell_type": "markdown",
   "metadata": {
    "collapsed": true,
    "pycharm": {
     "name": "#%% md\n"
    }
   },
   "source": [
    "# Optimising the design of headphones\n",
    "## Problem definition\n",
    "You work on the R&D department of Banshee Ltd., a company that manufactures headphones. Through a customer survey you have determined that the level of satisfaction of your headphones is given by the following expression: \n",
    "\n",
    "$z = 5 + ln(x_1) + x_2^2 + x_1*x_2$\n",
    "\n",
    "where $x_1$ is the thickness of the diaphragm in microns and $x_2$ is the radius of the diaphragm in millimeters. Due to design constraints, the volume of the driver, which can be estimated as $0.2*\\pi*x_2*x_1$ cannot be larger than 0.172 cubic millimeters. The properties of the material you use makes it unfeasible to manufacture a diaphragm with a thickness lower than $0.3$ microns or higher than $0.9$ microns.\n",
    "\n",
    "**a** Write a Non-Linear Programming (NLP) problem to find the optimal design specifications (thickness and radius of diaphragm) for Banshee Ltd.\n",
    "\n",
    "\n",
    "\n",
    "\n",
    "**b** Write down the Lagrangian and the Kuhn Tucker conditions \n",
    "\n",
    "\n",
    "\n",
    "**c** A solver gives you the following solution ($x_1 = 0.9$, $x_2 = 0.304$). Determine if it is a local or global maximum \n",
    "\n",
    "\n"
   ]
  }
 ],
 "metadata": {
  "kernelspec": {
   "display_name": "Python 3",
   "language": "python",
   "name": "python3"
  },
  "language_info": {
   "codemirror_mode": {
    "name": "ipython",
    "version": 2
   },
   "file_extension": ".py",
   "mimetype": "text/x-python",
   "name": "python",
   "nbconvert_exporter": "python",
   "pygments_lexer": "ipython2",
   "version": "2.7.6"
  }
 },
 "nbformat": 4,
 "nbformat_minor": 0
}