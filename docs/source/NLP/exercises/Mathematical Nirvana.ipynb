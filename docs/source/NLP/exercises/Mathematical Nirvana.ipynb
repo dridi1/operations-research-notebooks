{
 "cells": [
  {
   "cell_type": "markdown",
   "source": [
    "# Mathematical Nirvana\n",
    "## Problem Definition\n",
    "Nathaniel Richards is a young, brilliant scientist that has developed the following Non-Linear Programming (NLP) problem to find the optimal balance between studying and meditating to maximize the overall satisfaction and achieve a state of enlightenment (Mathematical Nirvana).\n",
    "\n",
    "**Decision Variables:**\n",
    "Let:\n",
    "\n",
    "$x_1$ Time spent studying (in hours)\n",
    "\n",
    "$x_2$ = Time spent meditating (in hours)\n",
    "\n",
    "$x = [x_1, x_2]$ The set of decision variables\n",
    "\n",
    "$x_1, x_2 \\geq 0$\n",
    "\n",
    "**Objective Function:**\n",
    "Maximize the overall satisfaction obtained from studying and meditating:\n",
    "\n",
    "$\\max z = f(x) = 2*x_1+0.5*\\ln(1+x_1) + 0.7*x_2 + 0.3*\\sqrt(x_2)$\n",
    "\n",
    "**Constraints:**\n",
    "Subject to:\n",
    "Maximum amount of time available:\n",
    "\n",
    "$x_1 + x_2 \\leq 10$\n",
    "\n",
    "Minimum amount of time studying to ensure academic performance:\n",
    "\n",
    "$x_1 \\geq 2$\n",
    "\n",
    "Unfortunately Nathaniel mysteriously disappeared before he could completely analyse the problem, so you need to complete his work according to the following instructions:\n",
    "\n",
    "1. Obtain the Kuhn-Tucker conditions\n",
    "2. Obtain the Hessian and determine if this solution ($x_1 = 3.9, x_2 = 6.1) is a global or local maximum\n",
    "3. Use the Kuhn-Tucker conditions to calculate the Lagrangian multipliers for this solution, can you explain what they mean? Discuss if this can be an optimal solution to the problem"
   ],
   "metadata": {
    "collapsed": false
   }
  }
 ],
 "metadata": {
  "kernelspec": {
   "display_name": "Python 3",
   "language": "python",
   "name": "python3"
  },
  "language_info": {
   "codemirror_mode": {
    "name": "ipython",
    "version": 2
   },
   "file_extension": ".py",
   "mimetype": "text/x-python",
   "name": "python",
   "nbconvert_exporter": "python",
   "pygments_lexer": "ipython2",
   "version": "2.7.6"
  }
 },
 "nbformat": 4,
 "nbformat_minor": 0
}
