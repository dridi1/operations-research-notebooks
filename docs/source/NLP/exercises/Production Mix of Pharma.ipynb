{
 "nbformat": 4,
 "nbformat_minor": 0,
 "metadata": {
  "colab": {
   "name": "Second Partial (Solved).ipynb",
   "provenance": [],
   "toc_visible": true
  },
  "kernelspec": {
   "name": "python3",
   "display_name": "Python 3"
  },
  "language_info": {
   "name": "python"
  },
  "pycharm": {
   "stem_cell": {
    "cell_type": "raw",
    "source": [],
    "metadata": {
     "collapsed": false
    }
   }
  }
 },
 "cells": [
  {
   "cell_type": "markdown",
   "metadata": {
    "id": "f5X9iaV2tFbX"
   },
   "source": [
    "# Production Mix of Pharma\n",
    "## Problem definition\n",
    "Cheston Pharmaceuticals manufactures two different products. The company has conducted different studies to estimate the demand curve of their products, to learn the relationship between price and demand. The company has build a linear model that has proven to be accurate enough in the price range of interest for the company. Let us note the linear model as: \n",
    "\n",
    "$d_j = -\\theta_j*p_j+\\hat\\theta_j \\quad p_j=[m_j,M_j], \\forall j = [1,2]$\n",
    "\n",
    "Where $d_j$ is the total units of product $j$ manufactured, $p_j$ is the price of product $j$ and $\\theta_j$ and $\\hat\\theta_j$ are the parameters of the linear models for the curve of demand of product $j$. The price of product $j$ must be in the range of interest, that is, greater or equal than the minimum price $m_j$ and lower or equal than the maximum $M_j$.\n",
    "\n",
    "Both products incorporate a critical compound for which the company has limited resources to produce. The total production capacity of the company for the compound in the planning period is C (miligrams). A unit of product $j$ contains $r_j$ miligrams of the critical compound.\n",
    "\n",
    "Let us assume that the production costs of product $j$ can be neglected. \n",
    "\n",
    "**a.** Write a Non Linear Programming problem to calculate the optimal production mix (number of units to produce of each product) that maximises the revenues in the planning period. \n",
    "\n"
   ]
  },
  {
   "cell_type": "markdown",
   "metadata": {
    "id": "QfR2WlFQhgPk"
   },
   "source": [
    "**b** Write down the Lagrangian "
   ]
  },
  {
   "cell_type": "markdown",
   "metadata": {
    "id": "tPyhDcQFo4nr"
   },
   "source": [
    "**c** Write down the Kuhn-Tucker conditions:\n"
   ]
  },
  {
   "cell_type": "markdown",
   "metadata": {
    "id": "7FHtYcskrtcJ",
    "pycharm": {
     "name": "#%% md\n"
    }
   },
   "source": [
    "**d.** Write down the Hessian matrix and the Hessian determinants. In case that you find a critical point, can you determine if it is a local or a global maximum? Motivate your response."
   ]
  }
 ]
}