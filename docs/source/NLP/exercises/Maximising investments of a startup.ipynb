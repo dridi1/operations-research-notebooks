{
 "cells": [
  {
   "cell_type": "markdown",
   "metadata": {},
   "source": [
    "# Maximising investments of a startup\n",
    "## Problem Definition\n",
    "Your startup company has just raised 100M€ in a round of funding to reinvest in the company during the next period. Using regression and historical data, your team has found the following formulas  for the Return of Investments (ROI) in different departments:\n",
    "\n",
    "**Research and Development:**\n",
    "\n",
    "$10·\\left(\\sqrt[3]{2X-2}\\right)$\n",
    "\n",
    "**Advertisement:**\n",
    "\n",
    "$10·\\left(\\ln(X)-2\\right)$\n",
    "\n",
    "**Technical Equipment:**\n",
    "\n",
    "$10·\\left(e^{X/50}-2\\right)$\n",
    "\n",
    "**Human Resources:**\n",
    "\n",
    "$10·\\dfrac{X}{50}$\n",
    "\n",
    "According to the colective agreement, the minimum investment in human resources is 20M€. \n",
    "Additionally, analysing the formulas obtained, it is clear that although significant investments in technical equipment yield a high ROI, for small investments the ROI of R&D or advertisement is actually larger. However, due to the pressure imposed by competitors, the company has decided that investments in technical equipment must be at least high enough to ensure that this concept does not have a negative impact in the ROI of the next period investments. \n",
    "\n",
    "**a.** Write a Non-Linear Programming Model to maximise the ROI \n",
    "\n",
    "**b.** Write down the Kuhn-Tucker conditions \n",
    "\n",
    "**c.** Solving the problem yields a value of -0.29 for the lagrangian multiplier of the minimum investment in human resources constraint. Interpret this result. How should the company use this value in the negotiation of the next collective agreement? "
   ]
  }
 ],
 "metadata": {
  "kernelspec": {
   "display_name": "Python 3",
   "language": "python",
   "name": "python3"
  },
  "language_info": {
   "codemirror_mode": {
    "name": "ipython",
    "version": 3
   },
   "file_extension": ".py",
   "mimetype": "text/x-python",
   "name": "python",
   "nbconvert_exporter": "python",
   "pygments_lexer": "ipython3",
   "version": "3.7.4"
  },
  "pycharm": {
   "stem_cell": {
    "cell_type": "raw",
    "source": [],
    "metadata": {
     "collapsed": false
    }
   }
  }
 },
 "nbformat": 4,
 "nbformat_minor": 2
}