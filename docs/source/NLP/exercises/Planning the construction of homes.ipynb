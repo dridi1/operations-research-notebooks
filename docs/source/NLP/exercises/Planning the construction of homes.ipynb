{
 "cells": [
  {
   "cell_type": "markdown",
   "metadata": {},
   "source": [
    "# Planning the Construction of homes\n",
    "On a housing estate on the Alicante coastline, two types of homes are being built: apartments and penthouses, whose prices are $p_1$ and $p_2$ M€ respectively. The curve of demand for apartments is $d_1 = 40 – 2p_1$ and $d_2 = 150 – 3p_2$ for penthouses.\n",
    "The builder calculated that, owing to the orders that he has already sent to his raw materials suppliers, it is worth building 15 times more apartments than penthouses. He has also calculated that building an apartment costs him 5M€, while a penthouse costs him 3M€. Knowing that the builder has a budget of 350 M€, work out the following:\n",
    "\n",
    "**a)** Write an NLP to calculate the optimal prices for apartments and penthouses.\n",
    "\n",
    "**b)** Write the Kuhn Tucker conditions of the NLP problem"
   ]
  }
 ],
 "metadata": {
  "kernelspec": {
   "display_name": "Python 3",
   "language": "python",
   "name": "python3"
  },
  "language_info": {
   "codemirror_mode": {
    "name": "ipython",
    "version": 3
   },
   "file_extension": ".py",
   "mimetype": "text/x-python",
   "name": "python",
   "nbconvert_exporter": "python",
   "pygments_lexer": "ipython3",
   "version": "3.7.4"
  }
 },
 "nbformat": 4,
 "nbformat_minor": 2
}
