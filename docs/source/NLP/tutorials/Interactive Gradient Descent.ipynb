{
 "nbformat": 4,
 "nbformat_minor": 0,
 "metadata": {
  "colab": {
   "provenance": []
  },
  "kernelspec": {
   "name": "python3",
   "display_name": "Python 3"
  },
  "language_info": {
   "name": "python"
  }
 },
 "cells": [
  {
   "cell_type": "markdown",
   "source": [
    "# Interactive Gradient-Descent in Python\n",
    "\n",
    "## Try me\n",
    "[![Open In Colab](https://colab.research.google.com/assets/colab-badge.svg)](https://colab.research.google.com/github/ffraile/operations-research-notebooks/blob/main/docs/source/NLP/tutorials/Interactive%20Gradient%20Descent.ipynb)[![Binder](https://mybinder.org/badge_logo.svg)](https://mybinder.org/v2/gh/ffraile/operations-research-notebooks/main?labpath=docs%2Fsource%2FNLP%2Ftutorials%2FInteractive%20Gradient%20Descent.ipynb)\n",
    "\n",
    "## Introduction\n",
    "Gradient-Descent (GD) methods are in the backbone of many machine learning methods. in this tutorial, we will use a practical example to illustrate how the simplest algorithm in the family (Simple Gradient Descent) works.\n",
    "\n",
    "\n",
    "## Import libraries\n",
    "Before we dive into GD methods, let's import the libraries that we will use in this tutorial:"
   ],
   "metadata": {
    "id": "aa0c08nGdcTc"
   }
  },
  {
   "cell_type": "code",
   "source": [
    "import numpy as np\n",
    "import pandas as pd\n",
    "from matplotlib import pyplot as plt\n"
   ],
   "metadata": {
    "id": "Qlc0gVtyU999"
   },
   "execution_count": null,
   "outputs": []
  },
  {
   "cell_type": "markdown",
   "source": [
    "## Problem definition\n",
    "Gradient-Descent methods allow us to find the maximum or minimum of a function that depends on an array of variables:\n",
    "\n",
    "$$x = [x_1, x_2, ..., x_n]$$\n",
    "\n",
    "For minimization, we want to find the minimum value of a function of x: \n",
    "\n",
    "$$\\min z = f(x)$$\n",
    "\n",
    "And similarly, for maximization, we want to find the maximum value of the function in x:\n",
    "\n",
    "$$\\max z = f(x)$$\n",
    "\n",
    "### Tutorial Example\n",
    "In this tutorial, as an example, let us find the maximum of the following function:\n",
    "\n",
    "$$\\max z = f(x) = (8-x_1)*x_1 + (16-x_2)*x_2$$\n",
    "\n",
    "Note that it is a quadratic expression, probably the simplest form of non-linear function. We have chosen this function because it is realively easy to analyze, so we will use it to get insights on Gradient descent methods. \n",
    "\n",
    "#### Implementing the function in Python\n",
    "The following Python function returns this value, given that you pass $x$ as an list or array:"
   ],
   "metadata": {
    "id": "5doU7dH6ddJT"
   }
  },
  {
   "cell_type": "code",
   "source": [
    "def my_func(x):\n",
    "  # This is the function to optimize. \n",
    "  # x is an array containing the dependent variables to optimize (x = [x_1, x_2, ..., x_n])\n",
    "  # By default this is the function used in the example, \n",
    "  # but you can change it if you want to analyze other examples\n",
    "  return (8-x[0])*x[0] + (16-x[1])*x[1]\n"
   ],
   "metadata": {
    "id": "8aixZJOwVCNV"
   },
   "execution_count": null,
   "outputs": []
  },
  {
   "cell_type": "markdown",
   "source": [
    "Now, let's plot it to get a general idea of how the function looks like. The following script represents a contour plot of the function:"
   ],
   "metadata": {
    "id": "tZaLo34WkZ8l"
   }
  },
  {
   "cell_type": "code",
   "source": [
    "x_1 = np.arange(-20, 20, 0.01) # The horizontal axis of the contour plot, it will represent x_1\n",
    "x_2 = np.arange(-30, 30, 0.01) # The vertical axis of the contour plot, it will represent x_1\n",
    "xx, yy = np.meshgrid(x_1, x_2, sparse=True) # This is a 2D grid of points where the function wil be evaluated\n",
    "z = my_func([xx, yy]) #  We then calculate function z \n",
    "h = plt.contourf(x_1,x_2,z,levels=20)"
   ],
   "metadata": {
    "colab": {
     "base_uri": "https://localhost:8080/",
     "height": 265
    },
    "id": "9cBK__uUkZOm",
    "outputId": "3ceeec4c-80ef-411b-993b-78cff3e9aadd"
   },
   "execution_count": null,
   "outputs": [
    {
     "output_type": "display_data",
     "data": {
      "text/plain": [
       "<Figure size 432x288 with 1 Axes>"
      ],
      "image/png": "[encoded data removed]"
     },
     "metadata": {
      "needs_background": "light"
     }
    }
   ]
  },
  {
   "cell_type": "markdown",
   "source": [
    "The yellow area shows the values that are greater. From calculus, we know that the maximum is found at $x^*$ such that: \n",
    "\n",
    "$$\\nabla f(x^*) = [0, ..., 0]^T$$\n",
    "\n",
    "In this example the gradient is a vector of length 2: \n",
    "$$\\nabla f(x) = [8-2*x_1, 16-2*x_2]^T$$\n",
    "\n",
    "We can easily find the solution analytically with a linear system of equations, one equation for each component of the gradient: \n",
    "\n",
    "$$8-2*x_1 = 0$$\n",
    "$$16-2*x_2 = 0$$\n",
    "\n",
    "So, the maximum is found at: \n",
    "\n",
    "$$x_1 = 4$$\n",
    "$$x_2 = 8$$\n",
    "\n",
    "However, in many applications, particularly in machine learning, it is computationally expensive (we would need a lot of computational resources) to find the solution of $\\nabla f(x^*) = [0, ..., 0]^T$ analytically. In those cases, gradient-descent methods are a very efficient solution to find an approximate solution. \n",
    "\n",
    "The strategy of GD methods is based on the following, it is expensive to find the value of x where the gradient is zero, but it is easy (in computational terms) to compute the value of the gradient for any value of x (e.g. $x'$). Now, if the value of the gradient at $x'$ is sufficiently small (for instance, smaller than an arbitrary error $\\epsilon$ in absolute value, $|\\nabla f(x')| \\leq [\\epsilon, ..., \\epsilon]^T$, then we can consider that it is a good estimate of the maximum! \n",
    "\n",
    "For instance, the steepest method starts at an initial $x'$, and iteratively, updates this value as: \n",
    "\n",
    "$$x'' = x' + t*\\nabla f(x')$$\n",
    "\n",
    "where t is a parameter known as the **learning rate**. The gradient is a vector that tells us the direction of **maximum change** of the function, so the algorithm takes a step in this direction at every iteration (a step of size t). When the gradient is \"reasonably close to zero\", the algorithm has found an approximation, and if not, it tries updating the value again, making x' = x'' and repeating the calculation above. Intituively, think that you are in a mountain, and you want to get to the top, but the mountain is really high, and there are trees around you, so you do not really know how to get there. However, at every step, you can move in the direction where the slope is steepest. This is what the simple gradient descent algorithm does. Note that since it is a maximization problem (and we want to get to the top of the mountain), we update x with a positive increment in the direction of the gradient. For **minimization**, we would update with a negative increment ($x'' = x' - t*\\nabla f(x')$).\n",
    "\n"
   ],
   "metadata": {
    "id": "1PCl7lsjksUY"
   }
  },
  {
   "cell_type": "markdown",
   "source": [
    "#### Define the gradient\n",
    "Ok, to make things simple and easy to update, let us define another Python function to calculate the gradient. This function will take an array as ($x=[x_1, x_2, ..., x_3]$ and return an array with the gradient of the function. By default it will compute $\\nabla(x) = [\\frac{\\delta f(x)}{\\delta x_1}, \\frac{\\delta f(x)}{\\delta x_2}] = [-2*x_1 + 8, -2*x + 16]$, but you can update it if you would like to test some other function."
   ],
   "metadata": {
    "id": "Mli34dNxddy7"
   }
  },
  {
   "cell_type": "code",
   "execution_count": null,
   "metadata": {
    "id": "XHd_WC4fGpSd"
   },
   "outputs": [],
   "source": [
    "def gradient_func(x):\n",
    "  \n",
    "  # This function returns the gradient as a Numpy array.\n",
    "  # y will contain the gradient, we initiliaze it as a zero array. \n",
    "  # since x has two components, x_1 and x_2, we initialize it as an array \n",
    "  # with two members:\n",
    "  y = [0, 0]\n",
    "  # This is the gradient of the function (8-x_1)*x_1+(16-x_2)*x_2 \n",
    "  # Here we have the first component of the gradient (-2*x_1 +8)\n",
    "  y[0] = -2*x[0]+8\n",
    "  # And here the second component (-2*x_2 + 16):\n",
    "  y[1] = -2*x[1]+16\n",
    "  return np.array(y)\n",
    "\n",
    "\n",
    "\n",
    "    "
   ]
  },
  {
   "cell_type": "markdown",
   "source": [
    "#### Gradient descent function\n",
    "Ok, now, let us program another function in Python to run the Simple Gradient Descent algorithm. This function takes the following parameters: \n",
    "\n",
    "- **start:** The starting value of x'. This is where our hike to the top (or bottom) of the mountain starts. \n",
    "- **learn_rate:** The learning rate t, or the size of the steps that we are going to take. \n",
    "- **max_iter:** Maximum number of iterations, to control that we do not enter and endless loop (or an endless hike..)\n",
    "- **tol**: This is the tolerance, or the maximum error in the approximation of the gradient $\\epsilon$. In other words, how close we want to get to the actual top of the mountain. This parameter is optional and by default takes the value 0.01\n",
    "- **sense**: This is the sense or type of optimization problem. By default the sense is \"max\" for maximization problem (to hike uphill to the top of the mountain. You can use ```sense=\"min\"``` for a minimization problem. \n",
    "- **gradient**: This is a function that computes the gradient, by default is the function ```gradient_func``` we have defined before. \n",
    "\n",
    "The algorithm will return: \n",
    "- **iterations**: An array that contains the value of x and the error at every iteration. "
   ],
   "metadata": {
    "id": "ELEuF6j9deYU"
   }
  },
  {
   "cell_type": "code",
   "source": [
    "def gradient_descent(start, learn_rate, max_iter, tol =0.01, sense=\"max\", gradient=gradient_func):\n",
    "    iterations = [] #let´s keep track of all iterations in a dict\n",
    "    x = start\n",
    "    for i in range(max_iter):\n",
    "      g = gradient(x)\n",
    "      error = np.absolute(np.array(g))\n",
    "      iterations.append([np.copy(x), np.copy(error)]) #Append to the iteration, a copy of the value and the error obtained\n",
    "\n",
    "      tolerance = tol*np.ones(error.shape)\n",
    "      if np.all(error <= tol): #If we are below tolerance exit the for loop\n",
    "        break\n",
    "      step = learn_rate*g\n",
    "      if sense == \"max\":\n",
    "        x += learn_rate*g\n",
    "      else:\n",
    "        x -= learn_rate*g\n",
    "    return iterations\n"
   ],
   "metadata": {
    "id": "thLsdv4CU8V2"
   },
   "execution_count": null,
   "outputs": []
  },
  {
   "cell_type": "markdown",
   "source": [
    "#### Testing the gradient descent\n",
    "Ok, let´s test the algorithm starting at $x = [x_1, x_2] = 0$, and use $t = 0.147$ and $epsilon = 0.1$. We will then show the result iterations in a Pandas dataframe so that we can visualize the results in a table."
   ],
   "metadata": {
    "id": "csAm63Axde3L"
   }
  },
  {
   "cell_type": "code",
   "source": [
    "## These are the parameters for the Simple Gradient Descent\n",
    "start_point = np.array([0.0, 0.0])\n",
    "t = 0.25\n",
    "tolerance = 0.1\n",
    "\n",
    "# Let us compute the iterations\n",
    "iter = gradient_descent(start_point, t, max_iter=100, tol=tolerance)\n",
    "\n",
    "# Now, let´s plot the info in a dataframe\n",
    "pd.DataFrame(iter, columns= [\"X\", \"error\"])\n",
    "\n"
   ],
   "metadata": {
    "colab": {
     "base_uri": "https://localhost:8080/",
     "height": 331
    },
    "id": "tPYrpi9ySbXn",
    "outputId": "f30c8f91-4e3c-49fc-ea66-231d0a291d51"
   },
   "execution_count": null,
   "outputs": [
    {
     "output_type": "execute_result",
     "data": {
      "text/plain": [
       "                     X              error\n",
       "0           [0.0, 0.0]        [8.0, 16.0]\n",
       "1           [2.0, 4.0]         [4.0, 8.0]\n",
       "2           [3.0, 6.0]         [2.0, 4.0]\n",
       "3           [3.5, 7.0]         [1.0, 2.0]\n",
       "4          [3.75, 7.5]         [0.5, 1.0]\n",
       "5        [3.875, 7.75]        [0.25, 0.5]\n",
       "6      [3.9375, 7.875]      [0.125, 0.25]\n",
       "7    [3.96875, 7.9375]    [0.0625, 0.125]\n",
       "8  [3.984375, 7.96875]  [0.03125, 0.0625]"
      ],
      "text/html": [
       "\n",
       "  <div id=\"df-27cac0aa-1763-41fd-8495-4895a976d875\">\n",
       "    <div class=\"colab-df-container\">\n",
       "      <div>\n",
       "<style scoped>\n",
       "    .dataframe tbody tr th:only-of-type {\n",
       "        vertical-align: middle;\n",
       "    }\n",
       "\n",
       "    .dataframe tbody tr th {\n",
       "        vertical-align: top;\n",
       "    }\n",
       "\n",
       "    .dataframe thead th {\n",
       "        text-align: right;\n",
       "    }\n",
       "</style>\n",
       "<table border=\"1\" class=\"dataframe\">\n",
       "  <thead>\n",
       "    <tr style=\"text-align: right;\">\n",
       "      <th></th>\n",
       "      <th>X</th>\n",
       "      <th>error</th>\n",
       "    </tr>\n",
       "  </thead>\n",
       "  <tbody>\n",
       "    <tr>\n",
       "      <th>0</th>\n",
       "      <td>[0.0, 0.0]</td>\n",
       "      <td>[8.0, 16.0]</td>\n",
       "    </tr>\n",
       "    <tr>\n",
       "      <th>1</th>\n",
       "      <td>[2.0, 4.0]</td>\n",
       "      <td>[4.0, 8.0]</td>\n",
       "    </tr>\n",
       "    <tr>\n",
       "      <th>2</th>\n",
       "      <td>[3.0, 6.0]</td>\n",
       "      <td>[2.0, 4.0]</td>\n",
       "    </tr>\n",
       "    <tr>\n",
       "      <th>3</th>\n",
       "      <td>[3.5, 7.0]</td>\n",
       "      <td>[1.0, 2.0]</td>\n",
       "    </tr>\n",
       "    <tr>\n",
       "      <th>4</th>\n",
       "      <td>[3.75, 7.5]</td>\n",
       "      <td>[0.5, 1.0]</td>\n",
       "    </tr>\n",
       "    <tr>\n",
       "      <th>5</th>\n",
       "      <td>[3.875, 7.75]</td>\n",
       "      <td>[0.25, 0.5]</td>\n",
       "    </tr>\n",
       "    <tr>\n",
       "      <th>6</th>\n",
       "      <td>[3.9375, 7.875]</td>\n",
       "      <td>[0.125, 0.25]</td>\n",
       "    </tr>\n",
       "    <tr>\n",
       "      <th>7</th>\n",
       "      <td>[3.96875, 7.9375]</td>\n",
       "      <td>[0.0625, 0.125]</td>\n",
       "    </tr>\n",
       "    <tr>\n",
       "      <th>8</th>\n",
       "      <td>[3.984375, 7.96875]</td>\n",
       "      <td>[0.03125, 0.0625]</td>\n",
       "    </tr>\n",
       "  </tbody>\n",
       "</table>\n",
       "</div>\n",
       "      <button class=\"colab-df-convert\" onclick=\"convertToInteractive('df-27cac0aa-1763-41fd-8495-4895a976d875')\"\n",
       "              title=\"Convert this dataframe to an interactive table.\"\n",
       "              style=\"display:none;\">\n",
       "        \n",
       "  <svg xmlns=\"http://www.w3.org/2000/svg\" height=\"24px\"viewBox=\"0 0 24 24\"\n",
       "       width=\"24px\">\n",
       "    <path d=\"M0 0h24v24H0V0z\" fill=\"none\"/>\n",
       "    <path d=\"M18.56 5.44l.94 2.06.94-2.06 2.06-.94-2.06-.94-.94-2.06-.94 2.06-2.06.94zm-11 1L8.5 8.5l.94-2.06 2.06-.94-2.06-.94L8.5 2.5l-.94 2.06-2.06.94zm10 10l.94 2.06.94-2.06 2.06-.94-2.06-.94-.94-2.06-.94 2.06-2.06.94z\"/><path d=\"M17.41 7.96l-1.37-1.37c-.4-.4-.92-.59-1.43-.59-.52 0-1.04.2-1.43.59L10.3 9.45l-7.72 7.72c-.78.78-.78 2.05 0 2.83L4 21.41c.39.39.9.59 1.41.59.51 0 1.02-.2 1.41-.59l7.78-7.78 2.81-2.81c.8-.78.8-2.07 0-2.86zM5.41 20L4 18.59l7.72-7.72 1.47 1.35L5.41 20z\"/>\n",
       "  </svg>\n",
       "      </button>\n",
       "      \n",
       "  <style>\n",
       "    .colab-df-container {\n",
       "      display:flex;\n",
       "      flex-wrap:wrap;\n",
       "      gap: 12px;\n",
       "    }\n",
       "\n",
       "    .colab-df-convert {\n",
       "      background-color: #E8F0FE;\n",
       "      border: none;\n",
       "      border-radius: 50%;\n",
       "      cursor: pointer;\n",
       "      display: none;\n",
       "      fill: #1967D2;\n",
       "      height: 32px;\n",
       "      padding: 0 0 0 0;\n",
       "      width: 32px;\n",
       "    }\n",
       "\n",
       "    .colab-df-convert:hover {\n",
       "      background-color: #E2EBFA;\n",
       "      box-shadow: 0px 1px 2px rgba(60, 64, 67, 0.3), 0px 1px 3px 1px rgba(60, 64, 67, 0.15);\n",
       "      fill: #174EA6;\n",
       "    }\n",
       "\n",
       "    [theme=dark] .colab-df-convert {\n",
       "      background-color: #3B4455;\n",
       "      fill: #D2E3FC;\n",
       "    }\n",
       "\n",
       "    [theme=dark] .colab-df-convert:hover {\n",
       "      background-color: #434B5C;\n",
       "      box-shadow: 0px 1px 3px 1px rgba(0, 0, 0, 0.15);\n",
       "      filter: drop-shadow(0px 1px 2px rgba(0, 0, 0, 0.3));\n",
       "      fill: #FFFFFF;\n",
       "    }\n",
       "  </style>\n",
       "\n",
       "      <script>\n",
       "        const buttonEl =\n",
       "          document.querySelector('#df-27cac0aa-1763-41fd-8495-4895a976d875 button.colab-df-convert');\n",
       "        buttonEl.style.display =\n",
       "          google.colab.kernel.accessAllowed ? 'block' : 'none';\n",
       "\n",
       "        async function convertToInteractive(key) {\n",
       "          const element = document.querySelector('#df-27cac0aa-1763-41fd-8495-4895a976d875');\n",
       "          const dataTable =\n",
       "            await google.colab.kernel.invokeFunction('convertToInteractive',\n",
       "                                                     [key], {});\n",
       "          if (!dataTable) return;\n",
       "\n",
       "          const docLinkHtml = 'Like what you see? Visit the ' +\n",
       "            '<a target=\"_blank\" href=https://colab.research.google.com/notebooks/data_table.ipynb>data table notebook</a>'\n",
       "            + ' to learn more about interactive tables.';\n",
       "          element.innerHTML = '';\n",
       "          dataTable['output_type'] = 'display_data';\n",
       "          await google.colab.output.renderOutput(dataTable, element);\n",
       "          const docLink = document.createElement('div');\n",
       "          docLink.innerHTML = docLinkHtml;\n",
       "          element.appendChild(docLink);\n",
       "        }\n",
       "      </script>\n",
       "    </div>\n",
       "  </div>\n",
       "  "
      ]
     },
     "metadata": {},
     "execution_count": 25
    }
   ]
  },
  {
   "cell_type": "markdown",
   "source": [
    "Ok, let us visualize the result in a countour graph. We are going to use red arrows to represent how the different iterations converge to the maximum. Each red arrow starts at x' and stops at x'' (x' ⇒ x'')."
   ],
   "metadata": {
    "id": "7T3No-FNdf37"
   }
  },
  {
   "cell_type": "code",
   "source": [
    "x_1 = np.arange(-2, 10, 0.01)\n",
    "x_2 = np.arange(-2, 15, 0.01)\n",
    "xx, yy = np.meshgrid(x_1, x_2, sparse=True)\n",
    "z = my_func([xx, yy])\n",
    "h = plt.contourf(x_1,x_2,z,levels=10)\n",
    "for i in range(1,len(iter)):\n",
    "  start_point = iter[i-1][0]\n",
    "  end_point = iter[i][0]\n",
    "  plt.arrow(start_point[0], start_point[1], end_point[0] - start_point[0], end_point[1] - start_point[1], \n",
    "          color='red', width=0.1, head_width=0.4, head_length=1, length_includes_head=True)\n",
    "\n",
    "plt.show()"
   ],
   "metadata": {
    "colab": {
     "base_uri": "https://localhost:8080/",
     "height": 265
    },
    "id": "LxNkbho4Tr7H",
    "outputId": "3390c792-990a-4a73-8382-77fb5ef99d4c"
   },
   "execution_count": null,
   "outputs": [
    {
     "output_type": "display_data",
     "data": {
      "text/plain": [
       "<Figure size 432x288 with 1 Axes>"
      ],
      "image/png": "[encoded data removed]"
     },
     "metadata": {
      "needs_background": "light"
     }
    }
   ]
  },
  {
   "cell_type": "markdown",
   "source": [
    "# Questions\n",
    "\n",
    "1.   Repeat the experimentation with lower tolerances values and note how the number of iterations increases. For instance, try to modify the script to achieve a tolerance of 0.01. How many iterations did the algorithm need, and what is the difference in the estimated x with respect to the previous experiment. What if you decrease it to 0.001?\n",
    "2.   What happens with the distances between iterations as we get closer to the maximum? Can you reason why this happens?\n",
    "3. Let us experiment now with the learning rate t. Let us set the tolerance back to 0.1 and test the script above with a learning rate of 0.25. Is convergence faster (in less iterations)? Try it now with a value of 1. Did the algorithm find an optimal solution? What about 0.5? What can we say about the sensitivity of the algorithm to changes in the learning rate?\n",
    "4. We know where the maximum solution is. Can we use the second partial derivative test generalization to know if it is a local maximum or minimum?\n",
    "5. Can you repeat the experiment for another function, for instance, minimize $z = f(x) = 2*x_1^2 + x_2^2 - 10*(x_1 + x_2)$?\n",
    "\n",
    "\n"
   ],
   "metadata": {
    "id": "cZ-5xhr-MU1e"
   }
  }
 ]
}
