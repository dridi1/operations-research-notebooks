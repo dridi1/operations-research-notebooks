{
 "cells": [
  {
   "cell_type": "markdown",
   "metadata": {
    "collapsed": true,
    "pycharm": {
     "name": "#%% md\n"
    }
   },
   "source": [
    "# Continuous Linear Programming\n",
    "## Definition\n",
    "Continuous Linear Programming (CLP) spans a wide set of OR problems that can be modeled based on the following assumptions:\n",
    "\n",
    "- Unknown variables are continuous: The result variable and the decision variables can take any real value. Also, all the different coefficients can take any real value.\n",
    "- Objectives and constraints are linear expressions: The relationships between the variables are expressed as linear expressions. \n",
    "\n",
    "Clearly, CLP establishes a rather simplified model of real world problems. Many assumptions are needed to represent real problems as a set of linear expressions. Yet, CLP is a very powerful tool in OR and it can provide valuable insights to decision making in different fields. The main reason is that, once these assumptions are taken, linear algebra provides valuable tools to find an optimal solution and analyse it.  \n",
    "\n",
    "The main types of problems that will be covered in the CLP exercises belong to two problem types:\n",
    "\n",
    "- Blending problems: In blending problems, the objective is to find the optimal combination of components in a set of products that either minimise costs or maximise profits \n",
    "- Production mix: Production mix problems help us determine the optimal allocation of resources in the production of good or services to either minimise costs or maximise profits\n",
    "\n",
    "## Set up\n",
    "As mentioned above, in CLP the result unknown variable, noted as $z$, can take any real value:\n",
    "\n",
    "$z \\in \\mathbb{R}$\n",
    "\n",
    "The value of this unknown $z$ is a function of another set of unknowns, which are called decision variables and that represent our decisions. These decision variables are noted as $x_j$, where $j$ is an integer (sub)index that goes from 1 to $n$: \n",
    "\n",
    "$z = \\operatorname{f}(x_1, x_2, ..., x_n)$\n",
    "\n",
    "$x_1, x_2, ..., x_n \\in \\mathbb{R}$\n",
    "\n",
    "Therefore, we will have $n$ different decision variables, that are going to be continuous. And, in extension, z is also going to be continuous. So now we know from where does the C in CLP comes from. Next, in CLP, the function f is a linear function. What we want is to maximise or minimise z, which as we said is a linear function and therefore can be expressed as the sum of the product of the decision variables multiplied by a set of coefficients, which are noted as $c_1$ to $c_n$.\n",
    "\n",
    "$\\max or \\min z = \\operatorname{f}(x_1, x_2, ..., x_n) = c_1·x_1+c_2·x_2+...+c_n·x_n$\n",
    "\n",
    "And our optimisation function is subject to a set of constraints, which are also linear functions of the decision variables, that is, the sum product of the decision variables times a set of coefficients noted as $a_{ij}$ must be less than, greater than, or equal to another coefficient noted as $b_j$. \n",
    "\n",
    "$s.t. \\\\\n",
    "a_{11}·x_1+a_{12}·x_2+...+a_{1n}·x_n \\leq b_1 \\\\\n",
    "a_{21}·x_1+a_{22}·x_2+...+a_{2n}·x_n \\leq b_2 \\\\\n",
    "... \\\\\n",
    "a_{m1}·x_1+a_{m2}·x_2+...+a_{mn}·x_n \\leq b_m$\n",
    "\n",
    "\n",
    "Note that coefficients a have two sub-indexes, the second is equal to the index of the corresponding decision variable, and the first is equal to the sub-index of b.\n",
    "These new index $i$ ranges from 1 to $m$ and therefore, our optimisation function is subject to a set of $m$ constraints.\n",
    "We will refer to the expressions to the left of the inequality as the Left Hand Side (LHS), and to the other side of the relationship as the Right Hand Side (RHS).\n",
    "\n",
    "Now, note that we can use the sum operator to represent the objective function in a more compressed form, that is, the LHS is equal to the sum of the product of cj times xj for j equal to 1 up to n. Note that this is can also be represented as the dot product of two vectors, the vector $x$ with the decision variables and the vector $c$ of the coefficients.\n",
    "\n",
    "$\\max or \\min z = c_1·x_1+c_2·x_2+...+c_n·x_n = \\sum_{j=1}^{n}{c_j·x_j}=c·x$\n",
    "\n",
    "$x = [x_1, x_2, ..., x_n]^T \\\\\n",
    "c = [c_1, c_2, ..., c_n]^T$\n",
    "\n",
    "We can do the same transformations to the left hand sides of the constraints, expressing them as the sum product of the decision variables times the a coefficients. And, we may as well express all the left hand sides of the constraints as the product of a matrix A that contains all the different coefficients times the decision variable vector.\n",
    "\n",
    "$\\max or \\min z = \\sum_{j=1}^{n}{c_j·x_j} \\\\\n",
    "s.t.\n",
    "\\sum_{j=1}^{n}{a_{1j}·x_j}\\leq b_1 \\\\\n",
    "\\sum_{j=1}^{n}{a_{2j}·x_j}\\leq b_2 \\\\\n",
    "...\n",
    "\\sum_{j=1}^{n}{a_{mj}·x_j}\\leq b_m$\n",
    "\n",
    "or\n",
    "$\\max or \\min z = c·x \\\\\n",
    "s.t. \\\\\n",
    "A·x \\leq b \\\\\n",
    "A = \\begin{bmatrix}\n",
    "a_{11} & a_{12} & ... & a_{1n}\\\\\n",
    "a_{21} & a_{22} & ... & a_{2n}\\\\\n",
    "...\\\\\n",
    "a_{m1} & a_{m2} & ... & a_{mn}\\\\\n",
    "\\end{bmatrix}$\n",
    "\n",
    "$b = [b_1, b_2, ..., b_m]$\n",
    "\n",
    "These alternative compact forms allow us to deal with problems with an arbitrary number of decision variables and an arbitrary number of constraints.\n",
    "\n"
   ]
  }
 ],
 "metadata": {
  "kernelspec": {
   "display_name": "Python 3",
   "language": "python",
   "name": "python3"
  },
  "language_info": {
   "codemirror_mode": {
    "name": "ipython",
    "version": 2
   },
   "file_extension": ".py",
   "mimetype": "text/x-python",
   "name": "python",
   "nbconvert_exporter": "python",
   "pygments_lexer": "ipython2",
   "version": "2.7.6"
  },
  "pycharm": {
   "stem_cell": {
    "cell_type": "raw",
    "source": [],
    "metadata": {
     "collapsed": false
    }
   }
  }
 },
 "nbformat": 4,
 "nbformat_minor": 0
}