{
 "cells": [
  {
   "cell_type": "markdown",
   "metadata": {},
   "source": [
    "# Interactive Sensitivity Analysis \n",
    "In this notebook, you can experiment with the graphic representation of a linear programming problem. The objective is \n",
    "to assess the impact that the changes in the problem coefficient have in the optimal solution. \n",
    "## Problem model\n",
    "The problem model is taken from the Production Mix problem: \n",
    "\n",
    "$max Z = 300x_{1} + 250x_{2} + 0s_{1} + 0s_{2} + 0s_{3}$\n",
    "\n",
    "And the constraints as:\n",
    "\n",
    "$2x_{1} + x_{2} + s_{1} = 40$  \n",
    "$x_{1} + 3x_{2} + s_{2} = 45$  \n",
    "$x_{1} + s_{3} = 12$  \n"
   ]
  },
  {
   "cell_type": "markdown",
   "source": [
    "## Changes in the objective function coefficient\n",
    "The code cell below allows you to modify the coefficients of the objective function through sliders,  to see how the \n",
    "modify the slope of the objective function. Depending on the changes, the optimal solution might be at another vertex, \n",
    "so the objective function slider allows to modify the objective variable z to find the optimal value in these cases. \n",
    "Remember, the optimal value will be always the highest value of z where the objective function intersects with the \n",
    "feasibility region. "
   ],
   "metadata": {
    "collapsed": false
   }
  },
  {
   "cell_type": "code",
   "execution_count": 6,
   "outputs": [
    {
     "data": {
      "text/plain": "interactive(children=(IntSlider(value=6350, description='z', max=9000, min=3000, step=10), IntSlider(value=300…",
      "application/vnd.jupyter.widget-view+json": {
       "version_major": 2,
       "version_minor": 0,
       "model_id": "d5e193d7dabf4c0c8ea8b3413fa6582a"
      }
     },
     "metadata": {},
     "output_type": "display_data"
    }
   ],
   "source": [
    "#Import the numpy and pyplot libraries, we set the aliases np and plt so that it is easier to use \n",
    "import numpy as np\n",
    "import matplotlib.pyplot as plt\n",
    "import ipywidgets as widgets\n",
    "from ipywidgets import interact, interact_manual\n",
    "#We set the mode inline of matplotlib to get the result at the output of the cell code\n",
    "%matplotlib inline\n",
    "\n",
    "#Construct lines, in our coordinate system x represents our decision variable x1 and y represents our decision variable x2\n",
    "x=np.linspace(0,30,2000) #2000 numbers from 0 to 30\n",
    "\n",
    "\n",
    "\n",
    "\n",
    "\n",
    "\n",
    "@interact(z=(3000,9000,10), c1=(100,500,10), c2=(100,500,10))\n",
    "def show_solution(z=6350, c1=300, c2=250):\n",
    "    \n",
    "    y1=40 - 2*x    # Operator time constraint\n",
    "    y2=15-x/3      # Machining time constraint\n",
    "    \n",
    "    plt.plot()\n",
    "\n",
    "    #1. Make plot\n",
    "    plt.plot(x, y1, label=r'$2x_{1} + x_{2} \\leq 40$', c='orange', ls='dashed')             #Plot y1\n",
    "    plt.plot(x, y2, label=r'$x_{1} + 3x_{2} \\leq 45$', c='red')    #Plot y2\n",
    "    plt.axvline(x=12, label=r'$x_{1} \\leq 12$', c='green')           #plot y3\n",
    "\n",
    "    #2. Adjust axis\n",
    "    plt.xlim((0, 50))\n",
    "    plt.ylim((0, 45))\n",
    "    plt.xlabel(r'$x_{1}$')\n",
    "    plt.ylabel(r'$x_{2}$')\n",
    "\n",
    "    #3. Fill feasible region\n",
    "    y4=np.minimum(y1, y2)  #line representing the maximum between y3 and y2\n",
    "    plt.fill_between(x, y4, 0, where=x<12, color='grey', alpha=0.5) #fill where y5 ys greater than y6\n",
    "\n",
    " \n",
    "    #4 Annotate graph\n",
    "    plt.annotate('A', xy=(0, 0))\n",
    "    plt.annotate('B', xy=(0, 15))\n",
    "    plt.annotate('D',xy=(12, 0))\n",
    "    plt.annotate('E', xy=(12,11))\n",
    "\n",
    "    # 5. Plot objective function\n",
    "    obj_func= (z - c1*x)/c2 # we clear the x2 with the value of z\n",
    "    plt.plot(x, obj_func, label=r'$z = c_1*x_1 + c_2*x_2$', c='black')\n",
    "\n",
    "    # 6. Plot legend\n",
    "    plt.legend(bbox_to_anchor=(1.05,1), loc=2, borderaxespad=0.)"
   ],
   "metadata": {
    "collapsed": false,
    "pycharm": {
     "name": "#%%\n",
     "is_executing": false
    }
   }
  },
  {
   "cell_type": "markdown",
   "metadata": {},
   "source": [
    "## Changes in the constraint independent terms\n",
    "The code cell below allows you to modify the independent terms of the constraints. The changes are going to change the \n",
    "feasibility region and again, if they are too extrem, the solution might change to another vertex. "
   ]
  },
  {
   "cell_type": "code",
   "execution_count": 7,
   "metadata": {
    "pycharm": {
     "is_executing": false,
     "name": "#%%\n"
    }
   },
   "outputs": [
    {
     "data": {
      "text/plain": "interactive(children=(IntSlider(value=6350, description='z', max=9000, min=3000, step=10), IntSlider(value=40,…",
      "application/vnd.jupyter.widget-view+json": {
       "version_major": 2,
       "version_minor": 0,
       "model_id": "f53989e3cfe2416fb268d15a1ac1f1c7"
      }
     },
     "metadata": {},
     "output_type": "display_data"
    }
   ],
   "source": [
    "#Import the numpy and pyplot libraries, we set the aliases np and plt so that it is easier to use \n",
    "import numpy as np\n",
    "import matplotlib.pyplot as plt\n",
    "import ipywidgets as widgets\n",
    "from ipywidgets import interact, interact_manual\n",
    "#We set the mode inline of matplotlib to get the result at the output of the cell code\n",
    "%matplotlib inline\n",
    "\n",
    "#Construct lines, in our coordinate system x represents our decision variable x1 and y represents our decision variable x2\n",
    "x=np.linspace(0,30,2000) #2000 numbers from 0 to 30\n",
    "\n",
    "\n",
    "\n",
    "\n",
    "\n",
    "@interact(z=(3000,9000,10), b1=(10,100,1), b2=(10,100,1), b3 = (1, 20, 0.1))\n",
    "def show_solution(z=6350, b1=40, b2=45, b3=12):\n",
    "    \n",
    "    y_min=x*0         # non negativity constraint\n",
    "    y_max = 250 + 0*x        \n",
    "    \n",
    "    y1 = b1 - 2*x    # Operator time constraint\n",
    "    y2=b2/3-x/3      # Machining time constraint\n",
    "\n",
    "    plt.plot()\n",
    "\n",
    "    #1. Make plot\n",
    "    plt.plot(x, y1, label=r'$2x_{1} + x_{2} \\leq b_1$', c='orange')             #Plot y1\n",
    "    plt.plot(x, y2, label=r'$x_{1} + 3x_{2} \\leq b_2$', c='red')    #Plot y2\n",
    "    plt.axvline(x=b3, label=r'$x_{1} \\leq b_3$', c='green')           #plot y3\n",
    "\n",
    "    #2. Adjust axis\n",
    "    plt.xlim((0, 50))\n",
    "    plt.ylim((0, 45))\n",
    "    plt.xlabel(r'$x_{1}$')\n",
    "    plt.ylabel(r'$x_{2}$')\n",
    "\n",
    "    #3. Fill feasible region\n",
    "    y4=np.minimum(y1, y2)  #line representing the maximum between y3 and y2\n",
    "    plt.fill_between(x, y4, 0, where=x<b3, color='grey', alpha=0.5) #fill where y5 ys greater than y6\n",
    "\n",
    " \n",
    "    \n",
    "\n",
    "    # 5. Plot objective function\n",
    "    obj_func= (z - 300*x)/250 # we clear the x2 with the value of z\n",
    "    plt.plot(x, obj_func, label=r'$z = 300*x_1 + 250*x_2$', c='black')\n",
    "\n",
    "    # 6. Plot legend\n",
    "    plt.legend(bbox_to_anchor=(1.05,1), loc=2, borderaxespad=0.)"
   ]
  }
 ],
 "metadata": {
  "colab": {
   "name": "CLP assignment.ipynb",
   "provenance": []
  },
  "kernelspec": {
   "display_name": "Python 3",
   "language": "python",
   "name": "python3"
  },
  "language_info": {
   "codemirror_mode": {
    "name": "ipython",
    "version": 3
   },
   "file_extension": ".py",
   "mimetype": "text/x-python",
   "name": "python",
   "nbconvert_exporter": "python",
   "pygments_lexer": "ipython3",
   "version": "3.8.1"
  },
  "pycharm": {
   "stem_cell": {
    "cell_type": "raw",
    "source": [],
    "metadata": {
     "collapsed": false
    }
   }
  }
 },
 "nbformat": 4,
 "nbformat_minor": 1
}