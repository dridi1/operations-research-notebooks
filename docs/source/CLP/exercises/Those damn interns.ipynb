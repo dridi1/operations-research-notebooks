{
 "cells": [
  {
   "cell_type": "markdown",
   "metadata": {},
   "source": [
    "# Those damn interns\n",
    "## Problem II\n",
    "You are the production manager of a company. You have used the following programming model to define the optimal production plan. The problem is expressed in the standard form.\n",
    "Objective function:\n",
    "\n",
    "Max z = 3X1+4X2-MA1+0S2+0S3\n",
    "subject to:\n",
    "X1+0X2+A1+0S2+0S3=18\n",
    "20X1+40X2+0A1+S2+0S3=1000\n",
    "26.67X1+20X2+0A1+0S2+S3=800\n",
    "*The slack variables are indexed in order of appearance.\n",
    "\n",
    "The intern submitted the following data describing the solution obtained by a solver. This solver provides the solution of both the primal and the dual and a sensitivity analysis in a table, but your intern handled you the following handwritten report:\n",
    "\n",
    "X1 ->\n",
    "Solution value: 18\n",
    "Reduced Cost: ?\n",
    "Status: basic\n",
    "Objective coefficient: ?\n",
    "Objective Lower Bound:  -Inf\n",
    "Objective Upper Bound: 5.334\n",
    "\n",
    "X2 ->\n",
    "Solution value: 15.997\n",
    "Reduced Cost: ?\n",
    "Status: ?\n",
    "Objective coefficient: 4\n",
    "Objective Lower Bound:  2.2497\n",
    "Objective Upper Bound: Inf\n",
    "\n",
    "A1->\n",
    "RHS= 18\n",
    "Slack = 0\n",
    "Sense = ?\n",
    "Shadow price= -2.334\n",
    "Min RHS= 17.9964\n",
    "Max RHS= 29.9963\n",
    "\n",
    "S2->\n",
    "RHS= 1000\n",
    "Slack = 0.12\n",
    "Sense = less or equal\n",
    "Shadow price= 0\n",
    "Min RHS= 999.\n",
    "Max RHS= Inf\n",
    "\n",
    "S3->\n",
    "RHS= ?\n",
    "Slack = ?\n",
    "Sense = less or equal\n",
    "Shadow price= 0\n",
    "Min RHS= 480.06\n",
    "Max RHS= 800.06\n",
    "\n",
    "\n",
    "**a.** You analise the solution and notice that there are some missing values noted as ? (You are going to fire this intern!). Write down the values missing in the solution. Motivate your response in each case\n",
    "\n",
    "\n",
    "**b.** Which of the two decision variables has a larger contribution to the optimal solution? Motivate your response. \n",
    "\n",
    "\n",
    "**c.** The first constraint determines the value of one of the decision variables (X1). What would happen to the objective function if the right hand side of this constraint changes to 19? and to 31? Motivate your response\n",
    "\n",
    "\n",
    "**d.** What would happen to the solution if the objective function coefficient of X1 changes to 5? And what if the coefficient of X2 changes to 3? Motivate your response\n"
   ]
  },
  {
   "cell_type": "code",
   "execution_count": null,
   "metadata": {},
   "outputs": [],
   "source": []
  }
 ],
 "metadata": {
  "kernelspec": {
   "display_name": "Python 3",
   "language": "python",
   "name": "python3"
  },
  "language_info": {
   "codemirror_mode": {
    "name": "ipython",
    "version": 3
   },
   "file_extension": ".py",
   "mimetype": "text/x-python",
   "name": "python",
   "nbconvert_exporter": "python",
   "pygments_lexer": "ipython3",
   "version": "3.7.4"
  },
  "pycharm": {
   "stem_cell": {
    "cell_type": "raw",
    "source": [],
    "metadata": {
     "collapsed": false
    }
   }
  }
 },
 "nbformat": 4,
 "nbformat_minor": 2
}