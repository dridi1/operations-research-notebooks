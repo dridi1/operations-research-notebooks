{
 "cells": [
  {
   "cell_type": "markdown",
   "metadata": {},
   "source": [
    "# Production Mix\n",
    "## Problem definition\n",
    "Chappie Ltd. has 3 production lines (A, B, and C) to make 4 different types of metal sheets of width 0.4, 05, 0.6, and 0.7 mm. The company needs to meet the monthly demand for each kind of product (in Tons) expressed in the next table:\n",
    "\n",
    "| **Sheet 0.4 mm** |  **Sheet 0.5 mm**| **Sheet 0.6 mm** |  **Sheet 0.7 mm**|\n",
    "|--|--|--|--|\n",
    "| 500 | 1200 | 1500 | 300\n",
    "\n",
    "\n",
    "The production lines do not have the same overall efficiency for all types of sheets. Furthermore, due to design constraints, not all the lines are capable of manufacturing all types of sheets. The table below indicates the manufacturing costs in € of the different products in the different lines (a dash “-“ means that it is not possible to manufacture a product in a line):\n",
    "\n",
    "| Line    | Sheet 0.4 mm | Sheet 0.5 mm | Sheet 0.6 mm | Sheet 0.7 mm |\n",
    "|---------|--------------|--------------|--------------|--------------|\n",
    "|    A    |    60        |    50        |    50        |    45        |\n",
    "|    B    |    80        |    70        |    75        |    70        |\n",
    "|    C    |    -         |    60        |    60        |    -         |\n",
    "\n",
    "The different lines have the following capacities (in hours) in the planning period:\n",
    "\n",
    "\n",
    "| A   | B   | C   |\n",
    "|-----|-----|-----|\n",
    "| 500 | 480 | 370 |\n",
    "\n",
    "And the following table represents the manufacturing time (hours) per ton of product required for each type of metal sheet in the different lines:\n",
    "\n",
    "|    Line    |    Sheet 0.4   mm    |    Sheet 0.5   mm    |    Sheet 0.6   mm    |    Sheet 0.7   mm    |\n",
    "|------------|----------------------|----------------------|----------------------|----------------------|\n",
    "|    A       |    0.4               |    0.3               |    0.3               |    0.25              |\n",
    "|    B       |    0.8               |    0.6               |    0.7               |    0.6               |\n",
    "|    C       |    -                 |    0.5               |    0.4               |    -                 |"
   ]
  },
  {
   "cell_type": "markdown",
   "metadata": {},
   "source": [
    "**Formulate a linear programming problem to obtain the monthly production plan (quantity of metal sheet in tons of each type of metal sheet to be manufactured in each production line)**"
   ]
  },
  {
   "cell_type": "code",
   "execution_count": null,
   "metadata": {},
   "outputs": [],
   "source": []
  }
 ],
 "metadata": {
  "kernelspec": {
   "display_name": "Python 3",
   "language": "python",
   "name": "python3"
  },
  "language_info": {
   "codemirror_mode": {
    "name": "ipython",
    "version": 3
   },
   "file_extension": ".py",
   "mimetype": "text/x-python",
   "name": "python",
   "nbconvert_exporter": "python",
   "pygments_lexer": "ipython3",
   "version": "3.7.4"
  }
 },
 "nbformat": 4,
 "nbformat_minor": 2
}
