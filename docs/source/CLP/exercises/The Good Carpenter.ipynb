{
 "cells": [
  {
   "cell_type": "markdown",
   "metadata": {
    "collapsed": true,
    "pycharm": {
     "name": "#%% md\n"
    }
   },
   "source": [
    "# The good carpenter\n",
    "\n",
    "\"The Fog Ltd\" is a modern furniture company that makes tables and chairs. The selling price of a table is 30€ and the selling price of chairs is 10€. \n",
    "The carpenter at the company works up to 40 hours and needs 6 hours to make a table and 3 hours to make a chair. \n",
    "Customer demand requires that he makes at least 3 times as many chairs as tables. \n",
    "Tables take up four times as much storage space as chairs and there is room for at most four tables each week.\n",
    "\n",
    "What is the optimal weekly production plan that optimises revenues?\n",
    "\n",
    "Formulate this problem as a linear programming problem.\n"
   ]
  }
 ],
 "metadata": {
  "kernelspec": {
   "display_name": "Python 3",
   "language": "python",
   "name": "python3"
  },
  "language_info": {
   "codemirror_mode": {
    "name": "ipython",
    "version": 2
   },
   "file_extension": ".py",
   "mimetype": "text/x-python",
   "name": "python",
   "nbconvert_exporter": "python",
   "pygments_lexer": "ipython2",
   "version": "2.7.6"
  },
  "pycharm": {
   "stem_cell": {
    "cell_type": "raw",
    "source": [],
    "metadata": {
     "collapsed": false
    }
   }
  }
 },
 "nbformat": 4,
 "nbformat_minor": 0
}