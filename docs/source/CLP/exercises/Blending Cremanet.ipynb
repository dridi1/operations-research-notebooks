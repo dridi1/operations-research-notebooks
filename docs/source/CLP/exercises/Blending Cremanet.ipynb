{
 "cells": [
  {
   "cell_type": "markdown",
   "source": [
    "# Blending Cremanet\n",
    "## Problem description\n",
    "\n",
    "![DALL·E 2024-02-08 17.04.36 - Imagine an advertisement for a unique energy drink named 'Cremanet', capturing the essence of the traditional Valencian drink, Cremaet, with a modern twist](../img/CREMANET.PNG)\n",
    "\n",
    "Cremanet is an energy drink that is inspired in the typical Valencian drink \"Cremaet\". The main ingredients of Cremaet are: \n",
    "\n",
    "- Coffee: Coffee has a strong flavor and a high caffeine content. The specific type of coffee grain used in Cremaet yields a cost of 4€ per liter, and it contains 170 mg of caffeine per liter.\n",
    "- Rum mix: The rum mix is a blend of rum, sugar, and orange peel. The cost of the rum mix is 15€ per liter, and it contains 32% alcohol (which corresponds to 32 grams of alcohol per 100ml of rum mix). \n",
    "\n",
    "Cremaenet wants to position itself as a premium energy drink with a mild level of alcohol, according to the following specifications:\n",
    "\n",
    "- The caffeine content of Cremanet should be at least 100 mg per liter.\n",
    "- The alcohol content of Cremanet should be at most 15%.\n",
    "\n",
    "The company has already received an order to produce 10 liters of cremanet. Also, the maximum availability of coffee is 20 liters, and the maximum availability of rum mix is 10 liters.\n",
    "\n",
    "**Develop a linear programming model that allows Cremanet to determine the amount of coffee and rum mix that should be used in the production of Cremanet, such that the cost of the ingredients is minimized.**\n",
    "\n"
   ],
   "metadata": {
    "collapsed": false
   },
   "id": "7539dd73ddf7ac69"
  }
 ],
 "metadata": {
  "kernelspec": {
   "display_name": "Python 3",
   "language": "python",
   "name": "python3"
  },
  "language_info": {
   "codemirror_mode": {
    "name": "ipython",
    "version": 2
   },
   "file_extension": ".py",
   "mimetype": "text/x-python",
   "name": "python",
   "nbconvert_exporter": "python",
   "pygments_lexer": "ipython2",
   "version": "2.7.6"
  }
 },
 "nbformat": 4,
 "nbformat_minor": 5
}
