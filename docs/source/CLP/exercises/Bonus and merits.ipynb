{
 "cells": [
  {
   "cell_type": "markdown",
   "metadata": {},
   "source": [
    "# Bonuses and merits\n",
    "\n",
    "## Problem definition\n",
    "A company pays a yearly bonus to employees based on the following indicators:\n",
    "\n",
    "1. **Performance:** Performance is evaluated by the direct manager using a quantitative method. The indicator is labelled as $CM_{1}$ and measured in a scale from 1 to 5.\n",
    "2. **Involvement:** Involvement in social media, events, coaching and other voluntary activities. Involvement is measured by the human resource department using a quantitative method. The indicator is labelled as $CM_{2}$ and measured in a scale from 1 to 5.\n",
    "3. **Professional development:** Professional development evaluates the accomplishment of training programs and courses suggested by the proximity manager. The indicator is labelled as $CM_{3}$.\n",
    "\n",
    "This year, the total score obtained among all employes is:\n",
    "\n",
    "$\\sum (𝑪𝑴_{𝟏}) = 𝟏𝟔𝟐𝟓$ Total points in performance\n",
    "\n",
    "$\\sum (𝑪𝑴_{2}) = 𝟏𝟒𝟎𝟗$ Total points in involvement\n",
    "\n",
    "$\\sum (𝑪𝑴_{3}) = 𝟏𝟑𝟖𝟕$ Total points in professional development\n",
    "\n",
    "The company wants to calculate bonuses using a linear expression weighting the three \n",
    "The board established the following rules:\n",
    "- No employee should receive more than 5000€ in bonuses\n",
    "- The value of performance is twice the value of involvement and professional development\n",
    "- The total budget for bonuses this year is 1.5M€\n",
    "\n",
    "Formulate a LPP that determines the optimal formula to calculate employee bonuses."
   ]
  },
  {
   "cell_type": "code",
   "execution_count": null,
   "metadata": {},
   "outputs": [],
   "source": []
  }
 ],
 "metadata": {
  "kernelspec": {
   "display_name": "Python 3",
   "language": "python",
   "name": "python3"
  },
  "language_info": {
   "codemirror_mode": {
    "name": "ipython",
    "version": 3
   },
   "file_extension": ".py",
   "mimetype": "text/x-python",
   "name": "python",
   "nbconvert_exporter": "python",
   "pygments_lexer": "ipython3",
   "version": "3.7.3"
  }
 },
 "nbformat": 4,
 "nbformat_minor": 2
}
