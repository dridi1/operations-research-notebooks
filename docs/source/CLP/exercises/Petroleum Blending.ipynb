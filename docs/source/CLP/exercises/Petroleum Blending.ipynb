{
 "cells": [
  {
   "cell_type": "markdown",
   "metadata": {},
   "source": [
    "# Petroleum Blending\n",
    "## Problem Definition\n",
    "Harry Stamper is an engineer working on a petroleum company. The company produces three grades of motor oil – super, premium, and extra. The three grades are made from the same 3 ingredients, named component 1, component 2 and component 3. The company wants to determine the optimal mix of the 3 components in each grade of motor oil that will maximize profit. \n",
    "\n",
    "The maximum availability of each component and their cost per barrel are as follows:\n",
    "\n",
    "| Component    | Max barrels available / day  | Cost / barrel |\n",
    "|--------------|------------------------------|---------------|\n",
    "| Component 1  | 4.500                        | 12€           |\n",
    "| Component 2  | 2.700                        | 10€           |\n",
    "| Component 3  | 3.500                        | 14€           |\n",
    "\n",
    "To ensure the appropriate blend, each grade must have a minimum amount of component 1 plus a combination of other components as follows:\n",
    "\n",
    "| Grade   | Component 1  | Component 2      | Component 3       | Selling price/barrel |\n",
    "|---------|--------------|------------------|-------------------|-----------------------|\n",
    "| Super   | At least 50% | No more than 30% | -                 | 23€                   |\n",
    "| Premium | At least 40% | -                | No more than 25% | 20€                   |\n",
    "| Extra   | At least 60% | At least 10%     | -                 | 18€                   |\n",
    "\n",
    "The company wants to make at least 3000 barrels of each blend.\n",
    "*Formulate a LP to help Harry Stamper find the optimal blend that maximises profit.*"
   ]
  }
 ],
 "metadata": {
  "kernelspec": {
   "display_name": "Python 3",
   "language": "python",
   "name": "python3"
  },
  "language_info": {
   "codemirror_mode": {
    "name": "ipython",
    "version": 3
   },
   "file_extension": ".py",
   "mimetype": "text/x-python",
   "name": "python",
   "nbconvert_exporter": "python",
   "pygments_lexer": "ipython3",
   "version": "3.7.3"
  },
  "pycharm": {
   "stem_cell": {
    "cell_type": "raw",
    "source": [],
    "metadata": {
     "collapsed": false
    }
   }
  }
 },
 "nbformat": 4,
 "nbformat_minor": 2
}