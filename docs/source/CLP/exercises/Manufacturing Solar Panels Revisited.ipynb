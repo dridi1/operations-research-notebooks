{
 "cells": [
  {
   "cell_type": "markdown",
   "source": [
    "# Manufacturing Solar Panels Revisited\n",
    "## Problem Definition\n",
    "Consider the following solution to a daily production mix optimization problem where:\n",
    "\n",
    "- The decision variables are the number of units to produce of three different types of products\n",
    "- The objective function coefficients (Objective coefficient in table) are the unitary profits (difference between production costs and sell price per unit) in euros\n",
    "- The three constraint represent the total availability of three sections in minutes\n",
    "\n",
    "**Decision variables**\n",
    "\n",
    "| Decision variable | Solution | Reduced cost | Objective Coefficient | Lower bound | Upper bound |\n",
    "|:------------------|---------:|-------------:|----------------------:|------------:|------------:|\n",
    "| product 1 units   |      300 |            0 |                    30 |       24.44 |         inf |\n",
    "| product 2 units   |    33.33 |            0 |                    20 |          -0 |          90 |\n",
    "| product 3 units   |        0 |        -8.33 |                    40 |        -inf |       48.33 |\n",
    "\n",
    "**Constraints**\n",
    "\n",
    "| Constraint              |   Right Hand Side |   Shadow Price |   Slack |   Min RHS |   Max RHS |\n",
    "|:------------------------|------------------:|---------------:|--------:|----------:|----------:|\n",
    "| Section 1 availability  |               400 |           6.67 |       0 |       300 |       525 |\n",
    "| Section 2  availability |               600 |          11.67 |       0 |         0 |       800 |\n",
    "| Section 3  availability |               600 |              0 |  166.67 |    433.33 |       inf |\n",
    "\n",
    "Answer the following questions. Motivate your response based on the provided results:\n",
    "\n",
    "- Is it profitable to produce units of the three types of products? If any of the products is not profitable, what changes are needed to make it profitable?\n",
    "- In the actual economic context, the production costs are rising. Discuss how the rise of the production costs can affect your profit and identify the maximum unitary production cost increase that your daily production mix can support without changes in the base solution\n",
    "\n",
    "- In order to increase your production capacity, you need to evaluate 2 different improvement proposals from an external consultant. The first one considers a 12% increase of the availability of section 1, and the second a 7.5% increase of the availability of section 2. Which one is more profitable for the company?\n",
    "\n"
   ],
   "metadata": {
    "collapsed": false
   }
  },
  {
   "metadata": {},
   "cell_type": "code",
   "outputs": [],
   "execution_count": null,
   "source": ""
  }
 ],
 "metadata": {
  "kernelspec": {
   "display_name": "Python 3",
   "language": "python",
   "name": "python3"
  },
  "language_info": {
   "codemirror_mode": {
    "name": "ipython",
    "version": 2
   },
   "file_extension": ".py",
   "mimetype": "text/x-python",
   "name": "python",
   "nbconvert_exporter": "python",
   "pygments_lexer": "ipython2",
   "version": "2.7.6"
  }
 },
 "nbformat": 4,
 "nbformat_minor": 0
}
