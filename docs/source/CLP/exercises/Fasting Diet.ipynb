{
 "cells": [
  {
   "cell_type": "markdown",
   "metadata": {},
   "source": [
    "# Fasting Diet\n",
    "## Problem I\n",
    "You have read an article about the benefits of fasting. This article publishes a series of findings around the fasting diet method. Specifically, the article states that: \n",
    "\n",
    "- Decreasing the number of meals to three, two heavier meals and a light meal in between has significant benefits for the health \n",
    "\n",
    "- The study reveals that the optimal amount of daily calories for an adult is higher than 1800 \n",
    "\n",
    "- and also lower than 2200 calories\n",
    "\n",
    "- The study also reveals that the light meal should not represent more than 10% of the number of daily calories\n",
    "\n",
    "- And that the last meal should not provide more than 700 calories\n",
    "\n",
    "\n",
    "\n",
    "You think you can design a Linear Programming Problem where the decision variables represent the calories of each meal to find and optimal diet that fulfils all these requirements, while at the same time provide the maximum number of calories. For such a model, define:\n",
    "\n",
    "**a.** The objective function\n",
    "\n",
    "\n",
    " \n",
    "**b.** The constraints\n",
    "\n",
    "\n",
    "**c.** The dual problem\n"
   ]
  },
  {
   "cell_type": "code",
   "execution_count": null,
   "metadata": {},
   "outputs": [],
   "source": []
  }
 ],
 "metadata": {
  "kernelspec": {
   "display_name": "Python 3",
   "language": "python",
   "name": "python3"
  },
  "language_info": {
   "codemirror_mode": {
    "name": "ipython",
    "version": 3
   },
   "file_extension": ".py",
   "mimetype": "text/x-python",
   "name": "python",
   "nbconvert_exporter": "python",
   "pygments_lexer": "ipython3",
   "version": "3.7.4"
  },
  "pycharm": {
   "stem_cell": {
    "cell_type": "raw",
    "source": [],
    "metadata": {
     "collapsed": false
    }
   }
  }
 },
 "nbformat": 4,
 "nbformat_minor": 2
}