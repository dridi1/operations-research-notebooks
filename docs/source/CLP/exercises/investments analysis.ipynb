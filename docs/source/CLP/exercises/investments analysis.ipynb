{
 "cells": [
  {
   "cell_type": "markdown",
   "source": [
    "# March & Sanchis Investments Ltd. Revisited\n",
    "## Problem Definition\n",
    "You are an investment analyst at March & Sanchis Investments Ltd. and you need are analysing the portfolio of a customer, based on the investment case described and solved [here](../solved/investments%20(Solved).ipynb)\n",
    "\n",
    "A solver provides this solution:\n",
    "\n",
    "\n",
    "**Decision Variables:**\n",
    "\n",
    "|  | Variables | Solution \\(GRB\\) | Reduced cost \\(GRB\\) | Objective Coefficient \\(GRB\\) | Objective Lower bound \\(GRB\\) | Objective Upper bound \\(GRB\\) |\n",
    "| :--- | :--- | :--- | :--- | :--- | :--- | :--- |\n",
    "| 1 | x\\_1 | 116129.03 | 0.00 | 0.10 | 0.08 | 0.12 |\n",
    "| 2 | x\\_2 | 0.00 | -0.02 | 0.06 | -Inf | 0.08 |\n",
    "| 3 | x\\_3 | 483870.97 | 0.00 | 0.08 | 0.05 | 0.10 |\n",
    "| 4 | x\\_4 | 400000.00 | 0.00 | 0.15 | 0.12 | inf |\n",
    "\n",
    "\n",
    "**Constraints:**\n",
    "\n",
    "|  | Constraint | Right Hand Side | Slack | Shadow Price | Min RHS | Max RHS |\n",
    "| :--- | :--- | :--- | :--- | :--- | :--- | :--- |\n",
    "| 0 | Maximum\\_budget | 1000000.00 | 0.00 | 0.10 | 861538.46 | 2053846.15 |\n",
    "| 1 | Risk | 0.00 | 0.00 | 6.45 | -360.00 | 880.00 |\n",
    "| 2 | Minimum\\_investment\\_in\\_real\\_estate | 200000.00 | -283870.97 | 0.00 | -Inf | 483870.97 |\n",
    "| 3 | Maximum\\_investment\\_in\\_crypto\\_assets | 400000.00 | 0.00 | 0.03 | 48000.00 | 464285.71 |\n"
   ],
   "metadata": {
    "collapsed": false
   }
  },
  {
   "cell_type": "markdown",
   "source": [
    "Answer the following questions and motivate all of your responses based on the data provided in the solution\n",
    "\n",
    "- How sensitive is the solution to changes in the expected return of the different types of assets? Describe how changes in the expected return of each asset could affect the solution.\n",
    "- What is the minimum expected return of bonds that would render this asset profitable for your customer?\n",
    "- Based on the solution provided, would you recommend your customer to consider increasing or decreasing the exposure to crypto assets?"
   ],
   "metadata": {
    "collapsed": false
   }
  }
 ],
 "metadata": {
  "kernelspec": {
   "display_name": "Python 3",
   "language": "python",
   "name": "python3"
  },
  "language_info": {
   "codemirror_mode": {
    "name": "ipython",
    "version": 2
   },
   "file_extension": ".py",
   "mimetype": "text/x-python",
   "name": "python",
   "nbconvert_exporter": "python",
   "pygments_lexer": "ipython2",
   "version": "2.7.6"
  }
 },
 "nbformat": 4,
 "nbformat_minor": 0
}
