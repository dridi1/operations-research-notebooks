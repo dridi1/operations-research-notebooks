{
 "cells": [
  {
   "cell_type": "markdown",
   "metadata": {
    "collapsed": true,
    "pycharm": {
     "name": "#%% md\n"
    }
   },
   "source": [
    "# The chilling adventures of Sabrina\n",
    "## Problem definition\n",
    "Spellman´s Ltd is a company that manufactures chilling soft drinks. They want to manufacture two types of drinks A, and B. Both beverages use a semi-elaborate C, another expensive ingredient D and other ingredients that are not relevant for production planning. Sabrina is a young student of engineering and management doing an intership at Spellman´s. She needs to formulate a Continuous Linear Program to configure the optimal daily production plan for the company.\n",
    "\n",
    "The selling price of drink A is 3€/liter and the selling price of drink B is 2€/liter.\n",
    "\n",
    "1 liter of drink A uses 3 grams of ingredient D. A liter of drink B uses 1 gram of ingredient D. There are only 3 grams of ingredient D available per day.\n",
    "\n",
    "The factory only has one mixer to elaborate both drink types and the semi-elaborate. It takes 1 hour to process a liter of drink A, 1 hour to process 1 liter of drink B, and 1 hour to process 1cl of semi-elaborate C. The mixer is available 6 hours per day.\n",
    "\n",
    "Drink A uses 2cl of semi-elaborate C and drink B uses 1cl of semi-elaborate C. The company has 3cl of semi-elaborate C plus the amount they decide to produce available per day.\n",
    "\n",
    "**1.** Write a Continuous Linear Problem to help Sabrina design the optimal production plan that maximises revenues for the company.\n",
    "\n",
    "**2.** Write the dual problem\n",
    "\n",
    "**3.** Given the following solution:\n",
    "\n",
    "- 0 Liters of drink A\n",
    "- 3 Liters of drink B\n",
    "- 3 cl of semi-elaborate C\n",
    "\n",
    "Verify the solution. Is the solution feasible? What are the values of the slack variables?\n",
    "\n",
    "**4.** Use complementary slackness to find the dual solution corresponding to this vertex. Is the dual solution feasible? Is the solution optimal? Motivate your response \n"
   ]
  }
 ],
 "metadata": {
  "kernelspec": {
   "display_name": "Python 3",
   "language": "python",
   "name": "python3"
  },
  "language_info": {
   "codemirror_mode": {
    "name": "ipython",
    "version": 2
   },
   "file_extension": ".py",
   "mimetype": "text/x-python",
   "name": "python",
   "nbconvert_exporter": "python",
   "pygments_lexer": "ipython2",
   "version": "2.7.6"
  },
  "pycharm": {
   "stem_cell": {
    "cell_type": "raw",
    "source": [],
    "metadata": {
     "collapsed": false
    }
   }
  }
 },
 "nbformat": 4,
 "nbformat_minor": 0
}