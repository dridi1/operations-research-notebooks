{
 "cells": [
  {
   "cell_type": "markdown",
   "metadata": {},
   "source": [
    "# Blending Craft Beer Analysis"
   ]
  },
  {
   "cell_type": "markdown",
   "metadata": {},
   "source": [
    "## Problem Definition\n",
    "\n",
    "In this problem we are going to analyze the solution of the [Blending Craft Beer Problem](../solved/Blending%20Craft%20Beer%20(Solved).ipynb)\n",
    "Recall that in the problem we need to find the optimal blend of three wort types to maximize profits, subject to availability constraints and quality constraints.\n",
    "\n",
    "A solver implementing a sensitivity analysis provides the following solution\n",
    "\n",
    "| Variables | Solution \\(GRB\\) | Reduced cost \\(GRB\\) | Objective Coefficient \\(GRB\\) | Objective Lower bound \\(GRB\\) | Objective Upper bound \\(GRB\\) |\n",
    "| :--- | :--- | :--- | :--- | :--- | :--- |\n",
    "| Quantity in liters Type 1 in Angel | 1333.33 | 0.00 | 290.00 | 290.00 | Inf |\n",
    "| Quantity in liters Type 1 in Beast | 0.00 | -7.35 | 160.00 | -Inf | 167.35 |\n",
    "| Quantity in liters Type 1 in Cactus | 1166.67 | 0.00 | 125.00 | 116.67 | 125.00 |\n",
    "| Quantity in liters Type 2 in Angel | 0.00 | -0.00 | 315.00 | -Inf | 315.00 |\n",
    "| Quantity in liters Type 2 in Beast | 0.00 | -7.35 | 185.00 | -Inf | 192.35 |\n",
    "| Quantity in liters Type 2 in Cactus | 1200.00 | 0.00 | 150.00 | 150.00 | Inf |\n",
    "| Quantity in liters Type 3 in Angel | 2000.00 | 0.00 | 260.00 | 218.33 | Inf |\n",
    "| Quantity in liters Type 3 in Beast | 0.00 | 0.00 | 130.00 | -Inf | 171.67 |\n",
    "| Quantity in liters Type 3 in Cactus | 0.00 | -275.00 | 95.00 | -Inf | 370.00 |\n",
    "\n",
    "|  | Constraint | Right Hand Side | Shadow Price | Slack | Min RHS | Max RHS |\n",
    "| :--- | :--- | :--- | :--- | :--- | :--- | :--- |\n",
    "| 0 | Type 1 availability | 2500.00 | 125.00 | 0.00 | 1333.33 | Inf |\n",
    "| 1 | Type 2 availability | 1200.00 | 150.00 | 0.00 | 0.00 | 1666.67 |\n",
    "| 2 | Type 3 availability | 2000.00 | 370.00 | 0.00 | 1440.00 | 3750.00 |\n",
    "| 3 | Angel &gt;=60% Type 3 requirement | 0.00 | -275.00 | 0.00 | -700.00 | 560.00 |\n",
    "| 4 | Angel &lt;=20% Type 2 requirement | 0.00 | 0.00 | 666.67 | -666.67 | Inf |\n",
    "| 5 | Beast &gt;=15% Type 3 requirement | 0.00 | -282.35 | 0.00 | -0.00 | 476.00 |\n",
    "| 6 | Beast &lt;=60% Type 2 requirement | 0.00 | 0.00 | 0.00 | 0.00 | Inf |\n",
    "| 7 | Cactus &lt;=50% Type 2 requirement | 0.00 | 0.00 | 466.67 | -466.67 | Inf |\n"
   ]
  },
  {
   "cell_type": "markdown",
   "metadata": {},
   "source": [
    "Answer the following questions:\n",
    "\n",
    "**1.** How many liters of Type 1 wort are used in the optimal solution?\n",
    "\n",
    "**2.** How many liters of *Angels* Beer are blended in the optimal solution?\n",
    "\n",
    "**3.** Is it profitable to blend *Beast* beer with the current prices? If the answer is Yes, what is the total profit obtained with Beast beer? If the answer is No, how would you change the selling price to make it profitable?\n",
    "\n",
    "**4.** Your provider of Type 3 wort just announced you that there is going to be a shortage of 200 liters in the availability of this type of wort. Will this change impact your profit? And will this change cause a change in the base of the optimal solution?\n",
    "\n",
    "**5.** You want to renegotiate the contract with your type 3 provider, without changing the base of the optimal solution. What is the availability that you would settle in the new contract? How would you negotiate the new price?\n"
   ]
  }
 ],
 "metadata": {
  "kernelspec": {
   "display_name": "Python 3 (ipykernel)",
   "language": "python",
   "name": "python3"
  },
  "language_info": {
   "codemirror_mode": {
    "name": "ipython",
    "version": 3
   },
   "file_extension": ".py",
   "mimetype": "text/x-python",
   "name": "python",
   "nbconvert_exporter": "python",
   "pygments_lexer": "ipython3",
   "version": "3.11.1"
  }
 },
 "nbformat": 4,
 "nbformat_minor": 1
}
