{
 "cells": [
  {
   "cell_type": "markdown",
   "metadata": {},
   "source": [
    "# Resourcing: Product Mix of Aluminium Windows"
   ]
  },
  {
   "cell_type": "markdown",
   "metadata": {},
   "source": [
    "## Problem Definition\n",
    "\n",
    "Weyland Corp is a British firm that manufactures solar panel cells. This firm supplies three differnt types of cell called: fast, normal and ultra. There are three operations involved in the manufacturing process. The following table describes the hours/month required to manufacture each model: \n",
    "\n",
    "**Table 1:** hours/month requirements\n",
    "\n",
    "| Operation|   Fast (hours/month) |   Normal (hours/month) |  Ultra (hours/month)| \n",
    "|----------|----------------------|------------------------|---------------------|\n",
    "|  1       |        1             |           3            |        2            |\n",
    "|  2       |        2             |           0            |        3            |\n",
    "|  3       |        1             |           4            |        0            |\n",
    "\n",
    "And the following table describes the total hours available for each operation:\n",
    "\n",
    "**Table 2:** Total hours/month available\n",
    "\n",
    "| Operation | Hours/Month |\n",
    "| ----------| ------------|\n",
    "|     1     |     400     |\n",
    "|     2     |     600     |\n",
    "|     3     |     600     |\n",
    "\n",
    "The profit per each model is specified in the following table:\n",
    "**Table 3:** Unit of profit per model\n",
    "\n",
    "| Model     | Profit/Unit |\n",
    "| ----------| ------------|\n",
    "|  Normal   |     30      |\n",
    "|  Economic |     20      |\n",
    "|  Luxury   |     40      |\n",
    "\n",
    "**Write a Linear Programming Problem model to help Weyland Corp determine the optimum number of cells of each type to manufacture**"
   ]
  },
  {
   "cell_type": "code",
   "execution_count": null,
   "metadata": {},
   "outputs": [],
   "source": []
  }
 ],
 "metadata": {
  "kernelspec": {
   "display_name": "Python 3",
   "language": "python",
   "name": "python3"
  },
  "language_info": {
   "codemirror_mode": {
    "name": "ipython",
    "version": 3
   },
   "file_extension": ".py",
   "mimetype": "text/x-python",
   "name": "python",
   "nbconvert_exporter": "python",
   "pygments_lexer": "ipython3",
   "version": "3.7.3"
  },
  "pycharm": {
   "stem_cell": {
    "cell_type": "raw",
    "source": [],
    "metadata": {
     "collapsed": false
    }
   }
  }
 },
 "nbformat": 4,
 "nbformat_minor": 1
}