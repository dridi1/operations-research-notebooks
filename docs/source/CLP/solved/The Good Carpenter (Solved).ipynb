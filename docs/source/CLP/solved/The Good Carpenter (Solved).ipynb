{
 "cells": [
  {
   "cell_type": "markdown",
   "metadata": {
    "collapsed": true,
    "pycharm": {
     "name": "#%% md\n"
    }
   },
   "source": [
    "# The good carpenter\n",
    "## Problem definition\n",
    "\"The Fog Ltd\" is a modern furniture company that makes tables and chairs. The selling price of a table is 30€ and the selling price of chairs is 10€. \n",
    "The carpenter at the company works up to 40 hours and needs 6 hours to make a table and 3 hours to make a chair. \n",
    "Customer demand requires that he makes at least 3 times as many chairs as tables. \n",
    "Tables take up four times as much storage space as chairs and there is room for at most four tables each week.\n",
    "\n",
    "What is the optimal weekly production plan that optimises revenues?"
   ]
  },
  {
   "cell_type": "markdown",
   "source": [
    "## Solution\n",
    "### Decision variables\n",
    "The decision variables in the problem is the number of chairs and tables per week to manufacture:\n",
    "\n",
    "- $x_T$: Number of tables per week \n",
    "- $x_C$: Number of chairs per week\n",
    "\n",
    "Let us assume that they are both continuous, i.e: $x_T, x_C \\in \\mathbb{R}$\n",
    "\n",
    "### Objective function\n",
    "The objective is to maximise the weekly revenues:\n",
    "\n",
    "$\\max z = 30*x_T + 10*x_C$\n",
    "\n",
    "z is the result variable (profit in euros per week).\n",
    "\n",
    "### Constraints\n",
    "The objective function is subject to the following constraints:\n",
    "\n",
    "- **Working time:** The working time cannot exceed 40 hours:\n",
    "\n",
    "$6*x_T + 3*x_C \\leq 40$\n",
    "\n",
    "- **Demand:** The number of chairs must be at least 3 times the number of tables:\n",
    "\n",
    "$3*x_C \\geq x_T$\n",
    "\n",
    "- **Storage space:** The product stock cannot exceed the storage space. There is only room for 4 tables and a chair takes\n",
    "1/4 of the space of a table\n",
    "\n",
    "$0.25*x_C + x_T \\leq 4$  \n",
    "\n",
    "\n"
   ],
   "metadata": {
    "collapsed": false,
    "pycharm": {
     "name": "#%% md\n"
    }
   }
  }
 ],
 "metadata": {
  "kernelspec": {
   "display_name": "Python 3",
   "language": "python",
   "name": "python3"
  },
  "language_info": {
   "codemirror_mode": {
    "name": "ipython",
    "version": 2
   },
   "file_extension": ".py",
   "mimetype": "text/x-python",
   "name": "python",
   "nbconvert_exporter": "python",
   "pygments_lexer": "ipython2",
   "version": "2.7.6"
  },
  "pycharm": {
   "stem_cell": {
    "cell_type": "raw",
    "source": [],
    "metadata": {
     "collapsed": false
    }
   }
  }
 },
 "nbformat": 4,
 "nbformat_minor": 0
}