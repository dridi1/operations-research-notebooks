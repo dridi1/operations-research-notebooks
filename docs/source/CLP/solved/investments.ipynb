{
 "cells": [
  {
   "cell_type": "markdown",
   "source": [
    "# Problem Definition\n",
    "Suppose you are a financial advisor at March & Sanchis Investments Ltd.  and your client has €1,000,000 to invest in four different types of assets: stocks, bonds, real estate, and crypto assets, with the Expected Returns and risk (an estimation of the risk per euro invested) expressed in the table below:\n",
    "\n",
    "\n",
    "| Asset Type\t | Expected Return (%)\t| Risk (%) |\n",
    "|--------------|----------------------|----------|\n",
    "| Stocks\t     |10\t                  | 1.25     |\n",
    "| Bonds        |6\t                    | 0.5      |\n",
    "| Real Estate  |8\t                    | 0.7      |\n",
    "| Crypto Assets|15\t                  | 2.1      |\n",
    "\n",
    "Your task is to help the client select the optimal portfolio of investments, maximizing the Expected Return. Assume that the investments are independent and take into account the following constraints:\n",
    "\n",
    "- **Budget:** The total investment cannot exceed the budget of the client (€1,000,000)\n",
    "- **Personal Preferences:** The client wants to invest at least €200,000 in real estate due to personal interests in owning property, and does not want to invest more than €400,000 in crypto assets as she would like to be cautious and limit exposure.\n",
    "- **Risk:** The overall risk estimation cannot exceed 12% of the expected return\n",
    "\n",
    "Model this problem as a continuous linear programming problem. What are the decision variables? What is the objective function? What are the constraints?"
   ],
   "metadata": {
    "collapsed": false
   }
  }
 ],
 "metadata": {
  "kernelspec": {
   "display_name": "Python 3",
   "language": "python",
   "name": "python3"
  },
  "language_info": {
   "codemirror_mode": {
    "name": "ipython",
    "version": 2
   },
   "file_extension": ".py",
   "mimetype": "text/x-python",
   "name": "python",
   "nbconvert_exporter": "python",
   "pygments_lexer": "ipython2",
   "version": "2.7.6"
  }
 },
 "nbformat": 4,
 "nbformat_minor": 0
}
