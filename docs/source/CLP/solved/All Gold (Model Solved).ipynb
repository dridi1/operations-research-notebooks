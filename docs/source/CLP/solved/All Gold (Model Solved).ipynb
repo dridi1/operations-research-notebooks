{
 "cells": [
  {
   "cell_type": "markdown",
   "metadata": {},
   "source": [
    "## Problem Definition\n",
    "A gold seeker needs to find at least 2 kg of bronze and 3 kg of copper to pay his gambling debts. There are two rivers in\n",
    "which the miner can find these precious metals. Each day the miner spends in river A, he finds 0.3 kg of bronze and 0.3\n",
    "kg of copper while each day he spends in river B, he finds 0.2 kg of bronze and 0.4 kg of copper.\n",
    "\n",
    "*Can you help this gold seeker decide how many days to spend in each day to pay his debts as soon as possible?*"
   ]
  },
  {
   "cell_type": "markdown",
   "metadata": {},
   "source": [
    "### Problem Model\n",
    "**Decision variables**\n",
    "\n",
    "$x_{A}$ Days spent in river A\n",
    "\n",
    "$x_{B}$ Days spent in river B\n",
    "\n",
    "**Objective function**\n",
    "\n",
    "min $z = x_{A} + x_{B}$\n",
    "\n",
    "**Constraints**\n",
    "\n",
    "$0.3*x_{A} + 0.2*x_{B} >= 2$    Bronze constrarint\n",
    "\n",
    "$0.3*x_{A} + 0.4*x_{B} >= 3$   Copper constraint"
   ]
  }
 ],
 "metadata": {
  "celltoolbar": "Tags",
  "kernelspec": {
   "display_name": "Python 3",
   "language": "python",
   "name": "python3"
  },
  "language_info": {
   "codemirror_mode": {
    "name": "ipython",
    "version": 3
   },
   "file_extension": ".py",
   "mimetype": "text/x-python",
   "name": "python",
   "nbconvert_exporter": "python",
   "pygments_lexer": "ipython3",
   "version": "3.7.4"
  }
 },
 "nbformat": 4,
 "nbformat_minor": 2
}
