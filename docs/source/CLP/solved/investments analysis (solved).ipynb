{
 "cells": [
  {
   "cell_type": "markdown",
   "source": [
    "You are an investment analyst at March & Sanchis Investments Ltd. and you need are analysing the portfolio of a customer, based on the investment case described and solved [here](../solved/investments%20(Solved).ipynb)\n",
    "\n",
    "A solver provides this solution:\n",
    "\n",
    "\n",
    "**Decision Variables:**\n",
    "\n",
    "|   | Variables | Solution \\(GRB\\) | Reduced cost \\(GRB\\) | Objective Coefficient \\(GRB\\) | Objective Lower bound \\(GRB\\) | Objective Upper bound \\(GRB\\) |\n",
    "|:--|:----------|:-----------------|:---------------------|:------------------------------|:------------------------------|:------------------------------|\n",
    "| 1 | x\\_1      | 116129.03        | 0.00                 | 0.10                          | 0.08                          | 0.12                          |\n",
    "| 2 | x\\_2      | 0.00             | -0.02                | 0.06                          | -Inf                          | 0.08                          |\n",
    "| 3 | x\\_3      | 483870.97        | 0.00                 | 0.08                          | 0.05                          | 0.10                          |\n",
    "| 4 | x\\_4      | 400000.00        | 0.00                 | 0.15                          | 0.12                          | inf                           |\n",
    "\n",
    "\n",
    "**Constraints:**\n",
    "\n",
    "|   | Constraint                              | Right Hand Side | Slack      | Shadow Price | Min RHS   | Max RHS    |\n",
    "|:--|:----------------------------------------|:----------------|:-----------|:-------------|:----------|:-----------|\n",
    "| 0 | Maximum\\_budget                         | 1000000.00      | 0.00       | 0.10         | 861538.46 | 2053846.15 |\n",
    "| 1 | Risk                                    | 0.00            | 0.00       | 6.45         | -360.00   | 880.00     |\n",
    "| 2 | Minimum\\_investment\\_in\\_real\\_estate   | 200000.00       | -283870.97 | 0.00         | -Inf      | 483870.97  |\n",
    "| 3 | Maximum\\_investment\\_in\\_crypto\\_assets | 400000.00       | 0.00       | 0.03         | 48000.00  | 464285.71  |\n"
   ],
   "metadata": {
    "collapsed": false
   }
  },
  {
   "cell_type": "markdown",
   "source": [
    "Answer the following questions and motivate all of your responses based on the data provided in the solution\n",
    "\n",
    "- How sensitive is the solution to changes in the expected return of the different types of assets? Describe how changes in the expected return of each asset could affect the solution.\n",
    "- What is the minimum expected return of bonds that would render this asset profitable for your customer?\n",
    "- Based on the solution provided, would you recommend your customer to consider increasing or decreasing the exposure to crypto assets?\n",
    "\n",
    "## Solution\n",
    "For the sake of clarity, and as a reminder, the decision variables are:\n",
    "- $x_1$: amount to invest in stocks\n",
    "- $x_2$: amount to invest in bonds\n",
    "- $x_3$: amount to invest in real estate\n",
    "- $x_4$: amount to invest in crypto assets\n",
    "\n",
    "- How sensitive is the solution to changes in the expected return of the different types of assets? Describe how changes in the expected return of each asset could affect the solution.\n",
    "\n",
    "Changes in the market can cause the expected return of the different types of assets to change. The lower and upper bounds of the Objective coefficient provide the range of values of the expected return of each asset that would not change the basic solution (meaning that the resulting profit would change, but not the optimal amount to invest in each asset). For example, if we pay attention to the specific values, the expected return of stocks can increase by 0.02 (from 0.10 to 0.12) or decrease by 0.02 (from 0.10 to 0.08) without changes in the optimal solution. This represents a change of +/- 20% in the expected return of bonds, which is a significant change.\n",
    "\n",
    "Overall, we get the following ranges:\n",
    "- Stocks: -20% decrease, and +20% increase\n",
    "- Bonds: unlimited decrease, and +33.33% increase\n",
    "- Real estate: -37.5% decrease, and +25% increase\n",
    "- Crypto assets: -20% decrease, and unlimited increase\n",
    "\n",
    "The optimal solution is more sensitive to changes in the expected return of stocks and real state, and less sensitive to changes in the expected return of bonds and crypto assets. In general, the ranges obtained in percentage are wide, and we can conclude that the solution is not particularly sensitive to changes in the expected return of the different types of assets.\n",
    "\n",
    "- What is the minimum expected return of bonds that would render this asset profitable for your customer?\n",
    "\n",
    "Currently, we can note that it is not profitable to invest in bonds, as the reduced cost is negative (-0.02), and the solution is zero. We should increase the expected return of bonds until the reduced cost is positive, which would mean that the solution is no longer zero. The minimum expected return of bonds that would render this asset profitable for the customer is therefore 0.08.\n",
    "\n",
    "- Based on the solution provided, would you recommend your customer to consider increasing or decreasing the exposure to crypto assets?\n",
    "\n",
    "The shadow price of crypto assets is positive, meaning that it would be profitable for our customer to increase the exposure to crypto assets. The shadow price is 0.03, which means that for every additional euro invested in crypto assets, the profit would increase by 0.03 euros. We could increase the exposure up to the maximum right hand side of the constraint, which is 464285.71 euros without changes in the base solution.\n",
    "\n"
   ],
   "metadata": {
    "collapsed": false
   }
  }
 ],
 "metadata": {
  "kernelspec": {
   "display_name": "Python 3",
   "language": "python",
   "name": "python3"
  },
  "language_info": {
   "codemirror_mode": {
    "name": "ipython",
    "version": 2
   },
   "file_extension": ".py",
   "mimetype": "text/x-python",
   "name": "python",
   "nbconvert_exporter": "python",
   "pygments_lexer": "ipython2",
   "version": "2.7.6"
  }
 },
 "nbformat": 4,
 "nbformat_minor": 0
}
