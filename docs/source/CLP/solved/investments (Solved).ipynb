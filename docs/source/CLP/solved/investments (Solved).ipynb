{
 "cells": [
  {
   "cell_type": "markdown",
   "source": [
    "# March & Sanchis Investments Ltd.\n",
    "## Problem Definition\n",
    "Suppose you are a financial advisor at March & Sanchis Investments Ltd.  and your client has €1,000,000 to invest in four different types of assets: stocks, bonds, real estate, and crypto assets, with the Expected Returns and risk (an estimation of the risk per euro invested) expressed in the table below:\n",
    "\n",
    "| Asset Type\t   | Expected Return (%)\t | Risk (%) |\n",
    "|---------------|----------------------|----------|\n",
    "| Stocks\t       | 10\t                  | 1.25     |\n",
    "| Bonds         | 6\t                   | 0.5      |\n",
    "| Real Estate   | 8\t                   | 0.7      |\n",
    "| Crypto Assets | 15\t                  | 2.1      |\n",
    "\n",
    "Your task is to help the client select the optimal portfolio of investments, maximizing the Expected Return. Assume that the investments are independent and take into account the following constraints:\n",
    "\n",
    "- **Budget:** The total investment cannot exceed the budget of the client (€1,000,000)\n",
    "- **Personal Preferences:** The client wants to invest at least €200,000 in real estate due to personal interests in owning property, and does not want to invest more than €400,000 in crypto assets as she would like to be cautious and limit exposure.\n",
    "- **Risk:** The overall risk estimation cannot exceed 12% of the expected return"
   ],
   "metadata": {
    "collapsed": false
   }
  },
  {
   "cell_type": "markdown",
   "source": [
    "## Solution\n",
    "To model this as a continuous linear programming problem, let:\n",
    "\n",
    "- $x_1$ = Amount invested in stocks (€)\n",
    "- $x_2$ = Amount invested in bonds (€)\n",
    "- $x_3$ = Amount invested in real estate (€)\n",
    "- $x_4$ = Amount invested in crypto assets (€)\n",
    "\n",
    "Then, we want to maximize the expected return, which is given by:\n",
    "\n",
    "$\\max z = 0.1*x_1 + 0.06*x_2 + 0.08*x_3 + 0.15*x_4$ (Expected return in €)\n",
    "\n",
    "Subject to:\n",
    "\n",
    "$x_1 + x_2 + x_3 + x_4 = 1,000,000$ (total investment must equal $1,000,000)\n",
    "\n",
    "$0.0125*x_1 + 0.005*x_2 + 0.007*x_3 + 0.021*x_4 ≤ 0.12*(0.1*x_1 + 0.06*x_2 + 0.08*x_3 + 0.15*x_4)$ (risk limit: the risk of the portfolio, cannot exceed 12% of the total expected return)\n",
    "\n",
    "$x_3 ≥ 200,000$ (minimum investment in real estate: the client wants to invest at least €200,000 in real estate)\n",
    "\n",
    "$x_4 ≤ 400,000$ (maximum investment in crypto assets: the client is cautious about the high risk of crypto assets and does not want to invest more than $400,000 in them)"
   ],
   "metadata": {
    "collapsed": false
   }
  }
 ],
 "metadata": {
  "kernelspec": {
   "display_name": "Python 3",
   "language": "python",
   "name": "python3"
  },
  "language_info": {
   "codemirror_mode": {
    "name": "ipython",
    "version": 2
   },
   "file_extension": ".py",
   "mimetype": "text/x-python",
   "name": "python",
   "nbconvert_exporter": "python",
   "pygments_lexer": "ipython2",
   "version": "2.7.6"
  }
 },
 "nbformat": 4,
 "nbformat_minor": 0
}
