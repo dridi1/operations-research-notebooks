{
 "cells": [
  {
   "cell_type": "markdown",
   "metadata": {
    "pycharm": {
     "name": "#%% md\n"
    }
   },
   "source": [
    "# Production Mix example\n",
    "## Problem Definition\n",
    "Production Mix\n",
    "A company produces two kinds of products, P1 and P2.\n",
    "\n",
    "The selling price of P1 is 300€\n",
    "The selling price of P2 is 250€\n",
    "\n",
    "- P1 requires 2 operator man hours and 1 hour of machine operating time\n",
    "- P2 requires 1 operator man hours and 3 hours of machine time\n",
    "- Operator man hours cannot be higher than 40 hours per day\n",
    "- Machine operating time cannot be higher than 45 hours per day\n",
    "- Marketing states that P1 units per day cannot be higher than 12\n",
    "\n",
    "\n",
    "***How many units of P1 and P2 should the company produce every day to maximise income?*** \n",
    "\n",
    "\n"
   ]
  }
 ],
 "metadata": {
  "kernelspec": {
   "display_name": "Python 3",
   "language": "python",
   "name": "python3"
  },
  "language_info": {
   "codemirror_mode": {
    "name": "ipython",
    "version": 3
   },
   "file_extension": ".py",
   "mimetype": "text/x-python",
   "name": "python",
   "nbconvert_exporter": "python",
   "pygments_lexer": "ipython3",
   "version": "3.7.4"
  },
  "pycharm": {
   "stem_cell": {
    "cell_type": "raw",
    "source": [],
    "metadata": {
     "collapsed": false
    }
   }
  }
 },
 "nbformat": 4,
 "nbformat_minor": 2
}