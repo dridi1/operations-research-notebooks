{
 "cells": [
  {
   "cell_type": "markdown",
   "metadata": {
    "collapsed": true,
    "pycharm": {
     "name": "#%% md\n"
    }
   },
   "source": [
    "# The chilling adventures of Sabrina\n",
    "## Problem definition\n",
    "Spellman´s Ltd is a company that manufactures chilling soft drinks. They want to manufacture two types of drinks A, and B. Both beverages use a semi-elaborate C, another expensive ingredient D and other ingredients that are not relevant for production planning. Sabrina is a young student of engineering and management doing an intership at Spellman´s. She needs to formulate a Continuous Linear Program to configure the optimal daily production plan for the company.\n",
    "\n",
    "The selling price of drink A is 3€/liter and the selling price of drink B is 2€/liter.\n",
    "\n",
    "1 liter of drink A uses 3 grams of ingredient D. A liter of drink B uses 1 gram of ingredient D. There are only 3 grams of ingredient D available per day.\n",
    "\n",
    "The factory only has one mixer to elaborate both drink types and the semi-elaborate. It takes 1 hour to process a liter of drink A, 1 hour to process 1 liter of drink B, and 1 hour to process 1cl of semi-elaborate C. The mixer is available 6 hours per day.\n",
    "\n",
    "Drink A uses 2cl of semi-elaborate C and drink B uses 1cl of semi-elaborate C. The company has 3cl of semi-elaborate C plus the amount they decide to produce available per day.\n",
    "\n",
    "Write a Continuous Linear Problem to help Sabrina design the optimal production plan that maximises revenues for the company.\n",
    "\n",
    "**Decision variables**:\n",
    "- $x_A$: Production of drink A in liters\n",
    "- $x_B$: Production of drink B in liters\n",
    "- $x_C$: Production of semi-elaborate C in centiliters\n",
    "\n",
    "$x_A, x_C, x_B \\in \\mathbb{R}$\n",
    "\n",
    "**Objective function**\n",
    "\n",
    "$\\max z = 3*x_A + 2*x_B $\n",
    "\n",
    "z is the profit in euros. \n",
    "\n",
    "**Constraints**\n",
    "s.t.\n",
    "\n",
    "- Availability of ingredient D in grams:\n",
    "\n",
    "$3*x_A + x_B \\leq 3$\n",
    "\n",
    "- Availability of mixer in hours: \n",
    "\n",
    "$x_A + x_B + x_C \\leq 6$\n",
    "\n",
    "- Availability of semi-elaborate C in centiliters: \n",
    "\n",
    "$2*x_A +  x_B -x_C  \\leq 3$\n",
    "\n",
    "- Logical constraint\n",
    "\n",
    "$ x_A, x_C, x_B \\geq 0$"
   ]
  },
  {
   "cell_type": "code",
   "execution_count": 2,
   "outputs": [
    {
     "name": "stdout",
     "text": [
      "Optimal\n",
      "Total profit is 6.00 €\n",
      "The following table shows the decision variables: \n",
      "|    | Variables   |   Solution (GRB) |   Reduced cost (GRB) |   Objective Coefficient (GRB) |   Objective Lower bound (GRB) |   Objective Upper bound (GRB) |\n",
      "|:---|:------------|-----------------:|---------------------:|------------------------------:|------------------------------:|------------------------------:|\n",
      "| A  | units_A     |                0 |                   -3 |                             3 |                          -inf |                           6   |\n",
      "| B  | units_B     |                3 |                    0 |                             2 |                             1 |                         inf   |\n",
      "| C  | units_C     |                3 |                    0 |                             0 |                            -0 |                           1.5 |\n",
      "The following table shows the constraints: \n",
      "|    | Constraint                     |   Slack |   Shadow Price |   Right Hand Side |   Min RHS |   Max RHS |\n",
      "|---:|:-------------------------------|--------:|---------------:|------------------:|----------:|----------:|\n",
      "|  0 | Availability_of_ingredient_A   |       0 |              2 |                 3 |         0 |         6 |\n",
      "|  1 | Availability_of_mixer_hours    |       0 |              0 |                 6 |         3 |       inf |\n",
      "|  2 | Availability_of_semi_elaborate |       6 |              0 |                 6 |         0 |       inf |\n"
     ],
     "output_type": "stream"
    }
   ],
   "source": [
    "import pulp\n",
    "import pandas as pd\n",
    "model = pulp.LpProblem(\"Chilling adventures of Sabrina\", pulp.LpMaximize)\n",
    "product_types = ['A', 'B', 'C']\n",
    "\n",
    "units = pulp.LpVariable.dicts(\"units\",\n",
    "                                     (i for i in product_types),\n",
    "                                     lowBound=0,\n",
    "                                     cat='Continuous')\n",
    "\n",
    "# Technological Coefficients:\n",
    "unit_profits = [3, 2, 0]\n",
    "\n",
    "# Objective Function\n",
    "model += (\n",
    "    pulp.lpSum([\n",
    "        unit_profits[i] * units[product_types[i]]\n",
    "        for i in range(len(product_types))])\n",
    ")\n",
    "\n",
    "# Availability of ingredient\n",
    "model += 3*units['A'] + units['B'] <= 3, \"Availability of ingredient A\"\n",
    "\n",
    "# Availability of mixer hours\n",
    "model += units['A'] + units['B'] + units['C'] <= 6, \"Availability of mixer hours\"\n",
    "\n",
    "# Availability of semi-elaborate\n",
    "model += 2*units['A'] + units['B'] - units['C'] <= 6, \"Availability of semi-elaborate\"\n",
    "\n",
    "model.solve(solver=pulp.GUROBI(msg = 0))\n",
    "\n",
    "print(pulp.LpStatus[model.status])\n",
    "\n",
    "total_profit = pulp.value(model.objective)\n",
    "print(\"Total profit is %0.2f €\"%total_profit)\n",
    "\n",
    "print(\"The following table shows the decision variables: \")\n",
    "var_df = pd.DataFrame.from_dict(units, orient=\"index\", \n",
    "                                columns = [\"Variables\"])\n",
    "var_df[\"Solution (GRB)\"] = var_df[\"Variables\"].apply(lambda item: \"{:.2f}\".format(item.solverVar.X))\n",
    "var_df[\"Reduced cost (GRB)\"] = var_df[\"Variables\"].apply(lambda item: \"{:.2f}\".format(item.solverVar.RC))\n",
    "var_df[\"Objective Coefficient (GRB)\"] = var_df[\"Variables\"].apply(lambda item: \"{:.2f}\".format(item.solverVar.Obj))\n",
    "var_df[\"Objective Lower bound (GRB)\"] = var_df[\"Variables\"].apply(lambda item: \"{:.2f}\".format(item.solverVar.SAObjLow) if item.solverVar.SAObjLow > -0.1 else \"-Inf\" )\n",
    "var_df[\"Objective Upper bound (GRB)\"] = var_df[\"Variables\"].apply(lambda item: \"{:.2f}\".format(item.solverVar.SAObjUp) if item.solverVar.SAObjUp != item.solverVar.UB else \"Inf\")\n",
    "\n",
    "\n",
    "print(var_df.to_markdown())\n",
    "\n",
    "\n",
    "const_dict = dict(model.constraints)\n",
    "con_df = pd.DataFrame.from_records(list(const_dict.items()), exclude=[\"Expression\"], columns=[\"Constraint\", \"Expression\"])\n",
    "con_df[\"Slack\"]=con_df[\"Constraint\"].apply(lambda item: \"{:.2f}\".format(const_dict[item].solverConstraint.Slack))\n",
    "con_df[\"Shadow Price\"]=con_df[\"Constraint\"].apply(lambda item: \"{:.2f}\".format(const_dict[item].solverConstraint.Pi))\n",
    "con_df[\"Right Hand Side\"]=con_df[\"Constraint\"].apply(lambda item: \"{:.2f}\".format(const_dict[item].solverConstraint.RHS))\n",
    "con_df[\"Min RHS\"]=con_df[\"Constraint\"].apply(lambda item: \"{:.2f}\".format(const_dict[item].solverConstraint.SARHSLow) )\n",
    "con_df[\"Max RHS\"]=con_df[\"Constraint\"].apply(lambda item: \"{:.2f}\".format(const_dict[item].solverConstraint.SARHSUp) if const_dict[item].solverConstraint.SARHSUp < 1e10 else \"Inf\" )\n",
    "\n",
    "\n",
    "print(\"The following table shows the constraints: \")\n",
    "print(con_df.to_markdown())"
   ],
   "metadata": {
    "collapsed": false,
    "pycharm": {
     "name": "#%%\n",
     "is_executing": false
    }
   }
  }
 ],
 "metadata": {
  "kernelspec": {
   "display_name": "Python 3",
   "language": "python",
   "name": "python3"
  },
  "language_info": {
   "codemirror_mode": {
    "name": "ipython",
    "version": 2
   },
   "file_extension": ".py",
   "mimetype": "text/x-python",
   "name": "python",
   "nbconvert_exporter": "python",
   "pygments_lexer": "ipython2",
   "version": "2.7.6"
  },
  "pycharm": {
   "stem_cell": {
    "cell_type": "raw",
    "source": [],
    "metadata": {
     "collapsed": false
    }
   }
  }
 },
 "nbformat": 4,
 "nbformat_minor": 0
}