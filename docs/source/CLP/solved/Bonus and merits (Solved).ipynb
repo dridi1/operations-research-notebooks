{
 "cells": [
  {
   "cell_type": "markdown",
   "metadata": {},
   "source": [
    "# Bonuses and merits\n",
    "\n",
    "## Problem definition\n",
    "A company pays a yearly bonus to employees based on the following indicators:\n",
    "\n",
    "1. **Performance:** Performance is evaluated by the direct manager using a quantitative method. The indicator is labelled as $CM_{1}$ and measured in a scale from 1 to 5.\n",
    "2. **Involvement:** Involvement in social media, events, coaching and other voluntary activities. Involvement is measured by the human resource department using a quantitative method. The indicator is labelled as $CM_{2}$ and measured in a scale from 1 to 5.\n",
    "3. **Professional development:** Professional development evaluates the accomplishment of training programs and courses suggested by the proximity manager. The indicator is labelled as $CM_{3}$.\n",
    "\n",
    "This year, the total score obtained among all employees is:\n",
    "\n",
    "$\\sum (𝑪𝑴_{𝟏}) = 𝟏𝟔𝟐𝟓$ Total points in performance\n",
    "\n",
    "$\\sum (𝑪𝑴_{2}) = 𝟏𝟒𝟎𝟗$ Total points in involvement\n",
    "\n",
    "$\\sum (𝑪𝑴_{3}) = 𝟏𝟑𝟖𝟕$ Total points in professional development\n",
    "\n",
    "The company wants to calculate bonuses using a linear expression weighting the three indicators\n",
    "The board established the following rules:\n",
    "\n",
    "- No employee should receive more than 5000€ in bonuses\n",
    "- The value of performance is twice the value of involvement and professional development\n",
    "- The total budget for bonuses this year is 1.5M€\n",
    "\n",
    "Formulate a LPP that determines the optimal formula to calculate employee bonuses."
   ]
  },
  {
   "cell_type": "markdown",
   "metadata": {
    "pycharm": {
     "name": "#%% md\n"
    }
   },
   "source": [
    "Let us first define the decision variables, as:\n",
    "\n",
    "- $x_1$: Coefficient in the bonuses linear expression for the performance KPI\n",
    "\n",
    "- $x_2$: Coefficient in the bonuses linear expression for the involvement KPI\n",
    "\n",
    "- $x_3$: Coefficient in the bonuses linear expression for the professional development KPI\n",
    "\n",
    "In this problem, the objective is to find the optimal values for this coefficients so that we spent the budget for bonuses in an optimal way. \n",
    "Let us define the objective function as the sum of the coefficients:\n",
    "\n",
    "$\\max z = x_1 + x_2 + x_3$\n",
    "\n",
    "This objective function does not have an economic meaning for the company, it is introduced to formulate the problem. The type of objective must be of type maximise (otherwise the solution will always be zero), and we do not use any coefficients so that the solution is not biased towards any indicator.\n",
    "\n",
    "The constraints will be: \n",
    "\n",
    "No employee should receive more than 5000€ in bonuses, therefore, with the maximum grading of 5 for all indicators, the bonus must be less or equal than 5000:\n",
    "\n",
    "$5*x_1 + 5*x_2 + 5*x_3 \\leq 5000$\n",
    "\n",
    "The bonus for performance is twice the bonus for the other two indicators: \n",
    "\n",
    "$x_1 = 2*x_2$\n",
    "\n",
    "$x_1 = 2*x_3$\n",
    "\n",
    "The total amount spent cannot exceed the available budget. Since we know the total scores by all employees: \n",
    "\n",
    "$1625*x_1 + 1409*x_2+1387*x_3 \\leq 1.5*10^6$"
   ]
  }
 ],
 "metadata": {
  "kernelspec": {
   "display_name": "Python 3",
   "language": "python",
   "name": "python3"
  },
  "language_info": {
   "codemirror_mode": {
    "name": "ipython",
    "version": 3
   },
   "file_extension": ".py",
   "mimetype": "text/x-python",
   "name": "python",
   "nbconvert_exporter": "python",
   "pygments_lexer": "ipython3",
   "version": "3.7.3"
  },
  "pycharm": {
   "stem_cell": {
    "cell_type": "raw",
    "source": [],
    "metadata": {
     "collapsed": false
    }
   }
  }
 },
 "nbformat": 4,
 "nbformat_minor": 2
}