{
 "cells": [
  {
   "cell_type": "markdown",
   "metadata": {},
   "source": [
    "# Blending Problem\n",
    "## Problem definition"
   ]
  },
  {
   "cell_type": "markdown",
   "metadata": {},
   "source": [
    "The Kahuna company manufactures sausages using three kinds of meat. The relevant information about the ingredients is provided in the table below:\n",
    "\n",
    "\n",
    "\n",
    "| Ingredient | Cost (€/kg)  | Availability (kg) |\n",
    "|------------|--------------|-------------------|\n",
    "|  Pork      | 4.32         | 30                |\n",
    "|  Wheat     | 2.46         | 20                |\n",
    "|  Starch    | 1.86         | 17                |\n",
    "\n",
    "The company makes two types of sausages:\n",
    "* Economy (>=40% Pork)\n",
    "* Premium (>=60% Pork)\n",
    "\n",
    "One sausage is 50 grams (0.05 kg)\n",
    "\n",
    "According to government regulations, the most starch we can use in our sausages is 25%\n",
    "\n",
    "We have a contract with a butcher, and have already purchased 23 kg pork, that will go bad if it's not used.\n",
    "\n",
    "We have a demand for 350 economy sausages and 500 premium sausages.\n",
    "\n",
    "**Write a linear program to figure out how to most cost effectively blend our sausages.**"
   ]
  },
  {
   "cell_type": "markdown",
   "metadata": {},
   "source": [
    "Let's model our problem\n",
    "\n",
    "  *p<sub>e</sub>* = Pork in the economy sausages (kg)  \n",
    "  *w<sub>e</sub>* = Wheat in the economy sausages (kg)  \n",
    "  *s<sub>e</sub>* = Starch in the economy sausages (kg)  \n",
    "  *p<sub>p</sub>* = Pork in the premium sausages (kg)  \n",
    "  *w<sub>p</sub>* = Wheat in the premium sausages (kg)  \n",
    "  *s<sub>p</sub>* = Starch in the premium sausages (kg)  \n",
    "\n",
    "We want to minimise costs such that:\n",
    "\n",
    "Cost = 4.32(*p<sub>e</sub>* + *p<sub>p</sub>*) + 2.46(*w<sub>e</sub>* + *w<sub>p</sub>*) + 1.86(*s<sub>e</sub>* + *s<sub>p</sub>*)\n",
    "\n",
    "\n",
    "With the following constraints:\n",
    "\n",
    "  *p<sub>e</sub>* + *w<sub>e</sub>* + *s<sub>e</sub>* = 350 \\* 0.05  \n",
    "  *p<sub>p</sub>* + *w<sub>p</sub>* + *s<sub>p</sub>* = 500 \\* 0.05  \n",
    "  *p<sub>e</sub>* ≥ 0.4(*p<sub>e</sub>* + *w<sub>e</sub>* + *s<sub>e</sub>*)  \n",
    "  *p<sub>p</sub>* ≥ 0.6(*p<sub>p</sub>* + *w<sub>p</sub>* + *s<sub>p</sub>*)  \n",
    "  *s<sub>e</sub>* ≤ 0.25(*p<sub>e</sub>* + *w<sub>e</sub>* + *s<sub>e</sub>*)  \n",
    "  *s<sub>p</sub>* ≤ 0.25(*p<sub>p</sub>* + *w<sub>p</sub>* + *s<sub>p</sub>*)  \n",
    "  *p<sub>e</sub>* + *p<sub>p</sub>* ≤ 30  \n",
    "  *w<sub>e</sub>* + *w<sub>p</sub>* ≤ 20  \n",
    "  *s<sub>e</sub>* + *s<sub>p</sub>* ≤ 17  \n",
    "  *p<sub>e</sub>* + *p<sub>p</sub>* ≥ 23"
   ]
  },
  {
   "cell_type": "code",
   "execution_count": 1,
   "metadata": {},
   "outputs": [],
   "source": [
    "import pandas as pd\n",
    "import numpy as np\n",
    "from IPython.display import display, Markdown\n",
    "import pulp"
   ]
  },
  {
   "cell_type": "code",
   "execution_count": 2,
   "metadata": {},
   "outputs": [],
   "source": [
    "# Instantiate our problem class\n",
    "model = pulp.LpProblem(\"Cost minimising blending problem\", pulp.LpMinimize)"
   ]
  },
  {
   "cell_type": "markdown",
   "metadata": {},
   "source": [
    "Here we have 6 decision variables, we could name them individually but this wouldn't scale up if we had hundreds/thousands of variables (you don't want to be entering all of these by hand multiple times). \n",
    "\n",
    "We'll create a couple of lists from which we can create tuple indices."
   ]
  },
  {
   "cell_type": "code",
   "execution_count": 3,
   "metadata": {},
   "outputs": [],
   "source": [
    "# Construct our decision variable lists\n",
    "sausage_types = ['economy', 'premium']\n",
    "ingredients = ['pork', 'wheat', 'starch']"
   ]
  },
  {
   "cell_type": "markdown",
   "metadata": {},
   "source": [
    "Each of these decision variables will have similar characteristics (lower bound of 0, continuous variables). Therefore we can use PuLP's LpVariable object's dict functionality, we can provide our tuple indices.\n",
    "\n",
    "These tuples will be keys for the ing_weight dict of decision variables"
   ]
  },
  {
   "cell_type": "code",
   "execution_count": 4,
   "metadata": {},
   "outputs": [],
   "source": [
    "variables = pulp.LpVariable.dicts(\"weight kg\",\n",
    "                                     ((i, j) for i in sausage_types for j in ingredients),\n",
    "                                     lowBound=0,\n",
    "                                     cat='Continuous')"
   ]
  },
  {
   "cell_type": "markdown",
   "metadata": {},
   "source": [
    "PuLP provides an lpSum vector calculation for the sum of a list of linear expressions.\n",
    "\n",
    "Whilst we only have 6 decision variables, I will demonstrate how the problem would be constructed in a way that could be scaled up to many variables using list comprehensions."
   ]
  },
  {
   "cell_type": "code",
   "execution_count": 5,
   "metadata": {},
   "outputs": [],
   "source": [
    "#coefficients\n",
    "coefficients = [4.32, 2.46, 1.86]\n",
    "\n",
    "# Objective Function\n",
    "model += (\n",
    "    pulp.lpSum([\n",
    "        coefficients[j] * variables[(i, ingredients[j])]\n",
    "        for i in sausage_types for j in range(len(ingredients))])\n",
    ")"
   ]
  },
  {
   "cell_type": "markdown",
   "metadata": {},
   "source": [
    "Now we add our constraints, bear in mind again here how the use of list comprehensions allows for scaling up to many ingredients or sausage types"
   ]
  },
  {
   "cell_type": "code",
   "execution_count": 6,
   "metadata": {},
   "outputs": [],
   "source": [
    "# Constraints\n",
    "# 350 economy and 500 premium sausages at 0.05 kg\n",
    "model += pulp.lpSum([variables['economy', j] for j in ingredients]) == 350 * 0.05, \"Economy demand\"\n",
    "model += pulp.lpSum([variables['premium', j] for j in ingredients]) == 500 * 0.05, \"Premium demand\"\n",
    "\n",
    "# Economy has >= 40% pork, premium >= 60% pork\n",
    "model += variables['economy', 'pork'] >= (\n",
    "    0.4 * pulp.lpSum([variables['economy', j] for j in ingredients])), \"40% Pork in Economy\"\n",
    "\n",
    "model += variables['premium', 'pork'] >= (\n",
    "    0.6 * pulp.lpSum([variables['premium', j] for j in ingredients])), \"60$ Pork in Premium\"\n",
    "\n",
    "# Sausages must be <= 25% starch\n",
    "model += variables['economy', 'starch'] <= (\n",
    "    0.25 * pulp.lpSum([variables['economy', j] for j in ingredients])), \"25% Starch in Economy\"\n",
    "\n",
    "model += variables['premium', 'starch'] <= (\n",
    "    0.25 * pulp.lpSum([variables['premium', j] for j in ingredients])), \"25% Starch in Premium\"\n",
    "\n",
    "# We have at most 30 kg of pork, 20 kg of wheat and 17 kg of starch available\n",
    "model += pulp.lpSum([variables[i, 'pork'] for i in sausage_types]) <= 30, \"Pork Availability\"\n",
    "model += pulp.lpSum([variables[i, 'wheat'] for i in sausage_types]) <= 20, \"Wheat Availability\"\n",
    "model += pulp.lpSum([variables[i, 'starch'] for i in sausage_types]) <= 17, \"Starch Availability\"\n",
    "\n",
    "# We have at least 23 kg of pork to use up\n",
    "model += pulp.lpSum([variables[i, 'pork'] for i in sausage_types]) >= 23, \"Pork Stock\""
   ]
  },
  {
   "cell_type": "code",
   "execution_count": 7,
   "metadata": {},
   "outputs": [
    {
     "name": "stdout",
     "output_type": "stream",
     "text": [
      "Academic license - for non-commercial use only\n"
     ]
    },
    {
     "data": {
      "text/plain": [
       "'Optimal'"
      ]
     },
     "execution_count": 7,
     "metadata": {},
     "output_type": "execute_result"
    }
   ],
   "source": [
    "# Solve our problem\n",
    "model.solve(solver=pulp.solvers.GUROBI(msg = 0))\n",
    "pulp.LpStatus[model.status]"
   ]
  },
  {
   "cell_type": "code",
   "execution_count": 8,
   "metadata": {},
   "outputs": [
    {
     "data": {
      "text/markdown": [
       "Total cost is 140.96 €"
      ],
      "text/plain": [
       "<IPython.core.display.Markdown object>"
      ]
     },
     "metadata": {},
     "output_type": "display_data"
    },
    {
     "data": {
      "text/markdown": [
       "The following table shows the decision variables: "
      ],
      "text/plain": [
       "<IPython.core.display.Markdown object>"
      ]
     },
     "metadata": {},
     "output_type": "display_data"
    },
    {
     "data": {
      "text/html": [
       "<div>\n",
       "<style scoped>\n",
       "    .dataframe tbody tr th:only-of-type {\n",
       "        vertical-align: middle;\n",
       "    }\n",
       "\n",
       "    .dataframe tbody tr th {\n",
       "        vertical-align: top;\n",
       "    }\n",
       "\n",
       "    .dataframe thead th {\n",
       "        text-align: right;\n",
       "    }\n",
       "</style>\n",
       "<table border=\"1\" class=\"dataframe\">\n",
       "  <thead>\n",
       "    <tr style=\"text-align: right;\">\n",
       "      <th></th>\n",
       "      <th>Variables</th>\n",
       "      <th>Solution (GRB)</th>\n",
       "      <th>Reduced cost (GRB)</th>\n",
       "      <th>Objective Coefficient (GRB)</th>\n",
       "      <th>Objective Lower bound (GRB)</th>\n",
       "      <th>Objective Upper bound (GRB)</th>\n",
       "    </tr>\n",
       "  </thead>\n",
       "  <tbody>\n",
       "    <tr>\n",
       "      <th>(economy, pork)</th>\n",
       "      <td>weight_kg_('economy',_'pork')</td>\n",
       "      <td>7.00</td>\n",
       "      <td>0.00</td>\n",
       "      <td>4.32</td>\n",
       "      <td>4.32</td>\n",
       "      <td>Inf</td>\n",
       "    </tr>\n",
       "    <tr>\n",
       "      <th>(economy, wheat)</th>\n",
       "      <td>weight_kg_('economy',_'wheat')</td>\n",
       "      <td>6.12</td>\n",
       "      <td>0.00</td>\n",
       "      <td>2.46</td>\n",
       "      <td>1.86</td>\n",
       "      <td>2.46</td>\n",
       "    </tr>\n",
       "    <tr>\n",
       "      <th>(economy, starch)</th>\n",
       "      <td>weight_kg_('economy',_'starch')</td>\n",
       "      <td>4.38</td>\n",
       "      <td>0.00</td>\n",
       "      <td>1.86</td>\n",
       "      <td>-Inf</td>\n",
       "      <td>2.46</td>\n",
       "    </tr>\n",
       "    <tr>\n",
       "      <th>(premium, pork)</th>\n",
       "      <td>weight_kg_('premium',_'pork')</td>\n",
       "      <td>16.00</td>\n",
       "      <td>0.00</td>\n",
       "      <td>4.32</td>\n",
       "      <td>2.46</td>\n",
       "      <td>4.32</td>\n",
       "    </tr>\n",
       "    <tr>\n",
       "      <th>(premium, wheat)</th>\n",
       "      <td>weight_kg_('premium',_'wheat')</td>\n",
       "      <td>2.75</td>\n",
       "      <td>0.00</td>\n",
       "      <td>2.46</td>\n",
       "      <td>2.46</td>\n",
       "      <td>4.32</td>\n",
       "    </tr>\n",
       "    <tr>\n",
       "      <th>(premium, starch)</th>\n",
       "      <td>weight_kg_('premium',_'starch')</td>\n",
       "      <td>6.25</td>\n",
       "      <td>0.00</td>\n",
       "      <td>1.86</td>\n",
       "      <td>-Inf</td>\n",
       "      <td>2.46</td>\n",
       "    </tr>\n",
       "  </tbody>\n",
       "</table>\n",
       "</div>"
      ],
      "text/plain": [
       "                                         Variables Solution (GRB)  \\\n",
       "(economy, pork)      weight_kg_('economy',_'pork')           7.00   \n",
       "(economy, wheat)    weight_kg_('economy',_'wheat')           6.12   \n",
       "(economy, starch)  weight_kg_('economy',_'starch')           4.38   \n",
       "(premium, pork)      weight_kg_('premium',_'pork')          16.00   \n",
       "(premium, wheat)    weight_kg_('premium',_'wheat')           2.75   \n",
       "(premium, starch)  weight_kg_('premium',_'starch')           6.25   \n",
       "\n",
       "                  Reduced cost (GRB) Objective Coefficient (GRB)  \\\n",
       "(economy, pork)                 0.00                        4.32   \n",
       "(economy, wheat)                0.00                        2.46   \n",
       "(economy, starch)               0.00                        1.86   \n",
       "(premium, pork)                 0.00                        4.32   \n",
       "(premium, wheat)                0.00                        2.46   \n",
       "(premium, starch)               0.00                        1.86   \n",
       "\n",
       "                  Objective Lower bound (GRB) Objective Upper bound (GRB)  \n",
       "(economy, pork)                          4.32                         Inf  \n",
       "(economy, wheat)                         1.86                        2.46  \n",
       "(economy, starch)                        -Inf                        2.46  \n",
       "(premium, pork)                          2.46                        4.32  \n",
       "(premium, wheat)                         2.46                        4.32  \n",
       "(premium, starch)                        -Inf                        2.46  "
      ]
     },
     "metadata": {},
     "output_type": "display_data"
    },
    {
     "data": {
      "text/markdown": [
       "The following table shows the constraints: "
      ],
      "text/plain": [
       "<IPython.core.display.Markdown object>"
      ]
     },
     "metadata": {},
     "output_type": "display_data"
    },
    {
     "data": {
      "text/html": [
       "<div>\n",
       "<style scoped>\n",
       "    .dataframe tbody tr th:only-of-type {\n",
       "        vertical-align: middle;\n",
       "    }\n",
       "\n",
       "    .dataframe tbody tr th {\n",
       "        vertical-align: top;\n",
       "    }\n",
       "\n",
       "    .dataframe thead th {\n",
       "        text-align: right;\n",
       "    }\n",
       "</style>\n",
       "<table border=\"1\" class=\"dataframe\">\n",
       "  <thead>\n",
       "    <tr style=\"text-align: right;\">\n",
       "      <th></th>\n",
       "      <th>Constraint</th>\n",
       "      <th>Right Hand Side</th>\n",
       "      <th>Slack</th>\n",
       "      <th>Shadow Price</th>\n",
       "      <th>Min RHS</th>\n",
       "      <th>Max RHS</th>\n",
       "    </tr>\n",
       "  </thead>\n",
       "  <tbody>\n",
       "    <tr>\n",
       "      <th>0</th>\n",
       "      <td>Economy_demand</td>\n",
       "      <td>17.50</td>\n",
       "      <td>0.00</td>\n",
       "      <td>2.31</td>\n",
       "      <td>10.62</td>\n",
       "      <td>20.00</td>\n",
       "    </tr>\n",
       "    <tr>\n",
       "      <th>1</th>\n",
       "      <td>Premium_demand</td>\n",
       "      <td>25.00</td>\n",
       "      <td>0.00</td>\n",
       "      <td>2.31</td>\n",
       "      <td>21.33</td>\n",
       "      <td>26.67</td>\n",
       "    </tr>\n",
       "    <tr>\n",
       "      <th>2</th>\n",
       "      <td>40%_Pork_in_Economy</td>\n",
       "      <td>0.00</td>\n",
       "      <td>0.00</td>\n",
       "      <td>0.00</td>\n",
       "      <td>-2.75</td>\n",
       "      <td>1.00</td>\n",
       "    </tr>\n",
       "    <tr>\n",
       "      <th>3</th>\n",
       "      <td>60$_Pork_in_Premium</td>\n",
       "      <td>0.00</td>\n",
       "      <td>-1.00</td>\n",
       "      <td>0.00</td>\n",
       "      <td>-Inf</td>\n",
       "      <td>1.00</td>\n",
       "    </tr>\n",
       "    <tr>\n",
       "      <th>4</th>\n",
       "      <td>25%_Starch_in_Economy</td>\n",
       "      <td>0.00</td>\n",
       "      <td>0.00</td>\n",
       "      <td>-0.60</td>\n",
       "      <td>-4.38</td>\n",
       "      <td>6.12</td>\n",
       "    </tr>\n",
       "    <tr>\n",
       "      <th>5</th>\n",
       "      <td>25%_Starch_in_Premium</td>\n",
       "      <td>0.00</td>\n",
       "      <td>0.00</td>\n",
       "      <td>-0.60</td>\n",
       "      <td>-6.25</td>\n",
       "      <td>2.75</td>\n",
       "    </tr>\n",
       "    <tr>\n",
       "      <th>6</th>\n",
       "      <td>Pork_Availability</td>\n",
       "      <td>30.00</td>\n",
       "      <td>7.00</td>\n",
       "      <td>0.00</td>\n",
       "      <td>23.00</td>\n",
       "      <td>Inf</td>\n",
       "    </tr>\n",
       "    <tr>\n",
       "      <th>7</th>\n",
       "      <td>Wheat_Availability</td>\n",
       "      <td>20.00</td>\n",
       "      <td>11.12</td>\n",
       "      <td>0.00</td>\n",
       "      <td>8.88</td>\n",
       "      <td>Inf</td>\n",
       "    </tr>\n",
       "    <tr>\n",
       "      <th>8</th>\n",
       "      <td>Starch_Availability</td>\n",
       "      <td>17.00</td>\n",
       "      <td>6.38</td>\n",
       "      <td>0.00</td>\n",
       "      <td>10.62</td>\n",
       "      <td>Inf</td>\n",
       "    </tr>\n",
       "    <tr>\n",
       "      <th>9</th>\n",
       "      <td>Pork_Stock</td>\n",
       "      <td>23.00</td>\n",
       "      <td>0.00</td>\n",
       "      <td>1.86</td>\n",
       "      <td>22.00</td>\n",
       "      <td>25.75</td>\n",
       "    </tr>\n",
       "  </tbody>\n",
       "</table>\n",
       "</div>"
      ],
      "text/plain": [
       "              Constraint Right Hand Side  Slack Shadow Price Min RHS Max RHS\n",
       "0         Economy_demand           17.50   0.00         2.31   10.62   20.00\n",
       "1         Premium_demand           25.00   0.00         2.31   21.33   26.67\n",
       "2    40%_Pork_in_Economy            0.00   0.00         0.00   -2.75    1.00\n",
       "3    60$_Pork_in_Premium            0.00  -1.00         0.00    -Inf    1.00\n",
       "4  25%_Starch_in_Economy            0.00   0.00        -0.60   -4.38    6.12\n",
       "5  25%_Starch_in_Premium            0.00   0.00        -0.60   -6.25    2.75\n",
       "6      Pork_Availability           30.00   7.00         0.00   23.00     Inf\n",
       "7     Wheat_Availability           20.00  11.12         0.00    8.88     Inf\n",
       "8    Starch_Availability           17.00   6.38         0.00   10.62     Inf\n",
       "9             Pork_Stock           23.00   0.00         1.86   22.00   25.75"
      ]
     },
     "metadata": {},
     "output_type": "display_data"
    }
   ],
   "source": [
    "total_cost = pulp.value(model.objective)\n",
    "display(Markdown(\"Total cost is %0.2f €\"%total_cost))\n",
    "\n",
    "display(Markdown(\"The following table shows the decision variables: \"))\n",
    "var_df = pd.DataFrame.from_dict(variables, orient=\"index\", \n",
    "                                columns = [\"Variables\"])\n",
    "var_df[\"Solution (GRB)\"] = var_df[\"Variables\"].apply(lambda item: \"{:.2f}\".format(item.solverVar.X))\n",
    "var_df[\"Reduced cost (GRB)\"] = var_df[\"Variables\"].apply(lambda item: \"{:.2f}\".format(item.solverVar.RC))\n",
    "var_df[\"Objective Coefficient (GRB)\"] = var_df[\"Variables\"].apply(lambda item: \"{:.2f}\".format(item.solverVar.Obj))\n",
    "var_df[\"Objective Lower bound (GRB)\"] = var_df[\"Variables\"].apply(lambda item: \"{:.2f}\".format(item.solverVar.SAObjLow) if item.solverVar.SAObjLow > -0.1 else \"-Inf\" )\n",
    "var_df[\"Objective Upper bound (GRB)\"] = var_df[\"Variables\"].apply(lambda item: \"{:.2f}\".format(item.solverVar.SAObjUp) if item.solverVar.SAObjUp != item.solverVar.UB else \"Inf\")\n",
    "\n",
    "\n",
    "display(var_df)\n",
    "\n",
    "\n",
    "const_dict = dict(model.constraints)\n",
    "con_df = pd.DataFrame.from_records(list(const_dict.items()), exclude=[\"Expression\"], columns=[\"Constraint\", \"Expression\"])\n",
    "con_df[\"Right Hand Side\"]=con_df[\"Constraint\"].apply(lambda item: \"{:.2f}\".format(const_dict[item].solverConstraint.RHS))\n",
    "con_df[\"Slack\"]=con_df[\"Constraint\"].apply(lambda item: \"{:.2f}\".format(const_dict[item].solverConstraint.Slack))\n",
    "con_df[\"Shadow Price\"]=con_df[\"Constraint\"].apply(lambda item: \"{:.2f}\".format(const_dict[item].solverConstraint.Pi))\n",
    "con_df[\"Min RHS\"]=con_df[\"Constraint\"].apply(lambda item: \"{:.2f}\".format(const_dict[item].solverConstraint.SARHSLow) if const_dict[item].solverConstraint.SARHSLow > -1e10 else \"-Inf\")\n",
    "con_df[\"Max RHS\"]=con_df[\"Constraint\"].apply(lambda item: \"{:.2f}\".format(const_dict[item].solverConstraint.SARHSUp) if const_dict[item].solverConstraint.SARHSUp < 1e10 else \"Inf\" )\n",
    "\n",
    "\n",
    "display(Markdown(\"The following table shows the constraints: \"))\n",
    "display(con_df)"
   ]
  },
  {
   "cell_type": "markdown",
   "metadata": {},
   "source": []
  }
 ],
 "metadata": {
  "kernelspec": {
   "display_name": "Python 3",
   "language": "python",
   "name": "python3"
  },
  "language_info": {
   "codemirror_mode": {
    "name": "ipython",
    "version": 3
   },
   "file_extension": ".py",
   "mimetype": "text/x-python",
   "name": "python",
   "nbconvert_exporter": "python",
   "pygments_lexer": "ipython3",
   "version": "3.7.4"
  },
  "pycharm": {
   "stem_cell": {
    "cell_type": "raw",
    "source": [],
    "metadata": {
     "collapsed": false
    }
   }
  }
 },
 "nbformat": 4,
 "nbformat_minor": 1
}