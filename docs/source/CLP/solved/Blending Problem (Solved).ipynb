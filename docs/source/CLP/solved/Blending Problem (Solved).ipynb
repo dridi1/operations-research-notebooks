{
 "cells": [
  {
   "cell_type": "markdown",
   "metadata": {},
   "source": [
    "# Blending Problem\n",
    "## Problem definition"
   ]
  },
  {
   "cell_type": "markdown",
   "metadata": {},
   "source": [
    "The Kahuna company manufactures sausages using three kinds of meat. The relevant information about the ingredients is provided in the table below:\n",
    "\n",
    "| Ingredient | Cost (€/kg)  | Availability (kg) |\n",
    "|------------|--------------|-------------------|\n",
    "|  Pork      | 4.32         | 30                |\n",
    "|  Wheat     | 2.46         | 20                |\n",
    "|  Starch    | 1.86         | 17                |\n",
    "\n",
    "The company makes two types of sausages:\n",
    "* Economy (>=40% Pork)\n",
    "* Premium (>=60% Pork)\n",
    "\n",
    "One sausage is 50 grams (0.05 kg)\n",
    "\n",
    "According to government regulations, the most starch we can use in our sausages is 25%\n",
    "\n",
    "We have a contract with a butcher, and have already purchased 23 kg pork, that will go bad if it's not used.\n",
    "\n",
    "We have a demand for 350 economy sausages and 500 premium sausages.\n",
    "\n",
    "**Write a linear program to figure out how to most cost effectively blend our sausages.**"
   ]
  },
  {
   "cell_type": "markdown",
   "metadata": {
    "pycharm": {
     "name": "#%% md\n"
    }
   },
   "source": [
    "Let's model our problem\n",
    "\n",
    "  *p<sub>e</sub>* = Pork in the economy sausages (kg)  \n",
    "  *w<sub>e</sub>* = Wheat in the economy sausages (kg)  \n",
    "  *s<sub>e</sub>* = Starch in the economy sausages (kg)  \n",
    "  *p<sub>p</sub>* = Pork in the premium sausages (kg)  \n",
    "  *w<sub>p</sub>* = Wheat in the premium sausages (kg)  \n",
    "  *s<sub>p</sub>* = Starch in the premium sausages (kg)  \n",
    "\n",
    "We want to minimise costs such that:\n",
    "\n",
    "Cost = 4.32(*p<sub>e</sub>* + *p<sub>p</sub>*) + 2.46(*w<sub>e</sub>* + *w<sub>p</sub>*) + 1.86(*s<sub>e</sub>* + *s<sub>p</sub>*)\n",
    "\n",
    "\n",
    "With the following constraints:\n",
    "\n",
    "  *p<sub>e</sub>* + *w<sub>e</sub>* + *s<sub>e</sub>* = 350 \\* 0.05  \n",
    "  *p<sub>p</sub>* + *w<sub>p</sub>* + *s<sub>p</sub>* = 500 \\* 0.05  \n",
    "  *p<sub>e</sub>* ≥ 0.4(*p<sub>e</sub>* + *w<sub>e</sub>* + *s<sub>e</sub>*)  \n",
    "  *p<sub>p</sub>* ≥ 0.6(*p<sub>p</sub>* + *w<sub>p</sub>* + *s<sub>p</sub>*)  \n",
    "  *s<sub>e</sub>* ≤ 0.25(*p<sub>e</sub>* + *w<sub>e</sub>* + *s<sub>e</sub>*)  \n",
    "  *s<sub>p</sub>* ≤ 0.25(*p<sub>p</sub>* + *w<sub>p</sub>* + *s<sub>p</sub>*)  \n",
    "  *p<sub>e</sub>* + *p<sub>p</sub>* ≤ 30  \n",
    "  *w<sub>e</sub>* + *w<sub>p</sub>* ≤ 20  \n",
    "  *s<sub>e</sub>* + *s<sub>p</sub>* ≤ 17  \n",
    "  *p<sub>e</sub>* + *p<sub>p</sub>* ≥ 23\n"
   ]
  }
 ],
 "metadata": {
  "kernelspec": {
   "display_name": "Python 3",
   "language": "python",
   "name": "python3"
  },
  "language_info": {
   "codemirror_mode": {
    "name": "ipython",
    "version": 3
   },
   "file_extension": ".py",
   "mimetype": "text/x-python",
   "name": "python",
   "nbconvert_exporter": "python",
   "pygments_lexer": "ipython3",
   "version": "3.7.4"
  },
  "pycharm": {
   "stem_cell": {
    "cell_type": "raw",
    "source": [],
    "metadata": {
     "collapsed": false
    }
   }
  }
 },
 "nbformat": 4,
 "nbformat_minor": 1
}