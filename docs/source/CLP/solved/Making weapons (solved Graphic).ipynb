{
 "cells": [
  {
   "cell_type": "markdown",
   "source": [
    "# Making Weapons \n",
    "\n",
    "{{ badges }}\n",
    "\n",
    "## Problem definition\n",
    "Din Djarin is a retired bounty hunter that now runs a small factory specialised in making classic weapons in a colony recently restablished in Mandalore. The factory manufactures two different types of weapons, swords and spears. Din uses special alloys, mixtures of metals and rare materials, which have made a name for the endurance of his weapons across the colony. The table below shows the weight in pounds of each material needed to make each type of weapon:\n",
    "\n",
    "| Metal    | spear | sword |\n",
    "|----------|-------|-------|\n",
    "| Beskar   |   1   |  0.5  |\n",
    "| Tungsten |   1   |   1   |\n",
    "| Titanium |   3   |   1   |\n",
    "\n",
    "And the table below shows the total amount of each metal available, also in pounds: \n",
    "\n",
    "| Metal    | Amount |\n",
    "|----------|--------|\n",
    "|  Beskar  |  125   |\n",
    "| Tungsten |  225   |\n",
    "| Titanium |  300   |\n",
    "\n",
    "The price of a spade is 40 credits and the price of a sword is 5 credits. Din has already sold 100 swords, so he needs to manufacture at least that many. \n",
    "\n",
    "**Find the optimal number of spades and swords that maximise revenues**"
   ],
   "metadata": {
    "collapsed": false
   }
  },
  {
   "cell_type": "markdown",
   "source": [
    "## Model"
   ],
   "metadata": {
    "collapsed": false
   }
  },
  {
   "cell_type": "markdown",
   "source": [
    "The objective is to maximise the revenues obtained with the sales of both types of weapons. \n",
    "The objective function can be modeled as:\n",
    "\n",
    "$\\max z = 40x_{1} + 5x_{2}$\n",
    "\n",
    "where z represents the objective variable (profits) and the decision variables are:\n",
    "\n",
    "\n",
    "- $x_{1}$: units of spears\n",
    "\n",
    "- $x_{2}$: units of swords\n",
    "\n",
    "Let us for now consider that they are real and non negative. \n",
    "\n",
    "The objective function is subject to the following constraints:\n",
    "\n",
    "Metal availability constraints: \n",
    "\n",
    "$x_{1} + 0.5x_{2} \\leq 125$\n",
    "\n",
    "$x_{1} + x_{2} \\leq 225$\n",
    "\n",
    "$3x_{1} + x_{2} \\leq 300$\n",
    "\n",
    "And the demand on swords:\n",
    "\n",
    "$x_{2} \\geq 100$\n"
   ],
   "metadata": {
    "collapsed": false
   }
  },
  {
   "cell_type": "markdown",
   "source": [
    "## Solution with the graphical method"
   ],
   "metadata": {
    "collapsed": false
   }
  },
  {
   "cell_type": "markdown",
   "source": [
    "We will use the numpy library to create the decision space and the pyplot library to represent the decision space. Numpy provides useful funcitons to create multidimensional arrays. Below, the solution is expressed as follows:"
   ],
   "metadata": {
    "collapsed": false
   }
  },
  {
   "cell_type": "markdown",
   "source": [
    "## Feasibility region"
   ],
   "metadata": {
    "collapsed": false
   }
  },
  {
   "cell_type": "markdown",
   "source": [
    "Let us determine the feasibility region by iteratively representing the different constraints in the decision space. We start by representing the possible valies of $x_{1}$ and $x_{2}$ just taking into account the physical constraints:"
   ],
   "metadata": {
    "collapsed": false
   }
  },
  {
   "cell_type": "code",
   "execution_count": 1,
   "outputs": [
    {
     "data": {
      "text/plain": "<matplotlib.legend.Legend at 0x14b1a6785b0>"
     },
     "metadata": {},
     "output_type": "execute_result",
     "execution_count": 1
    },
    {
     "data": {
      "text/plain": "<Figure size 432x288 with 1 Axes>",
      "image/png": "[encoded data removed]"
     },
     "metadata": {
      "needs_background": "light"
     },
     "output_type": "display_data"
    }
   ],
   "source": [
    "#Import the numpy and pyplot libraries, we set the aliases np and plt so that it is easier to use \n",
    "import numpy as np\n",
    "import matplotlib.pyplot as plt\n",
    "\n",
    "#We set the mode inline of matplotlib to get the result at the output of the cell code\n",
    "%matplotlib inline\n",
    "\n",
    "#Construct lines, in our coordinate system x represents our decision variable x1 and y represents our decision variable x2\n",
    "x=np.linspace(0,300,2000) #2000 numbers from 0 to 100\n",
    "\n",
    "y1=(125-x)/0.5 # Beskar constraint \n",
    "y2=x*0         # non negativity constraint\n",
    "y3=225-x       # Tungsten constraint\n",
    "y4=100+x*0     # Demand constraint\n",
    "y5=300-3*x     # Titanium constraint\n",
    "\n",
    "# Solution with objective value\n",
    "y8=(3166.67-40*x)/5 # we clear the x2 with the value of z\n",
    "\n",
    "\n",
    "#1. Plot the lines\n",
    "plt.plot(x,y1,label=r'$x_{1}+0.5x_{2}\\leq125$')\n",
    "plt.plot(x,y2,label=r'$x_{2}\\greater0$')\n",
    "plt.plot(x,y3,label=r'$x_{1}+x_{2}\\leq225$')\n",
    "plt.plot(x,y4,label=r'$x_{2}\\geq100$')\n",
    "plt.plot(x,y5,label=r'$3x_{1}+x_{2}\\leq300$')\n",
    "plt.plot(x,y8,label=r'$z=3166.67$')\n",
    "\n",
    "#2. Adjust axis\n",
    "plt.xlim((0,150))\n",
    "plt.ylim((0,250))\n",
    "plt.xlabel((r'$x_{1}$'))\n",
    "plt.ylabel((r'$x_{2}$'))\n",
    "\n",
    "\n",
    "#3. Fill feasible region\n",
    "y6=np.minimum(y1,y3) #Line representing the minimum between y6 and y2\n",
    "y7=np.minimum(y6,y5) #Line representing the minimum between y6 and y5\n",
    "plt.fill_between(x,y7,y4,where=y7>y4,color='grey',alpha=0.5)\n",
    "\n",
    "#4. Plot legend\n",
    "plt.legend(bbox_to_anchor=(1.05,1),loc=2,borderaxespad=0.)"
   ],
   "metadata": {
    "collapsed": false,
    "pycharm": {
     "name": "#%%\n",
     "is_executing": false
    }
   }
  },
  {
   "cell_type": "markdown",
   "source": [
    "We have successfully calculated that the maximum value for $Z$ ($3166.67$), when $𝑥_{1}$ is $66.67$ and $x_{2}$ is $2$. \n"
   ],
   "metadata": {
    "collapsed": false,
    "pycharm": {
     "name": "#%% md\n"
    }
   }
  }
 ],
 "metadata": {
  "colab": {
   "name": "CLP assignment.ipynb",
   "provenance": []
  },
  "kernelspec": {
   "display_name": "Python 3",
   "language": "python",
   "name": "python3"
  },
  "language_info": {
   "codemirror_mode": {
    "name": "ipython",
    "version": 3
   },
   "file_extension": ".py",
   "mimetype": "text/x-python",
   "name": "python",
   "nbconvert_exporter": "python",
   "pygments_lexer": "ipython3",
   "version": "3.7.4"
  },
  "pycharm": {
   "stem_cell": {
    "cell_type": "raw",
    "source": [],
    "metadata": {
     "collapsed": false
    }
   }
  }
 },
 "nbformat": 4,
 "nbformat_minor": 1
}