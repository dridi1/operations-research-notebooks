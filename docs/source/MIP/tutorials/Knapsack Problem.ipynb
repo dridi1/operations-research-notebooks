{
 "cells": [
  {
   "cell_type": "markdown",
   "source": [],
   "metadata": {
    "collapsed": false
   },
   "id": "4e1ecceb340d220c"
  },
  {
   "cell_type": "markdown",
   "source": [
    "# Problem definition\n",
    "The region wants to invest in development projects in the following areas: \n",
    "Agriculture (cost: 130M€, return: 10%)\n",
    "Energy (cost: 150M€, return: 15%)\n",
    "Primary industry (cost: 140M€, return: 5%)\n",
    "Textile industry (Cost: 120M€, return 7%)\n",
    "Internet and Media Industry (140M€, return 12%)\n",
    "Infrastructure (130M€, return 9%)\n",
    "\n",
    "The budget is 500M€. What is the portfolio that maximises return?\n"
   ],
   "metadata": {
    "collapsed": false
   },
   "id": "36b9ed3a98e106d3"
  },
  {
   "cell_type": "code",
   "execution_count": 2,
   "outputs": [
    {
     "ename": "KeyboardInterrupt",
     "evalue": "",
     "output_type": "error",
     "traceback": [
      "\u001B[1;31m---------------------------------------------------------------------------\u001B[0m",
      "\u001B[1;31mKeyboardInterrupt\u001B[0m                         Traceback (most recent call last)",
      "Cell \u001B[1;32mIn[2], line 25\u001B[0m\n\u001B[0;32m     22\u001B[0m cum_costs \u001B[38;5;241m=\u001B[39m np\u001B[38;5;241m.\u001B[39mcumsum(costs[order])\n\u001B[0;32m     24\u001B[0m \u001B[38;5;66;03m# Find the first project that exceeds the budget\u001B[39;00m\n\u001B[1;32m---> 25\u001B[0m n \u001B[38;5;241m=\u001B[39m \u001B[43mnp\u001B[49m\u001B[38;5;241m.\u001B[39margmax(cum_costs \u001B[38;5;241m>\u001B[39m budget)\n\u001B[0;32m     27\u001B[0m \u001B[38;5;66;03m# Add the projects to the portfolio\u001B[39;00m\n\u001B[0;32m     28\u001B[0m portfolio[order[:n]] \u001B[38;5;241m=\u001B[39m \u001B[38;5;241m1\u001B[39m\n",
      "Cell \u001B[1;32mIn[2], line 25\u001B[0m\n\u001B[0;32m     22\u001B[0m cum_costs \u001B[38;5;241m=\u001B[39m np\u001B[38;5;241m.\u001B[39mcumsum(costs[order])\n\u001B[0;32m     24\u001B[0m \u001B[38;5;66;03m# Find the first project that exceeds the budget\u001B[39;00m\n\u001B[1;32m---> 25\u001B[0m n \u001B[38;5;241m=\u001B[39m \u001B[43mnp\u001B[49m\u001B[38;5;241m.\u001B[39margmax(cum_costs \u001B[38;5;241m>\u001B[39m budget)\n\u001B[0;32m     27\u001B[0m \u001B[38;5;66;03m# Add the projects to the portfolio\u001B[39;00m\n\u001B[0;32m     28\u001B[0m portfolio[order[:n]] \u001B[38;5;241m=\u001B[39m \u001B[38;5;241m1\u001B[39m\n",
      "File \u001B[1;32m_pydevd_bundle\\pydevd_cython_win32_310_64.pyx:1179\u001B[0m, in \u001B[0;36m_pydevd_bundle.pydevd_cython_win32_310_64.SafeCallWrapper.__call__\u001B[1;34m()\u001B[0m\n",
      "File \u001B[1;32m_pydevd_bundle\\pydevd_cython_win32_310_64.pyx:620\u001B[0m, in \u001B[0;36m_pydevd_bundle.pydevd_cython_win32_310_64.PyDBFrame.trace_dispatch\u001B[1;34m()\u001B[0m\n",
      "File \u001B[1;32m_pydevd_bundle\\pydevd_cython_win32_310_64.pyx:1095\u001B[0m, in \u001B[0;36m_pydevd_bundle.pydevd_cython_win32_310_64.PyDBFrame.trace_dispatch\u001B[1;34m()\u001B[0m\n",
      "File \u001B[1;32m_pydevd_bundle\\pydevd_cython_win32_310_64.pyx:1057\u001B[0m, in \u001B[0;36m_pydevd_bundle.pydevd_cython_win32_310_64.PyDBFrame.trace_dispatch\u001B[1;34m()\u001B[0m\n",
      "File \u001B[1;32m_pydevd_bundle\\pydevd_cython_win32_310_64.pyx:317\u001B[0m, in \u001B[0;36m_pydevd_bundle.pydevd_cython_win32_310_64.PyDBFrame.do_wait_suspend\u001B[1;34m()\u001B[0m\n",
      "File \u001B[1;32mC:\\Program Files\\JetBrains\\PyCharm 2023.2.5\\plugins\\python\\helpers\\pydev\\pydevd.py:1160\u001B[0m, in \u001B[0;36mPyDB.do_wait_suspend\u001B[1;34m(self, thread, frame, event, arg, send_suspend_message, is_unhandled_exception)\u001B[0m\n\u001B[0;32m   1157\u001B[0m         from_this_thread\u001B[38;5;241m.\u001B[39mappend(frame_id)\n\u001B[0;32m   1159\u001B[0m \u001B[38;5;28;01mwith\u001B[39;00m \u001B[38;5;28mself\u001B[39m\u001B[38;5;241m.\u001B[39m_threads_suspended_single_notification\u001B[38;5;241m.\u001B[39mnotify_thread_suspended(thread_id, stop_reason):\n\u001B[1;32m-> 1160\u001B[0m     \u001B[38;5;28;43mself\u001B[39;49m\u001B[38;5;241;43m.\u001B[39;49m\u001B[43m_do_wait_suspend\u001B[49m\u001B[43m(\u001B[49m\u001B[43mthread\u001B[49m\u001B[43m,\u001B[49m\u001B[43m \u001B[49m\u001B[43mframe\u001B[49m\u001B[43m,\u001B[49m\u001B[43m \u001B[49m\u001B[43mevent\u001B[49m\u001B[43m,\u001B[49m\u001B[43m \u001B[49m\u001B[43marg\u001B[49m\u001B[43m,\u001B[49m\u001B[43m \u001B[49m\u001B[43msuspend_type\u001B[49m\u001B[43m,\u001B[49m\u001B[43m \u001B[49m\u001B[43mfrom_this_thread\u001B[49m\u001B[43m)\u001B[49m\n",
      "File \u001B[1;32mC:\\Program Files\\JetBrains\\PyCharm 2023.2.5\\plugins\\python\\helpers\\pydev\\pydevd.py:1175\u001B[0m, in \u001B[0;36mPyDB._do_wait_suspend\u001B[1;34m(self, thread, frame, event, arg, suspend_type, from_this_thread)\u001B[0m\n\u001B[0;32m   1172\u001B[0m             \u001B[38;5;28mself\u001B[39m\u001B[38;5;241m.\u001B[39m_call_mpl_hook()\n\u001B[0;32m   1174\u001B[0m         \u001B[38;5;28mself\u001B[39m\u001B[38;5;241m.\u001B[39mprocess_internal_commands()\n\u001B[1;32m-> 1175\u001B[0m         \u001B[43mtime\u001B[49m\u001B[38;5;241;43m.\u001B[39;49m\u001B[43msleep\u001B[49m\u001B[43m(\u001B[49m\u001B[38;5;241;43m0.01\u001B[39;49m\u001B[43m)\u001B[49m\n\u001B[0;32m   1177\u001B[0m \u001B[38;5;28mself\u001B[39m\u001B[38;5;241m.\u001B[39mcancel_async_evaluation(get_current_thread_id(thread), \u001B[38;5;28mstr\u001B[39m(\u001B[38;5;28mid\u001B[39m(frame)))\n\u001B[0;32m   1179\u001B[0m \u001B[38;5;66;03m# process any stepping instructions\u001B[39;00m\n",
      "\u001B[1;31mKeyboardInterrupt\u001B[0m: "
     ]
    }
   ],
   "source": [
    "# Greedy algorithm\n",
    "import numpy as np\n",
    "\n",
    "# define costs\n",
    "costs = np.array([130, 150, 140, 120, 140, 130])\n",
    "\n",
    "# define returns\n",
    "returns = np.array([0.10, 0.15, 0.05, 0.07, 0.12, 0.09])\n",
    "\n",
    "# define budget\n",
    "budget = 500\n",
    "\n",
    "\n",
    "# Initialize the portfolio to zero\n",
    "portfolio = np.zeros(6)\n",
    "\n",
    "# use argsort to get the order of the projects in terms of return/cost\n",
    "\n",
    "order = np.argsort(-returns/costs)\n",
    "\n",
    "# Create an array with the cumulative costs in the order of the projects\n",
    "cum_costs = np.cumsum(costs[order])\n",
    "\n",
    "# Find the first project that exceeds the budget\n",
    "n = np.argmax(cum_costs > budget)\n",
    "\n",
    "# Add the projects to the portfolio\n",
    "portfolio[order[:n]] = 1\n",
    "\n",
    "# Print the portfolio\n",
    "portfolio\n",
    "\n",
    "\n",
    "\n"
   ],
   "metadata": {
    "collapsed": false,
    "ExecuteTime": {
     "end_time": "2024-03-01T14:51:59.567050900Z",
     "start_time": "2024-03-01T14:44:05.229151800Z"
    }
   },
   "id": "d26b16077380e145"
  },
  {
   "cell_type": "code",
   "execution_count": 1,
   "outputs": [
    {
     "ename": "KeyboardInterrupt",
     "evalue": "",
     "output_type": "error",
     "traceback": [
      "\u001B[1;31m---------------------------------------------------------------------------\u001B[0m",
      "\u001B[1;31mKeyboardInterrupt\u001B[0m                         Traceback (most recent call last)",
      "Cell \u001B[1;32mIn[1], line 36\u001B[0m\n\u001B[0;32m     33\u001B[0m \u001B[38;5;66;03m# iterate over generations\u001B[39;00m\n\u001B[0;32m     34\u001B[0m \u001B[38;5;28;01mfor\u001B[39;00m gen \u001B[38;5;129;01min\u001B[39;00m \u001B[38;5;28mrange\u001B[39m(n_gen):\n\u001B[0;32m     35\u001B[0m     \u001B[38;5;66;03m# calculate fitness\u001B[39;00m\n\u001B[1;32m---> 36\u001B[0m     fitness_values \u001B[38;5;241m=\u001B[39m np\u001B[38;5;241m.\u001B[39marray([fitness(pop, costs, returns, budget) \u001B[38;5;28;01mfor\u001B[39;00m pop \u001B[38;5;129;01min\u001B[39;00m population])\n\u001B[0;32m     38\u001B[0m     \u001B[38;5;66;03m# select parents\u001B[39;00m\n\u001B[0;32m     39\u001B[0m     parents \u001B[38;5;241m=\u001B[39m population[np\u001B[38;5;241m.\u001B[39margsort(\u001B[38;5;241m-\u001B[39mfitness_values)[:\u001B[38;5;241m2\u001B[39m]]\n",
      "Cell \u001B[1;32mIn[1], line 36\u001B[0m, in \u001B[0;36m<listcomp>\u001B[1;34m(.0)\u001B[0m\n\u001B[0;32m     33\u001B[0m \u001B[38;5;66;03m# iterate over generations\u001B[39;00m\n\u001B[0;32m     34\u001B[0m \u001B[38;5;28;01mfor\u001B[39;00m gen \u001B[38;5;129;01min\u001B[39;00m \u001B[38;5;28mrange\u001B[39m(n_gen):\n\u001B[0;32m     35\u001B[0m     \u001B[38;5;66;03m# calculate fitness\u001B[39;00m\n\u001B[1;32m---> 36\u001B[0m     fitness_values \u001B[38;5;241m=\u001B[39m np\u001B[38;5;241m.\u001B[39marray([\u001B[43mfitness\u001B[49m\u001B[43m(\u001B[49m\u001B[43mpop\u001B[49m\u001B[43m,\u001B[49m\u001B[43m \u001B[49m\u001B[43mcosts\u001B[49m\u001B[43m,\u001B[49m\u001B[43m \u001B[49m\u001B[43mreturns\u001B[49m\u001B[43m,\u001B[49m\u001B[43m \u001B[49m\u001B[43mbudget\u001B[49m\u001B[43m)\u001B[49m \u001B[38;5;28;01mfor\u001B[39;00m pop \u001B[38;5;129;01min\u001B[39;00m population])\n\u001B[0;32m     38\u001B[0m     \u001B[38;5;66;03m# select parents\u001B[39;00m\n\u001B[0;32m     39\u001B[0m     parents \u001B[38;5;241m=\u001B[39m population[np\u001B[38;5;241m.\u001B[39margsort(\u001B[38;5;241m-\u001B[39mfitness_values)[:\u001B[38;5;241m2\u001B[39m]]\n",
      "Cell \u001B[1;32mIn[1], line 28\u001B[0m, in \u001B[0;36mfitness\u001B[1;34m(portfolio, costs, returns, budget)\u001B[0m\n\u001B[0;32m     26\u001B[0m     \u001B[38;5;28;01mreturn\u001B[39;00m \u001B[38;5;241m0\u001B[39m\n\u001B[0;32m     27\u001B[0m \u001B[38;5;28;01melse\u001B[39;00m:\n\u001B[1;32m---> 28\u001B[0m     \u001B[38;5;28;01mreturn\u001B[39;00m \u001B[43mnp\u001B[49m\u001B[38;5;241m.\u001B[39mdot(portfolio, returns)\n",
      "Cell \u001B[1;32mIn[1], line 28\u001B[0m, in \u001B[0;36mfitness\u001B[1;34m(portfolio, costs, returns, budget)\u001B[0m\n\u001B[0;32m     26\u001B[0m     \u001B[38;5;28;01mreturn\u001B[39;00m \u001B[38;5;241m0\u001B[39m\n\u001B[0;32m     27\u001B[0m \u001B[38;5;28;01melse\u001B[39;00m:\n\u001B[1;32m---> 28\u001B[0m     \u001B[38;5;28;01mreturn\u001B[39;00m \u001B[43mnp\u001B[49m\u001B[38;5;241m.\u001B[39mdot(portfolio, returns)\n",
      "File \u001B[1;32m_pydevd_bundle\\pydevd_cython_win32_310_64.pyx:1179\u001B[0m, in \u001B[0;36m_pydevd_bundle.pydevd_cython_win32_310_64.SafeCallWrapper.__call__\u001B[1;34m()\u001B[0m\n",
      "File \u001B[1;32m_pydevd_bundle\\pydevd_cython_win32_310_64.pyx:620\u001B[0m, in \u001B[0;36m_pydevd_bundle.pydevd_cython_win32_310_64.PyDBFrame.trace_dispatch\u001B[1;34m()\u001B[0m\n",
      "File \u001B[1;32m_pydevd_bundle\\pydevd_cython_win32_310_64.pyx:1095\u001B[0m, in \u001B[0;36m_pydevd_bundle.pydevd_cython_win32_310_64.PyDBFrame.trace_dispatch\u001B[1;34m()\u001B[0m\n",
      "File \u001B[1;32m_pydevd_bundle\\pydevd_cython_win32_310_64.pyx:1057\u001B[0m, in \u001B[0;36m_pydevd_bundle.pydevd_cython_win32_310_64.PyDBFrame.trace_dispatch\u001B[1;34m()\u001B[0m\n",
      "File \u001B[1;32m_pydevd_bundle\\pydevd_cython_win32_310_64.pyx:317\u001B[0m, in \u001B[0;36m_pydevd_bundle.pydevd_cython_win32_310_64.PyDBFrame.do_wait_suspend\u001B[1;34m()\u001B[0m\n",
      "File \u001B[1;32mC:\\Program Files\\JetBrains\\PyCharm 2023.2.5\\plugins\\python\\helpers\\pydev\\pydevd.py:1160\u001B[0m, in \u001B[0;36mPyDB.do_wait_suspend\u001B[1;34m(self, thread, frame, event, arg, send_suspend_message, is_unhandled_exception)\u001B[0m\n\u001B[0;32m   1157\u001B[0m         from_this_thread\u001B[38;5;241m.\u001B[39mappend(frame_id)\n\u001B[0;32m   1159\u001B[0m \u001B[38;5;28;01mwith\u001B[39;00m \u001B[38;5;28mself\u001B[39m\u001B[38;5;241m.\u001B[39m_threads_suspended_single_notification\u001B[38;5;241m.\u001B[39mnotify_thread_suspended(thread_id, stop_reason):\n\u001B[1;32m-> 1160\u001B[0m     \u001B[38;5;28;43mself\u001B[39;49m\u001B[38;5;241;43m.\u001B[39;49m\u001B[43m_do_wait_suspend\u001B[49m\u001B[43m(\u001B[49m\u001B[43mthread\u001B[49m\u001B[43m,\u001B[49m\u001B[43m \u001B[49m\u001B[43mframe\u001B[49m\u001B[43m,\u001B[49m\u001B[43m \u001B[49m\u001B[43mevent\u001B[49m\u001B[43m,\u001B[49m\u001B[43m \u001B[49m\u001B[43marg\u001B[49m\u001B[43m,\u001B[49m\u001B[43m \u001B[49m\u001B[43msuspend_type\u001B[49m\u001B[43m,\u001B[49m\u001B[43m \u001B[49m\u001B[43mfrom_this_thread\u001B[49m\u001B[43m)\u001B[49m\n",
      "File \u001B[1;32mC:\\Program Files\\JetBrains\\PyCharm 2023.2.5\\plugins\\python\\helpers\\pydev\\pydevd.py:1175\u001B[0m, in \u001B[0;36mPyDB._do_wait_suspend\u001B[1;34m(self, thread, frame, event, arg, suspend_type, from_this_thread)\u001B[0m\n\u001B[0;32m   1172\u001B[0m             \u001B[38;5;28mself\u001B[39m\u001B[38;5;241m.\u001B[39m_call_mpl_hook()\n\u001B[0;32m   1174\u001B[0m         \u001B[38;5;28mself\u001B[39m\u001B[38;5;241m.\u001B[39mprocess_internal_commands()\n\u001B[1;32m-> 1175\u001B[0m         \u001B[43mtime\u001B[49m\u001B[38;5;241;43m.\u001B[39;49m\u001B[43msleep\u001B[49m\u001B[43m(\u001B[49m\u001B[38;5;241;43m0.01\u001B[39;49m\u001B[43m)\u001B[49m\n\u001B[0;32m   1177\u001B[0m \u001B[38;5;28mself\u001B[39m\u001B[38;5;241m.\u001B[39mcancel_async_evaluation(get_current_thread_id(thread), \u001B[38;5;28mstr\u001B[39m(\u001B[38;5;28mid\u001B[39m(frame)))\n\u001B[0;32m   1179\u001B[0m \u001B[38;5;66;03m# process any stepping instructions\u001B[39;00m\n",
      "\u001B[1;31mKeyboardInterrupt\u001B[0m: "
     ]
    }
   ],
   "source": [
    "# Genetic algorithm\n",
    "import numpy as np\n",
    "import random\n",
    "\n",
    "# define costs\n",
    "costs = np.array([130, 150, 140, 120, 140, 130])\n",
    "\n",
    "# define returns\n",
    "returns = np.array([0.10, 0.15, 0.05, 0.07, 0.12, 0.09])\n",
    "\n",
    "# define budget\n",
    "budget = 500\n",
    "\n",
    "# define population size\n",
    "pop_size = 4\n",
    "\n",
    "# define number of generations\n",
    "n_gen = 100\n",
    "\n",
    "# define mutation rate\n",
    "mutation_rate = 0.1\n",
    "\n",
    "# define fitness function\n",
    "def fitness(portfolio, costs, returns, budget):\n",
    "    if np.dot(portfolio, costs) > budget:\n",
    "        return 0\n",
    "    else:\n",
    "        return np.dot(portfolio, returns)\n",
    "    \n",
    "# initialize population\n",
    "population = np.random.randint(2, size=(pop_size, 6))\n",
    "\n",
    "# iterate over generations\n",
    "for gen in range(n_gen):\n",
    "    # calculate fitness\n",
    "    fitness_values = np.array([fitness(pop, costs, returns, budget) for pop in population])\n",
    "    \n",
    "    # select parents\n",
    "    parents = population[np.argsort(-fitness_values)[:2]]\n",
    "    \n",
    "    # create children, first the parents \n",
    "    children = np.array([parents[0], parents[1]])\n",
    "    for i in range(6):\n",
    "        if random.random() < mutation_rate:\n",
    "            children[:, i] = 1 - children[:, i]\n",
    "    \n",
    "    # add children to population\n",
    "    population = np.vstack([population, children])\n",
    "    \n",
    "    # remove duplicates\n",
    "    population = np.unique(population, axis=0)\n",
    "    \n",
    "    # select the best population\n",
    "    fitness_values = np.array([fitness(pop, costs, returns, budget) for pop in population])\n",
    "    population = population[np.argsort(-fitness_values)[:pop_size]]\n",
    "\n",
    "# print the best portfolio\n",
    "print(population[0])"
   ],
   "metadata": {
    "collapsed": false,
    "ExecuteTime": {
     "end_time": "2024-03-01T15:08:05.212322200Z",
     "start_time": "2024-03-01T15:03:15.105507100Z"
    }
   },
   "id": "9489afde59e86bc2"
  },
  {
   "cell_type": "code",
   "execution_count": 9,
   "outputs": [],
   "source": [],
   "metadata": {
    "collapsed": false,
    "ExecuteTime": {
     "end_time": "2024-03-01T14:53:45.396380700Z",
     "start_time": "2024-03-01T14:53:45.383343500Z"
    }
   },
   "id": "670804e6796a8245"
  }
 ],
 "metadata": {
  "kernelspec": {
   "display_name": "Python 3",
   "language": "python",
   "name": "python3"
  },
  "language_info": {
   "codemirror_mode": {
    "name": "ipython",
    "version": 2
   },
   "file_extension": ".py",
   "mimetype": "text/x-python",
   "name": "python",
   "nbconvert_exporter": "python",
   "pygments_lexer": "ipython2",
   "version": "2.7.6"
  }
 },
 "nbformat": 4,
 "nbformat_minor": 5
}
