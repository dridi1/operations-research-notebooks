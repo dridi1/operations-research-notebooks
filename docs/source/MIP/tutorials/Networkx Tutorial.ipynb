{
 "cells": [
  {
   "cell_type": "markdown",
   "metadata": {
    "collapsed": true,
    "pycharm": {
     "name": "#%% md\n"
    }
   },
   "source": [
    "# Graph Theory Introduction\n",
    "\n",
    "{{ badges }}\n",
    "\n",
    "## Introduction\n",
    "This notebook provides an overview and tutorial of [Networkx](https://networkx.org/), a Python package to create, manipulate, and analyse graphs with an \n",
    "extensive set of algorithms to solve common graph theory problems. \n",
    "Basically, we will use networkx to build a network model of the network, and present some of the most important algorithms \n",
    "to solve the problems covered in the book, and finally we will see some nice add-ons and tools to draw networks and create \n",
    "networks from other data structures such as open maps!\n",
    "\n",
    "## Requirements\n",
    "\n",
    "You need to install Networkx in your Kernel, so make sure you run this script if not already installed. \n",
    "\n",
    "Note that the install line includes the *extra* option to install additional packages which are useful to work with \n",
    "Networkx."
   ]
  },
  {
   "cell_type": "code",
   "execution_count": null,
   "outputs": [],
   "source": [
    "!pip install networkx[default, extra]\n",
    "!pip install ipython"
   ],
   "metadata": {
    "collapsed": false,
    "pycharm": {
     "name": "#%%\n"
    }
   }
  },
  {
   "cell_type": "markdown",
   "source": [
    "## Use\n",
    "### Import\n",
    "We are going to import the package as *np* in this tutorial:"
   ],
   "metadata": {
    "collapsed": false
   }
  },
  {
   "cell_type": "code",
   "source": [
    "import networkx as nx"
   ],
   "metadata": {
    "collapsed": false,
    "pycharm": {
     "name": "#%% \n"
    }
   },
   "execution_count": null,
   "outputs": []
  },
  {
   "cell_type": "markdown",
   "source": [
    "### Creating networks\n",
    "We can create different types of graphs with the following constructor functions:\n",
    "\n",
    "- ```nx.Graph```: Creates an object representing an undirected graph.\n",
    "- ```nx.DiGraph```: Creates an object representing a directed Graph\n",
    "- ```nx.MultiGraph:``` Creates an object representing a with multiple edges between any pair of nodes\n",
    "- ```nx.MultiDiGrpah:``` Directed graph with multiple edges between any pair of nodes\n",
    "\n",
    "By default, graphs are created without nodes or edges. The simplest way to add edges and nodes is to use the class methods \n",
    " ```add_node``` and ```add_edge```. For instance:\n"
   ],
   "metadata": {
    "collapsed": false
   }
  },
  {
   "cell_type": "code",
   "execution_count": null,
   "outputs": [],
   "source": [
    "# Create an undirected graph\n",
    "my_first_Graph = nx.Graph()\n",
    "\n",
    "# Add and edge between nodes 1, 2. Automatically creates nodes 1 and 2\n",
    "my_first_Graph.add_edge(1, 2)\n",
    "\n",
    "# Add a third node\n",
    "my_first_Graph.add_node(3)"
   ],
   "metadata": {
    "collapsed": false,
    "pycharm": {
     "name": "#%%\n"
    }
   }
  },
  {
   "cell_type": "markdown",
   "source": [
    "We can show some of the properties of a graph, for instance, the list of nodes and edges: \n",
    " \n",
    "\n",
    "All graph classes allow any *hashable* object as nodes. \n",
    "\n",
    "\n",
    "\n",
    "\n"
   ],
   "metadata": {
    "collapsed": false
   }
  }
 ],
 "metadata": {
  "kernelspec": {
   "display_name": "Python 3",
   "language": "python",
   "name": "python3"
  },
  "language_info": {
   "codemirror_mode": {
    "name": "ipython",
    "version": 2
   },
   "file_extension": ".py",
   "mimetype": "text/x-python",
   "name": "python",
   "nbconvert_exporter": "python",
   "pygments_lexer": "ipython2",
   "version": "2.7.6"
  },
  "pycharm": {
   "stem_cell": {
    "cell_type": "raw",
    "source": [],
    "metadata": {
     "collapsed": false
    }
   }
  }
 },
 "nbformat": 4,
 "nbformat_minor": 0
}