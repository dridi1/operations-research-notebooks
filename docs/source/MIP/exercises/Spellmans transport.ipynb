{
 "cells": [
  {
   "cell_type": "markdown",
   "source": [
    "# Spellman's Distribution Network Optimization\n",
    "Spellman's would like Sabrina to focus on the optimization of their distribution network, to support the distribution of the 2 types of drinks from 3 sourcing facilities to 4 destination warehouses, through 6 intermediate warehouses. Sabrina needs to take into account the transportation costs (both from sourcing warehouses to intermediate warehouses and from intermediate warehouses to final destinations). Additionally, Sabrina can decide how many of the 6 intermediate solutions to use, given that they have a fixed operational cost that needs to be paid when the warehouse is used.\n",
    "\n",
    "The following tables contain the transportation problem data:\n",
    "\n",
    "### Capacities of Sourcing Facilities (in units)\n",
    "\n",
    "| Sourcing Warehouse | Product A Capacity (units) | Product B Capacity (units) |\n",
    "|--------------------|----------------------------|----------------------------|\n",
    "| S1                 | 300                        | 400                        |\n",
    "| S2                 | 250                        | 150                        |\n",
    "| S3                 | 350                        | 250                        |\n",
    "\n",
    "### Demands at Final Destinations (in units)\n",
    "\n",
    "| Destination Warehouse | Product A Demand (units) | Product B Demand (units) |\n",
    "|-----------------------|--------------------------|--------------------------|\n",
    "| D1                    | 150                      | 150                      |\n",
    "| D2                    | 200                      | 250                      |\n",
    "| D3                    | 175                      | 175                      |\n",
    "| D4                    | 225                      | 175                      |\n",
    "\n",
    "\n",
    "#### Sourcing to Intermediate Warehouses Transportation Costs (Euros)\n",
    "\n",
    "| From/To | I1 | I2 | I3 | I4 | I5 | I6 |\n",
    "|---------|----|----|----|----|----|----|\n",
    "| S1      | 2  | 4  | 5  | 7  | 3  | 6  |\n",
    "| S2      | 3  | 2  | 6  | 8  | 4  | 5  |\n",
    "| S3      | 1  | 3  | 4  | 6  | 5  | 7  |\n",
    "\n",
    "#### Intermediate to Destination Warehouses Transportation Costs (Euros)\n",
    "\n",
    "| From/To | D1 | D2 | D3 | D4 |\n",
    "|---------|----|----|----|----|\n",
    "| I1      | 5  | 2  | 3  | 4  |\n",
    "| I2      | 4  | 1  | 5  | 2  |\n",
    "| I3      | 3  | 4  | 2  | 5  |\n",
    "| I4      | 5  | 3  | 4  | 1  |\n",
    "| I5      | 2  | 5  | 3  | 4  |\n",
    "| I6      | 4  | 2  | 1  | 5  |\n",
    "\n",
    "### Operational Costs of Intermediate Warehouses (Euros)\n",
    "\n",
    "| Warehouse | Operational Cost |\n",
    "|-----------|------------------|\n",
    "| I1        | 1000             |\n",
    "| I2        | 800              |\n",
    "| I3        | 1200             |\n",
    "| I4        | 1100             |\n",
    "| I5        | 700              |\n",
    "| I6        | 900              |\n",
    "\n",
    "Note that the distribution costs are independent of the product type.\n",
    "\n",
    "1. Help Sabrina write an Integer Programming Problem to model the transportation problem .\n",
    "\n",
    "2. How would a Greedy algorithm solve the problem? Motivate your response\n"
   ],
   "metadata": {
    "collapsed": false
   }
  }
 ],
 "metadata": {
  "kernelspec": {
   "display_name": "Python 3",
   "language": "python",
   "name": "python3"
  },
  "language_info": {
   "codemirror_mode": {
    "name": "ipython",
    "version": 2
   },
   "file_extension": ".py",
   "mimetype": "text/x-python",
   "name": "python",
   "nbconvert_exporter": "python",
   "pygments_lexer": "ipython2",
   "version": "2.7.6"
  }
 },
 "nbformat": 4,
 "nbformat_minor": 0
}
