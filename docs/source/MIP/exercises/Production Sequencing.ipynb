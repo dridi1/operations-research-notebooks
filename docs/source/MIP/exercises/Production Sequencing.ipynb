{
 "cells": [
  {
   "cell_type": "markdown",
   "metadata": {
    "pycharm": {
     "name": "#%% md\n"
    }
   },
   "source": [
    "# Production Sequencing\n",
    "## Problem Definition\n",
    "A manufacturer of the metal sector in Stafford manufactures four types of products in sequence on two machines. \n",
    "The Table below provides the necessary technical production details.\n",
    "Taking into account only the data on the production times per product and the maximum daily production capacity of each machine, and taking a maximum daily production of 100 units of each product type, consider and solve a maximal flow model in a graph to determine the maximum number of minutes during which machines 1 and 2 can operate on a production-in-sequence basis given the existing capacity constraints.\n",
    "\n",
    "| Machine | Product 1 | Product 2 | Product 3 | Product 4 | Daily Production Capacity (minutes) |\n",
    "|---------|-----------|-----------|-----------|-----------|-------------------------------------|\n",
    "| 1       | 2         | 3         | 4         | 2         | 500                                 |\n",
    "| 2       | 3         | 2         | 1         | 2         | 380                                 |"
   ]
  },
  {
   "cell_type": "markdown",
   "metadata": {
    "pycharm": {
     "name": "#%% md\n"
    }
   },
   "source": []
  }
 ],
 "metadata": {
  "kernelspec": {
   "display_name": "Python 3",
   "language": "python",
   "name": "python3"
  },
  "language_info": {
   "codemirror_mode": {
    "name": "ipython",
    "version": 3
   },
   "file_extension": ".py",
   "mimetype": "text/x-python",
   "name": "python",
   "nbconvert_exporter": "python",
   "pygments_lexer": "ipython3",
   "version": "3.7.0"
  },
  "pycharm": {
   "stem_cell": {
    "cell_type": "raw",
    "source": [],
    "metadata": {
     "collapsed": false
    }
   }
  }
 },
 "nbformat": 4,
 "nbformat_minor": 2
}