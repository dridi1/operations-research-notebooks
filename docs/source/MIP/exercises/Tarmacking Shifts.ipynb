{
 "cells": [
  {
   "cell_type": "markdown",
   "metadata": {},
   "source": [
    "# Tarmacking Shifts\n",
    "The firm MMM has obtained a contract to tarmac the streets in the centre of Exeter. The Department of Traffic Engineering and Planning estimated that at least the number of employees indicated in the table below are required for each 4-h interval\n",
    "over a standard 24-h period.\n",
    "All of MMM’s members of staff work 8-h ongoing shifts. There are six feasible shifts which begin on the starting hour of the 4-h intervales indicated in the table. All the members of staff are paid the same salary per hour, except those working between\n",
    "20:00 h and 00:00 h, who receive a 50 % increase. Moreover, the salary per hour is 100 % higher between 00:00 h and 06:00 h.\n",
    "\n",
    "| Time period  | Required Personnel |\n",
    "|--------------|--------------------|\n",
    "| 06–10        | 70                 |\n",
    "| 10–14        | 20                 |\n",
    "| 14–18        | 80                 |\n",
    "| 18–22        | 30                 |\n",
    "| 22–02        | 10                 |\n",
    "| 02–06        | 10                 |\n",
    "\n",
    "**a)** Consider a linear programming model that can determine how many employees are required in all six shifts in order to minimise the cost of MMM’s salaries to meet the personnel requirements.\n",
    "\n",
    "**b)** The temporary work ETS firm offers the members of staff more flexible working hours, with 4-h shifts beginning on the hour at the start of all the 4-h periods in the table. The cost of using ETS’ staff is the same at all the times considered, but is 80 % higher than the daily cost of MMM’s members of staff for each shift. MMM wishes to know if there would be any profit made if ETS was used. Amend the former model to determine the optimum mix of using MMM’s and ETS’ staff in order to minimise the costs incurred to MMM through salaries and to meet the personnel requirements."
   ]
  }
 ],
 "metadata": {
  "kernelspec": {
   "display_name": "Python 3",
   "language": "python",
   "name": "python3"
  },
  "language_info": {
   "codemirror_mode": {
    "name": "ipython",
    "version": 3
   },
   "file_extension": ".py",
   "mimetype": "text/x-python",
   "name": "python",
   "nbconvert_exporter": "python",
   "pygments_lexer": "ipython3",
   "version": "3.7.3"
  }
 },
 "nbformat": 4,
 "nbformat_minor": 2
}
