{
 "cells": [
  {
   "cell_type": "markdown",
   "metadata": {
    "pycharm": {
     "name": "#%% md\n"
    }
   },
   "source": [
    "# Transport Planning\n",
    "A firm must transport machines from production plants A, B and C to warehouses X, Y and Z. Five machines are required in X, 4 in Y and 3 in Z, whereas 8 machines are available in A, 5 in B and 3 in C. The transport costs (in euros) between sites\n",
    "are provided in the table below.\n",
    "\n",
    "| Plant/Warehouse | X  | Y  | Z  |\n",
    "|-----------------|----|----|----|\n",
    "| A               | 50 | 60 | 30 |\n",
    "| B               | 60 | 40 | 20 |\n",
    "| C               | 40 | 70 | 30 |\n",
    "\n",
    "**a)** Formulate an integer linear programming model that minimizes transport costs.\n",
    "\n",
    "**b)** Assume that the cost of transporting a machine from plant B increases by €10 for all the machines as of the third one; that is, the 4th, the 5th, etc. Reformulate the model in Section a) by considering this assumption."
   ]
  }
 ],
 "metadata": {
  "kernelspec": {
   "display_name": "Python 3",
   "language": "python",
   "name": "python3"
  },
  "language_info": {
   "codemirror_mode": {
    "name": "ipython",
    "version": 3
   },
   "file_extension": ".py",
   "mimetype": "text/x-python",
   "name": "python",
   "nbconvert_exporter": "python",
   "pygments_lexer": "ipython3",
   "version": "3.7.0"
  }
 },
 "nbformat": 4,
 "nbformat_minor": 2
}