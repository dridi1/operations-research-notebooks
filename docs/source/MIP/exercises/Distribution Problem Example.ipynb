{
 "cells": [
  {
   "cell_type": "markdown",
   "metadata": {},
   "source": [
    "# Distribution of pharma\n",
    "## Problem Definition\n",
    "The US Department of Energy conducts a series of experiments in two research facilities located in Hawkins (Atlanta) and Los Angeles. The department needs to supply these facilities with pharma products that are processed in two factories in Portland and Flint. The delivery costs are summarised in the following table: \n",
    "\n",
    "| Production plants    | Research Facilities | Delivery costs |\n",
    "|----------------------|---------------------|----------------|\n",
    "| Portland             | Los Angeles         |€30            |\n",
    "| Portland             | Hawkins             | €40            |\n",
    "| Flint                | Los Angeles         | €60            |\n",
    "| Flint                | Hawkins             | €50            |\n",
    "\n",
    "The supply and demand data is provided in the table below: \n",
    "\n",
    "| Supply    | Available units | Demand      | Required units |\n",
    "|-----------|-----------------|-------------|----------------|\n",
    "| Portland  | 200             | Los Angeles | 300            |\n",
    "| Flint     | 600             | Hawkins     | 400            |\n",
    "\n",
    "**Implement an MILP that determines how to supply the two research facilities at minimum cost.**\n"
   ]
  },
  {
   "cell_type": "code",
   "execution_count": null,
   "metadata": {},
   "outputs": [],
   "source": []
  }
 ],
 "metadata": {
  "kernelspec": {
   "display_name": "Python 3",
   "language": "python",
   "name": "python3"
  },
  "language_info": {
   "codemirror_mode": {
    "name": "ipython",
    "version": 3
   },
   "file_extension": ".py",
   "mimetype": "text/x-python",
   "name": "python",
   "nbconvert_exporter": "python",
   "pygments_lexer": "ipython3",
   "version": "3.7.0"
  }
 },
 "nbformat": 4,
 "nbformat_minor": 2
}
