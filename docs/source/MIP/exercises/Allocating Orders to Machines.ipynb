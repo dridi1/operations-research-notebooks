{
 "cells": [
  {
   "cell_type": "markdown",
   "metadata": {},
   "source": [
    "# Production Orders\n",
    "## Problem Definition\n",
    "The firm H.G. Welds, dedicated to welding components for the automotive sector, has received five orders (P1, P2, P3, P4, P5), which have to be carried out. To meet these orders, the company has five welding machines available (M1, M2, M3, M4,M5). Each machine can carry out every task at the cost shown in the table below. The problem consists in determining optimum allocation which minimises the total cost of carrying out orders by assuming that each machine can do only one order and that all the orders must be carried out.\n",
    "\n",
    "| Order/Machine | M1 | M2 | M3 | M4 | M5 |\n",
    "|---------------|----|----|----|----|----|\n",
    "| P1            | 16 | 4  | 9  | 5  | 6  |\n",
    "| P2            | 2  | 14 | 7  | 5  | 13 |\n",
    "| P3            | 8  | 10 | 3  | 12 | 11 |\n",
    "| P4            | 3  | 7  | 6  | 10 | 5  |\n",
    "| P5            | 3  | 6  | 8  | 11 | 7  |\n",
    "\n",
    "**Formulate an integer linear programming model to determine the optimum allocation plan.**\n",
    "**Assume that processing each order on each machine requires an average preparation cost of 10 units. How is the model in the former sector amended?**\n"
   ]
  },
  {
   "cell_type": "code",
   "execution_count": null,
   "metadata": {},
   "outputs": [],
   "source": []
  }
 ],
 "metadata": {
  "kernelspec": {
   "display_name": "Python 3",
   "language": "python",
   "name": "python3"
  },
  "language_info": {
   "codemirror_mode": {
    "name": "ipython",
    "version": 3
   },
   "file_extension": ".py",
   "mimetype": "text/x-python",
   "name": "python",
   "nbconvert_exporter": "python",
   "pygments_lexer": "ipython3",
   "version": "3.7.4"
  }
 },
 "nbformat": 4,
 "nbformat_minor": 2
}
