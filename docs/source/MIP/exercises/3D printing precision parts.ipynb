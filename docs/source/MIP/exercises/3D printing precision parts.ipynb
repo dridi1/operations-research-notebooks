{
 "cells": [
  {
   "cell_type": "markdown",
   "source": [
    "# 3D Printing Precision Parts\n",
    "## Poblem Definition\n",
    "You work for a company that manufactures high quality polymer parts for OrgoCorp, a galactic bioengineering company. The quality requirements are so high that you need to use very sophisticated 3D printing machines. You need to develop a mathematical programming model to organize monthly production considering:\n",
    "- **Fixed operational costs (euros):** Each 3D printing machine $m$ has a different fixed operational costs $Fm$ that needs to be considered when a printing machine is used to print any units.\n",
    "- **Unitary production costs (euros):** Each 3D printing machine $m$ produces parts of product type $p$ at a different unitary costs $C_{mp}$\n",
    "- **Capacity (minutes)**: Each 3D printing machine $m$ has a different capacity $S_m$ (minutes)\n",
    "- **Speed (minutes/part)**: Each 3D printing machine $m$ prints a unit of product type $p$ at a different unitary speed\n",
    "- **Demand (units)**: OrgoCorp has confirmed a demand for $d_p$ units of every product type $p$\n",
    "Build a model that takes into account these requirements, identifying indices, decision variables, objective function and constraints.\n",
    "\n",
    "The CEO of OrgoCorp, The High Evolutionary, would like to set up a new contract allowing more flexibility in the delivery of units, such that:\n",
    "- **Demand per period (units)**: Now you need to consider that the demand for every product type $p$ is not constant and depends on the planning period $t$, $D_{pt}$\n",
    "- **Delayed demand (units)**: You may delay the production for one period. For every unit of product type $p$ that is delayed, OrgoCorp will charge an extra delayed demand cost of $B_{pt}$\n",
    "Modify the model to take into account this new contract"
   ],
   "metadata": {
    "collapsed": false
   }
  }
 ],
 "metadata": {
  "kernelspec": {
   "display_name": "Python 3",
   "language": "python",
   "name": "python3"
  },
  "language_info": {
   "codemirror_mode": {
    "name": "ipython",
    "version": 2
   },
   "file_extension": ".py",
   "mimetype": "text/x-python",
   "name": "python",
   "nbconvert_exporter": "python",
   "pygments_lexer": "ipython2",
   "version": "2.7.6"
  }
 },
 "nbformat": 4,
 "nbformat_minor": 0
}
