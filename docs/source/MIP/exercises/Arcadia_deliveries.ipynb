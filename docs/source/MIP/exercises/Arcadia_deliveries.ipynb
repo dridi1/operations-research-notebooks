{
 "nbformat": 4,
 "nbformat_minor": 0,
 "metadata": {
  "colab": {
   "name": "Arcadia deliveries.ipynb",
   "provenance": [],
   "authorship_tag": "ABX9TyMBjD2eZdN3iXnRzoSpqrlU",
   "include_colab_link": true
  },
  "kernelspec": {
   "name": "python3",
   "display_name": "Python 3"
  },
  "language_info": {
   "name": "python"
  },
  "pycharm": {
   "stem_cell": {
    "cell_type": "raw",
    "source": [],
    "metadata": {
     "collapsed": false
    }
   }
  }
 },
 "cells": [
  {
   "cell_type": "markdown",
   "source": [
    "# Arcadia deliveries\n",
    "## Problem definition\n",
    "Arcadia Deliveries wants to determine the best location for their warehouses to supply the different retail regions of their best customer.\n",
    "There are 5 possible warehouse locations and 10 different retail regions.\n",
    "The following table shows the capacity and operation costs of the possible warehouse locations:\n",
    "\n",
    "| Data            | warehouse 1 | warehouse 2 | warehouse 3 | warehouse 4 | warehouse 5 |\n",
    "| --------------- | ----------- | ----------- | ----------- | ----------- | ----------- |\n",
    "| capacity        | 1000        | 2000        | 3000        | 4000        | 5000        |\n",
    "| Operation costs | 50          | 60          | 70          | 80          | 90          |\n",
    "\n",
    "The following table contains the demand at each region:\n",
    "\n",
    "| Region   | Demand |\n",
    "| -------- | ------ |\n",
    "| Region 1 | 100    |\n",
    "| Region 2 | 200    |\n",
    "| Region 3 | 300    |\n",
    "| Region 4 | 400    |\n",
    "| Region 5 | 500    |\n",
    "| Region 6 | 600    |\n",
    "| Region 7 | 700    |\n",
    "| Region 8 | 800    |\n",
    "| Region 9 | 900    |\n",
    "\n",
    "And the following cost contains the transportation costs from warehouses to regions:\n",
    "\n",
    "| Region | Warehouse 1 | Warehouse 2 | Warehouse 3 | Warehouse 4 | Warehouse 5 |\n",
    "| ------ | ----------- | ----------- | ----------- | ----------- | ----------- |\n",
    "| 1 | 42 | 36 | 58 | 47 | 32 |\n",
    "| 2 | 73 | 56 | 73 | 78 | 38 |\n",
    "| 3 | 38 | 41 | 80 | 88 | 69 |\n",
    "| 4 | 59 | 70 | 77 | 94 | 51 |\n",
    "| 5 | 51 | 92 | 79 | 88 | 80 |\n",
    "| 6 | 38 | 98 | 57 | 64 | 96 |\n",
    "| 7 | 86 | 53 | 86 | 58 | 44 |\n",
    "| 8 | 48 | 92 | 40 | 100 | 71 |\n",
    "| 9 | 62 | 60 | 30 | 31 | 63 |\n",
    "| 10 | 43 | 43 | 48 | 63 | 55 |\n",
    "\n",
    "Find the optimal location for warehouses and determine which warehouses are going to deliver to every retail location, knowing that the customer requires that a region is supplied from only one source\n",
    "\n"
   ],
   "metadata": {
    "id": "IvMfG6hMKOIa"
   }
  },
  {
   "cell_type": "code",
   "execution_count": null,
   "metadata": {
    "id": "VIEijyfdKNIX"
   },
   "outputs": [],
   "source": [
    ""
   ]
  }
 ]
}