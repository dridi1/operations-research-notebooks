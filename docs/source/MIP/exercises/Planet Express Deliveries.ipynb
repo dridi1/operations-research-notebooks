{
 "nbformat": 4,
 "nbformat_minor": 0,
 "metadata": {
  "colab": {
   "name": "Second Partial (Solved).ipynb",
   "provenance": [],
   "toc_visible": true
  },
  "kernelspec": {
   "name": "python3",
   "display_name": "Python 3"
  },
  "language_info": {
   "name": "python"
  },
  "pycharm": {
   "stem_cell": {
    "cell_type": "raw",
    "source": [],
    "metadata": {
     "collapsed": false
    }
   }
  }
 },
 "cells": [
  {
   "cell_type": "markdown",
   "metadata": {
    "id": "f5X9iaV2tFbX",
    "pycharm": {
     "name": "#%% md\n"
    }
   },
   "source": [
    "# Planet Express Deliveries\n",
    "## Problem definition\n",
    "Planet Express deliveries wants to optimize their transportation network from a set of source warehouses to a set of destinations. In particular, they want to minimize the transportation costs through a set of intermediate warehouses, so that items are transported from the source warehouses, through the intermediate warehouses, to the destination regions.\n",
    "\n",
    "Let us first consider that transportation costs per item from the source warehouse $i$ to intermediate warehouse $j$ as $s_{ij}$ and that the transportation costs per item from intermediate warehouse $j$ to destination region $k$ is $t_{jk}$. Let us note the capacity of source warehouses as $cs_{i}$ items, the capacity of intermediate warehouses $j$ as $ci_j$ items, and the demand for region $k$ as $d_k$ items. Let us also consider that $m$ is the number of source warehouses, $n$ is the number of intermediate warehouses and $p$ is the number of destination regions.\n",
    "\n",
    "**a** Consider that m = p = 3 and n = 5 and draw a network to solve the transportation problem as a maximal flow at minimum cost problem. "
   ]
  },
  {
   "cell_type": "markdown",
   "metadata": {
    "id": "XaOurAD9ZAQx",
    "pycharm": {
     "name": "#%% md\n"
    }
   },
   "source": [
    "**b** Model the problem as a Mixed Integer Programming (MIP), not taking into account the values of m,p, and n defined in the previous section"
   ]
  },
  {
   "cell_type": "markdown",
   "metadata": {
    "id": "E6vJoHHCZjeI",
    "pycharm": {
     "name": "#%% md\n"
    }
   },
   "source": [
    "**c** Planet Express is now considering the use of warehouses from an external provider. The provider of the service has a total of $n_e$ external warehouses. They offer a fixed cost $F_l$ when an external warehouse $l$ is used, plus a cost per item received and processed in warehouse $l$, $r_l$. External warehouse $l$ has a capacity of $ce_l$ items. Modify your model to incorporate this offer into your distribution network. \n",
    "\n",
    "\n"
   ]
  }
 ]
}