{
 "cells": [
  {
   "cell_type": "markdown",
   "metadata": {
    "pycharm": {
     "name": "#%% md\n"
    }
   },
   "source": [
    "# Strategies in temptation island\n",
    "## Problem definition\n",
    "You are working as a consultant for the TV show temptation Island (Spanish edition). \n",
    "Production management states that, worldwide, the audience of the show greatly increases with the number of singles that seduce the female member of the participant couples. \n",
    "A team of psycologists have estimated the compatibility between the females of the participant couples and the male singles in the show:\n",
    "\n",
    "|        | Ruben | Lewis | Oscar | Antonio | Bryan |\n",
    "|--------|-------|-------|-------|---------|-------|\n",
    "| Fianna | 0     | 0.55  | 0     | 0       | 0     |\n",
    "| Andrea | 0.56  | 0     | 0     | 0       | 0     |\n",
    "| Delina | .60   | 0.60  | 0     | 0       | 0     |\n",
    "| Fani   | 0.80  | 0.50  | 0     | 0       | 0.6   |\n",
    "| Susana | 0     | 0     | 0.7   | 0.6     | 0.5   |\n",
    "\n",
    "**a.** Draw a Network Graph to find the optimal strategy for singles where each single focuses on seducing a participant, while at the same time the overall compatibility across all participants is maximised. Briefly describe the resulting graph using network theory definitions."
   ]
  }
 ],
 "metadata": {
  "kernelspec": {
   "display_name": "Python 3",
   "language": "python",
   "name": "python3"
  },
  "language_info": {
   "codemirror_mode": {
    "name": "ipython",
    "version": 3
   },
   "file_extension": ".py",
   "mimetype": "text/x-python",
   "name": "python",
   "nbconvert_exporter": "python",
   "pygments_lexer": "ipython3",
   "version": "3.7.4"
  },
  "pycharm": {
   "stem_cell": {
    "cell_type": "raw",
    "source": [],
    "metadata": {
     "collapsed": false
    }
   }
  }
 },
 "nbformat": 4,
 "nbformat_minor": 2
}