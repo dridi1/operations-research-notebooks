{
 "cells": [
  {
   "cell_type": "markdown",
   "metadata": {
    "collapsed": true,
    "pycharm": {
     "name": "#%% md\n"
    }
   },
   "source": [
    "# Problem definition\n",
    "4 Trucks are available to deliver gas to 5 gas stations. \n",
    "Each truck has a different capacity and if the company decides to use it to supply to any gas stations, the cost can be modeled by a constant operating cost. The capacity and daily operating costs of each truck are shown in the table below.\n",
    "\n",
    "|         | Capacity (Liters) | Daily Operating Costs |\n",
    "|---------|-------------------|-----------------------|\n",
    "| Truck 1 | 4000              | 45                    |\n",
    "| Truck 2 | 5000              | 50                    |\n",
    "| Truck 3 | 6000              | 55                    |\n",
    "| Truck 4 | 11000             | 60                    |\n",
    "\n",
    "Each gas station can be supplied only by one truck, but a track may deliver to more than one gas station. The daily demands of each gas station are shown in the table below.\n",
    "\n",
    "|           | Daily Demand (liters) |\n",
    "|-----------|-----------------------|\n",
    "| Station 1 | 1000                  |\n",
    "| Station 2 | 2000                  |\n",
    "| Station 3 | 3000                  |\n",
    "| Station 4 | 5000                  |\n",
    "| Station 5 | 8000                  |\n",
    "\n",
    "Formulate an Integer Program Problem that can be used to minimise the distribution costs of the logistics operations needed to satisfy the demand of the five stations.\n",
    "\n",
    "\n",
    "\n",
    "\n"
   ]
  },
  {
   "cell_type": "markdown",
   "metadata": {},
   "source": []
  },
  {
   "cell_type": "code",
   "execution_count": null,
   "metadata": {},
   "outputs": [],
   "source": []
  }
 ],
 "metadata": {
  "kernelspec": {
   "display_name": "Python 3",
   "language": "python",
   "name": "python3"
  },
  "language_info": {
   "codemirror_mode": {
    "name": "ipython",
    "version": 3
   },
   "file_extension": ".py",
   "mimetype": "text/x-python",
   "name": "python",
   "nbconvert_exporter": "python",
   "pygments_lexer": "ipython3",
   "version": "3.7.4"
  },
  "pycharm": {
   "stem_cell": {
    "cell_type": "raw",
    "source": [],
    "metadata": {
     "collapsed": false
    }
   }
  }
 },
 "nbformat": 4,
 "nbformat_minor": 1
}