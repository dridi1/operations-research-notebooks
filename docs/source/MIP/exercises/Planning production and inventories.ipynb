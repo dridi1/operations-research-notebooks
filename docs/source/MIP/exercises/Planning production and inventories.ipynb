{
 "cells": [
  {
   "cell_type": "markdown",
   "metadata": {},
   "source": [
    "# Planning Production and Inventories\n",
    "Consider the production of a single product in a planning horizon in T periods. If\n",
    "production during a given period $t (t = 1 ,. . ., T)$ is decided, a fixed cost $cf_{t}$ is\n",
    "incurred. Any excess products manufactured during early periods can be stored to\n",
    "meet the demand for later periods. Besides, all the demand must be met during\n",
    "each period. Production capacity constraints are not considered.\n",
    "\n",
    "As t = 1,.., T:\n",
    "- $d_{t}$ is the demand for this product during each period,\n",
    "- $cp_{t}$ are the cost profits of production during each period, and\n",
    "- $ca_{t}$ are the cost profits of storage during each period.\n",
    "\n",
    "*a)* Formulate an integer linear programming model which minimizes the total\n",
    "costs of production, storage and fixed costs\n",
    "\n",
    "*b)* Assume that delays in deliveries have a cost $crd_{t}$ per demand\n",
    "unit not delivered on time during each period. However, all the demand must\n",
    "be met during the last period T, or in other words, a delay in the demand during\n",
    "period T must be null. Amend the model in the former section to contemplate\n",
    "this option.\n",
    "\n",
    "*c)* Assume that production can take place in a maximum of five periods, although\n",
    "these periods cannot occur consecutively. Amend the model in the former\n",
    "section to contemplate this option."
   ]
  },
  {
   "cell_type": "code",
   "execution_count": null,
   "metadata": {},
   "outputs": [],
   "source": []
  }
 ],
 "metadata": {
  "kernelspec": {
   "display_name": "Python 3",
   "language": "python",
   "name": "python3"
  },
  "language_info": {
   "codemirror_mode": {
    "name": "ipython",
    "version": 3
   },
   "file_extension": ".py",
   "mimetype": "text/x-python",
   "name": "python",
   "nbconvert_exporter": "python",
   "pygments_lexer": "ipython3",
   "version": "3.7.4"
  }
 },
 "nbformat": 4,
 "nbformat_minor": 2
}
