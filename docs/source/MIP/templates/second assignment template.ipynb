{
 "cells": [
  {
   "cell_type": "markdown",
   "source": [
    "# [Title]\n",
    "(Provide here a title for your problem)\n",
    "## Authors\n",
    "(Provide here your group identification and the names of the group members)\n",
    "\n",
    "{{ badges }}\n",
    "\n",
    "# Useful tutorials\n",
    "- [Working with Markdown](https://operations-research.readthedocs.io/en/latest/Introduction/libraries/Working%20With%20Markdown%20Cells.html): Explains how to use Markdown in your problem description\n",
    "- [MIP in Python](https://or.engineeringcodehub.com/en/latest/MIP/tutorials/MIP%20in%20Python%20using%20PuLP.html): Explains how to use PuLP to solve MIP problems\n",
    "- [Transportation Problems](https://or.engineeringcodehub.com/en/latest/MIP/tutorials/Transportation%20Problem.html): Explains how to model transportation problems\n",
    "- [Transportation Problem example)(https://or.engineeringcodehub.com/en/latest/MIP/tutorials/Transportation%20Problems%20in%20Python.html): One transportation problem example.\n",
    "\n",
    " > ☝ Note to students: Remove this cell when you are done with your assignment\n"
   ],
   "metadata": {
    "collapsed": false
   }
  },
  {
   "cell_type": "markdown",
   "source": [
    "## Introduction\n",
    "\n",
    "(Describe the specific transportation problem you want to model. Preferably, it should address a last mile transportation problem. Aim for at least 1000 characters.)\n",
    "\n",
    "## Mathematical Model\n",
    "\n",
    "(Model the problem using mathematical notation. Use symbols and equations to describe the problem. Use Latex notation to format your equations)\n",
    "\n",
    "### Sets and Indices\n",
    "(Present the sets and indices you will use in your model.)\n",
    "\n",
    "### Decision Variables\n",
    "(Present the decision variables you will use in your model. Make sure you clearly indicate types (continuous, integer, binary), bounds, and units of measurement.)\n",
    "\n",
    "### Objective Function\n",
    "(Describe the objective function, including what you're trying to maximize or minimize. Present the mathematical representation of the objective function.)\n",
    "\n",
    "### Constraints\n",
    "\n",
    "(List here the constraints).\n"
   ],
   "metadata": {
    "collapsed": false
   }
  },
  {
   "cell_type": "markdown",
   "source": [
    "## Data\n",
    "\n",
    "(Describe the data you will need to solve the problem, and how could you obtain it)\n",
    "(Use sample data to illustrate the model, the size of the sample data should be sufficient to be representative and useful to run the model you need to provide in the next section). You can provide the data in a table file format like Excel, CSV, etc, and use Pandas to read the data in your model and display it."
   ],
   "metadata": {
    "collapsed": false
   }
  },
  {
   "cell_type": "code",
   "execution_count": null,
   "outputs": [],
   "source": [
    "# Import Pandas\n",
    "import pandas as pd\n",
    "from IPython.display import display\n",
    "\n",
    "# Read or create the data\n",
    "\n",
    "# Display the data"
   ],
   "metadata": {
    "collapsed": false
   }
  },
  {
   "cell_type": "markdown",
   "source": [
    "## Model implementation in Python\n",
    "(Use the following skeleton to implement your model in Python using PuLP)"
   ],
   "metadata": {
    "collapsed": false
   }
  },
  {
   "cell_type": "code",
   "execution_count": null,
   "outputs": [],
   "source": [
    "# Import PuLP modeler functions\n",
    "\n",
    "# Create the model\n",
    "# Use LpMinimize to define the optimization problem as a minimization problem\n",
    "# e.g. m = pulp.LpProblem(\"ProblemName\", pulp.LpMinimize)\n",
    "\n",
    "# Define sets and indices\n",
    "#e.g. I = [1,2,3], J = [1,2,3]\n",
    "\n",
    "# Define the decision variables\n",
    "# Use LpVariable.dicts to create a dictionary of decision variables\n",
    "# e.g.x = pulp.LpVariable.dicts(\"x\", [(i,j) for i in I for j in J], cat=pulp.LpBinary)\n",
    "\n",
    "\n",
    "# Define the objective function, use the coefficients from your sample dataset\n",
    "\n",
    "\n",
    "# Add the constraints to the model\n",
    "\n",
    "\n",
    "# Solve the optimization problem\n",
    "\n",
    "\n",
    "# Put the solution in a DataFrame for easier visualization\n",
    "\n",
    "\n",
    "# Display the solution\n",
    "\n",
    "\n",
    "\n",
    "\n"
   ],
   "metadata": {
    "collapsed": false
   }
  },
  {
   "cell_type": "markdown",
   "source": [
    "## References"
   ],
   "metadata": {
    "collapsed": false
   }
  }
 ],
 "metadata": {
  "kernelspec": {
   "display_name": "Python 3",
   "language": "python",
   "name": "python3"
  },
  "language_info": {
   "codemirror_mode": {
    "name": "ipython",
    "version": 2
   },
   "file_extension": ".py",
   "mimetype": "text/x-python",
   "name": "python",
   "nbconvert_exporter": "python",
   "pygments_lexer": "ipython2",
   "version": "2.7.6"
  }
 },
 "nbformat": 4,
 "nbformat_minor": 0
}
