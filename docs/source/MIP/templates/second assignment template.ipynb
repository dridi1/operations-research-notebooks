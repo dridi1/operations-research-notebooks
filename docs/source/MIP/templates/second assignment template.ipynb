{
 "cells": [
  {
   "cell_type": "markdown",
   "source": [
    "# [Title]\n",
    "(Provide here a title for your problem)\n",
    "## Authors\n",
    "(Provide here your group identification and the names of the group members)\n",
    "\n",
    "## Try me\n",
    "[![Open In Colab](../../_static/colabs_badge.png)](https://colab.research.google.com/github/ffraile/operations-research-notebooks/blob/main/docs/source/MIP/templates/second%20assignment%20template.ipynb)[![Binder](../../_static/binder_badge.png)](https://mybinder.org/v2/gh/ffraile/operations-research-notebooks/main?labpath=docs%2Fsource%2FMIP%2Ftemplates%2Fsecond%20assignment%20template.ipynb)\n",
    "\n",
    "# Useful tutorials\n",
    "- [Working with Markdown](https://operations-research.readthedocs.io/en/latest/Introduction/libraries/Working%20With%20Markdown%20Cells.html): Explains how to use Markdown in your problem description\n",
    "- [MIP in Python](https://or.engineeringcodehub.com/en/latest/MIP/tutorials/MIP%20in%20Python%20using%20PuLP.html): Explains how to use PuLP to solve MIP problems\n",
    "- [Transportation Problems](https://or.engineeringcodehub.com/en/latest/MIP/tutorials/Transportation%20Problem.html): Explains how to model transportation problems\n",
    "- [Transportation Problem example](https://or.engineeringcodehub.com/en/latest/MIP/tutorials/Transportation%20Problems%20in%20Python.html): One transportation problem example.\n",
    "- [Routing](https://or.engineeringcodehub.com/en/latest/MIP/tutorials/Routing%20example.html): Explains how to calculate shortest paths and distances using Python\n",
    "\n",
    " > ☝ Note to students: Remove this cell when you are done with your assignment\n"
   ],
   "metadata": {
    "collapsed": false
   }
  },
  {
   "cell_type": "markdown",
   "source": [
    "## Introduction\n",
    "\n",
    "(Describe the specific transportation problem you want to model. Preferably, it should address a last mile transportation problem (focused on a city or a neighbourhood). Aim for at least 1000 characters.)\n",
    "\n",
    "## Mathematical Model\n",
    "\n",
    "(Model the problem using mathematical notation. Use symbols and equations to describe the problem. Use Latex notation to format your equations)\n",
    "\n",
    "### Sets and Indices\n",
    "(Present the sets and indices you will use in your model.)\n",
    "\n",
    "### Decision Variables\n",
    "(Present the decision variables you will use in your model. Make sure you clearly indicate types (continuous, integer, binary), bounds, and units of measurement.)\n",
    "\n",
    "### Objective Function\n",
    "(Describe the objective function, including what you're trying to maximize or minimize. Present the mathematical representation of the objective function.)\n",
    "\n",
    "### Constraints\n",
    "\n",
    "(List here the constraints).\n"
   ],
   "metadata": {
    "collapsed": false
   }
  },
  {
   "cell_type": "markdown",
   "source": [
    "## Data\n",
    "\n",
    "(Describe the data you will need to solve the problem, and how could you obtain it) (How would you obtain the coefficients of your objective function and LHS and RHS of your constraints?) (This section should describe how to obtain all data except distances. You will start with a simple estimation of distances, and you will use the last part of the assignment to update the calculation using open street maps).\n",
    "(Use sample data to illustrate the model, the size of the sample data should be sufficient to be representative and useful to run the model you need to provide in the next section). You can provide the data in a table file format like Excel, CSV, etc, and use Pandas to read the data in your model and display it."
   ],
   "metadata": {
    "collapsed": false
   }
  },
  {
   "cell_type": "code",
   "execution_count": null,
   "outputs": [],
   "source": [
    "# Import Pandas\n",
    "import pandas as pd\n",
    "from IPython.display import display\n",
    "\n",
    "# Read or create the data\n",
    "\n",
    "# Display the data"
   ],
   "metadata": {
    "collapsed": false
   }
  },
  {
   "cell_type": "markdown",
   "source": [
    "## Model implementation in Python\n",
    "### Requirements\n",
    "\n",
    "Use this cell to install PuLP and other libraries you need to run your model."
   ],
   "metadata": {
    "collapsed": false
   }
  },
  {
   "cell_type": "code",
   "execution_count": null,
   "outputs": [],
   "source": [
    "!pip install pulp"
   ],
   "metadata": {
    "collapsed": false
   }
  },
  {
   "cell_type": "markdown",
   "source": [
    "### Implementation\n",
    "(Use the following skeleton to implement your model in Python using PuLP)"
   ],
   "metadata": {
    "collapsed": false
   }
  },
  {
   "cell_type": "code",
   "execution_count": null,
   "outputs": [],
   "source": [
    "# Import PuLP modeler functions\n",
    "\n",
    "# Create the model\n",
    "# Use LpMinimize to define the optimization problem as a minimization problem\n",
    "# e.g. m = pulp.LpProblem(\"ProblemName\", pulp.LpMinimize)\n",
    "\n",
    "# Define sets and indices\n",
    "#e.g. I = [1,2,3], J = [1,2,3]\n",
    "\n",
    "# Define the decision variables\n",
    "# Use LpVariable.dicts to create a dictionary of decision variables\n",
    "# e.g.x = pulp.LpVariable.dicts(\"x\", [(i,j) for i in I for j in J], cat=pulp.LpBinary)\n",
    "\n",
    "\n",
    "# Define the objective function, use the coefficients from your sample dataset\n",
    "\n",
    "\n",
    "# Add the constraints to the model\n",
    "\n",
    "\n",
    "# Solve the optimization problem\n",
    "\n",
    "\n",
    "# Put the solution in a DataFrame for easier visualization\n",
    "\n",
    "\n",
    "# Display the solution\n",
    "\n",
    "\n",
    "\n",
    "\n"
   ],
   "metadata": {
    "collapsed": false
   }
  },
  {
   "cell_type": "markdown",
   "source": [
    "## Routing with Open Street Maps\n",
    "(Here you will use open street maps to calculate actual distances between locations). (First, identify meaningful locations in your problem, and then use open street maps to calculate the distances between them).\n",
    "### Requirements\n",
    "(Use this cell to install the libraries you need to run your model)"
   ],
   "metadata": {
    "collapsed": false
   }
  },
  {
   "cell_type": "code",
   "execution_count": null,
   "outputs": [],
   "source": [],
   "metadata": {
    "collapsed": false
   }
  },
  {
   "cell_type": "markdown",
   "source": [
    "### Implementation\n",
    "(Use the following skeleton to calculate actual distances using open street maps. You will need to use the coordinates of the locations you identified in the previous section to calculate the distances between them. You can use the `osmnx` library to calculate the distances.)"
   ],
   "metadata": {
    "collapsed": false
   }
  },
  {
   "cell_type": "code",
   "execution_count": null,
   "outputs": [],
   "source": [
    "import osmnx as ox\n",
    "# Update the data to include the coordinates of the locations (for every stage, include coordinates of sources and destinations)\n",
    "\n",
    "# Generate a graph from a location, make sure to use the right place and network type for your application\n",
    "G_nx = ox.graph_from_place(\"Valencia, Spain\", network_type='drive')\n",
    "\n",
    "# You can use the following function to calculate the shortest route between two points\n",
    "\n",
    "def get_route(source, destination):\n",
    "    \"\"\"\n",
    "    Given two coordinates (source and destination) calculate the shortest path between the closest nodes to the source and\n",
    "    the closest node to the destination.\n",
    "     A point is a tuple of two double values specifying latitude and longitude (eg point_1 = (39.464060144309364,\n",
    "     -0.3624288516715025)).\n",
    "\n",
    "    Args:\n",
    "        source - A tuple containing latitude and longitude values of the source point.\n",
    "        destination - A tuple containing latitude and longitude values of the source point.\n",
    "\n",
    "    Returns:\n",
    "        route: The shortest path along the map\n",
    "        distance: the minimum distance in meters (summation of great-circle distance between nodes in the shortest path)\n",
    "    \"\"\"\n",
    "    # Get the nearest node to source\n",
    "    node_1 = ox.distance.nearest_nodes(G_nx, X=source[0], Y=source[1])\n",
    "\n",
    "    # Get the nearest node to destination\n",
    "    node_2 = ox.distance.nearest_nodes(G_nx, X=destination[0], Y=destination[1])\n",
    "\n",
    "    # Get the shortest path between source and destination nodes\n",
    "    route = ox.shortest_path(G_nx, node_1, node_2)\n",
    "\n",
    "    # Return the route and the nearest nodes\n",
    "\n",
    "    return route, [node_1, node_2]\n",
    "\n",
    "# Iterate over the stages and calculate the distance between sources and destinations using open street maps\n",
    "\n",
    "# Update the distances in the model\n"
   ],
   "metadata": {
    "collapsed": false
   }
  },
  {
   "cell_type": "markdown",
   "source": [
    "## References\n"
   ],
   "metadata": {
    "collapsed": false
   }
  }
 ],
 "metadata": {
  "kernelspec": {
   "display_name": "Python 3",
   "language": "python",
   "name": "python3"
  },
  "language_info": {
   "codemirror_mode": {
    "name": "ipython",
    "version": 2
   },
   "file_extension": ".py",
   "mimetype": "text/x-python",
   "name": "python",
   "nbconvert_exporter": "python",
   "pygments_lexer": "ipython2",
   "version": "2.7.6"
  }
 },
 "nbformat": 4,
 "nbformat_minor": 0
}
