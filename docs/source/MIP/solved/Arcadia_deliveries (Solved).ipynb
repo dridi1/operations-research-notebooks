{
 "nbformat": 4,
 "nbformat_minor": 0,
 "metadata": {
  "colab": {
   "name": "Arcadia deliveries.ipynb",
   "provenance": [],
   "authorship_tag": "ABX9TyMBjD2eZdN3iXnRzoSpqrlU",
   "include_colab_link": true
  },
  "kernelspec": {
   "name": "python3",
   "display_name": "Python 3"
  },
  "language_info": {
   "name": "python"
  },
  "pycharm": {
   "stem_cell": {
    "cell_type": "raw",
    "source": [],
    "metadata": {
     "collapsed": false
    }
   }
  }
 },
 "cells": [
  {
   "cell_type": "markdown",
   "source": [
    "# Arcadia deliveries\n",
    "## Problem definition\n",
    "Arcadia Deliveries wants to determine the best location for their warehouses to supply the different retail regions of their best customer.\n",
    "There are 5 possible warehouse locations and 10 different retail regions.\n",
    "The following table shows the capacity and operation costs of the possible warehouse locations:\n",
    "\n",
    "| Data            | warehouse 1 | warehouse 2 | warehouse 3 | warehouse 4 | warehouse 5 |\n",
    "| --------------- | ----------- | ----------- | ----------- | ----------- | ----------- |\n",
    "| capacity        | 1000        | 2000        | 3000        | 4000        | 5000        |\n",
    "| Operation costs | 50          | 60          | 70          | 80          | 90          |\n",
    "\n",
    "The following table contains the demand at each region:\n",
    "\n",
    "| Region   | Demand |\n",
    "| -------- | ------ |\n",
    "| Region 1 | 100    |\n",
    "| Region 2 | 200    |\n",
    "| Region 3 | 300    |\n",
    "| Region 4 | 400    |\n",
    "| Region 5 | 500    |\n",
    "| Region 6 | 600    |\n",
    "| Region 7 | 700    |\n",
    "| Region 8 | 800    |\n",
    "| Region 9 | 900    |\n",
    "\n",
    "And the following cost contains the transportation costs from warehouses to regions:\n",
    "\n",
    "| Region | Warehouse 1 | Warehouse 2 | Warehouse 3 | Warehouse 4 | Warehouse 5 |\n",
    "| ------ | ----------- | ----------- | ----------- | ----------- | ----------- |\n",
    "| 1 | 42 | 36 | 58 | 47 | 32 |\n",
    "| 2 | 73 | 56 | 73 | 78 | 38 |\n",
    "| 3 | 38 | 41 | 80 | 88 | 69 |\n",
    "| 4 | 59 | 70 | 77 | 94 | 51 |\n",
    "| 5 | 51 | 92 | 79 | 88 | 80 |\n",
    "| 6 | 38 | 98 | 57 | 64 | 96 |\n",
    "| 7 | 86 | 53 | 86 | 58 | 44 |\n",
    "| 8 | 48 | 92 | 40 | 100 | 71 |\n",
    "| 9 | 62 | 60 | 30 | 31 | 63 |\n",
    "| 10 | 43 | 43 | 48 | 63 | 55 |\n",
    "\n",
    "Find the optimal location for warehouses and determine which warehouses are going to deliver to every retail location, knowing that the customer requires that a region is supplied from only one source\n",
    "\n"
   ],
   "metadata": {
    "id": "IvMfG6hMKOIa"
   }
  },
  {
   "cell_type": "markdown",
   "metadata": {
    "id": "VIEijyfdKNIX",
    "pycharm": {
     "name": "#%% md\n"
    }
   },
   "source": [
    "## Problem model\n",
    "This is a transportation problem with a single-source facility constraint, where the sources are the sourcing warehouses \n",
    "and the destination the retail regions. \n",
    "\n",
    "The objective is to minimize the transportation costs, taking into account transportation costs and the operation costs. \n",
    "\n",
    "**Indices**\n",
    "Let us define the following indices:\n",
    " \n",
    "- $i$: warehouse location ($i \\in [1, ..., 5]$)\n",
    "\n",
    "- $j$: retail region ($j \\in [1, ..., 9]$)\n",
    "\n",
    "\n",
    "**Data**\n",
    "Looking at the data, we can define the following vector containing the operation costs: \n",
    "\n",
    "$f = [f_1, f_2, ..., f_5] = [50, 60, 70, 80, 90]$\n",
    "\n",
    "and the following matrix containing the transportation costs from every warehouse to every retail region:\n",
    "\n",
    "$ f = \n",
    "\\begin{bmatrix}\n",
    "c_11 & c_12 & ... $ c_19\\\\\n",
    "... $ ... & ... $ ...\\\\\n",
    "c_51 & c_52 & ... $ c_59\\\\\n",
    "\\end{bmatrix} = \n",
    "\\begin{bmatrix}\n",
    "1 & 42 & 36 & 58 & 47 & 32\\\\\n",
    "2 & 73 & 56 & 73 & 78 & 38\\\\\n",
    "3 & 38 & 41 & 80 & 88 & 69\\\\\n",
    "4 & 59 & 70 & 77 & 94 & 51\\\\\n",
    "5 & 51 & 92 & 79 & 88 & 80\\\\\n",
    "6 & 38 & 98 & 57 & 64 & 96\\\\\n",
    "7 & 86 & 53 & 86 & 58 & 44\\\\\n",
    "8 & 48 & 92 & 40 & 100 & 71\\\\\n",
    "9 & 62 & 60 & 30 & 31 & 63\\\\\n",
    "10 & 43 & 43 & 48 & 63 & 55\\\\\n",
    "\\end{bmatrix}\n",
    "$\n",
    "\n",
    "Besides the costs, each warehouse has a limited sourcing capacity, which can be identified as a vector:\n",
    "\n",
    "$s = [s_1, s_2, ..., s_5] = [1000, 2000, 3000, 4000, 5000]$\n",
    "\n",
    "And the following vector contains the demand for every region: \n",
    "\n",
    "$ d = [d_1, d_2, ..., d_9] = [100, 200, 300, 400, 500, 600, 700, 800, 900]$\n",
    "\n",
    "Let us define the following decision variables: \n",
    "\n",
    "- $X_{ij}$: (Binary) determines if warehouse $i$ delivers all demand to retail region $j$ {1 if yes, 0 otherwise}\n",
    "- $Y_{i}$: (Binary) determines if warehouse $i$ delivers to any retail region {1 if yes, 0 otherwise}\n",
    "\n",
    "**Objective function** \n",
    "The objective function is: \n",
    "\n",
    "$\\min z = \\sum_{i=1}^5{\\sum_{j=1}^9{c_{ij}*d_j*X_{ij}}} + \\sum_{i=1}^5{Y_i*f_i}$\n",
    "\n",
    "**Constraints**\n",
    "The constraints are:\n",
    "\n",
    "**Sourcing capacity**:\n",
    " \n",
    "$\\sum_{j=1}^m{x_{ij}} \\leq s_i*Y_i \\quad \\forall i$  \n",
    "\n",
    "These five constraints represent the limited capacity of the warehouses, we multiply the capacity with the corresponding \n",
    "$Y_{i}$ variable to make sure the solution is logical and that the right-hand-side is zero if $Y_{i}$ is zero. \n",
    "\n",
    "**Demand**\n",
    "\n",
    "$\\sum_{i=1}^n{X_{ij}} = 1 \\quad \\forall j$    \n",
    "\n",
    "Since we source all the demand from a single source, we only need to make sure that the demand is supplied from 1 \n",
    "location for every warehouse. "
   ]
  }
 ]
}