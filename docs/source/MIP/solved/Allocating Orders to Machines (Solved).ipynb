{
 "cells": [
  {
   "cell_type": "markdown",
   "metadata": {},
   "source": [
    "# Production Orders\n",
    "## Problem Definition\n",
    "The firm H.G. Welds, dedicated to welding components for the automotive sector, has received five orders (P1, P2, P3, P4, P5), which have to be carried out. To meet these orders, the company has five welding machines available (M1, M2, M3, M4,M5). Each machine can carry out every task at the cost shown in the table below. The problem consists in determining optimum allocation which minimises the total cost of carrying out orders by assuming that each machine can do only one order and that all the orders must be carried out.\n",
    "\n",
    "| Order/Machine | M1 | M2 | M3 | M4 | M5 |\n",
    "|---------------|----|----|----|----|----|\n",
    "| P1            | 16 | 4  | 9  | 5  | 6  |\n",
    "| P2            | 2  | 14 | 7  | 5  | 13 |\n",
    "| P3            | 8  | 10 | 3  | 12 | 11 |\n",
    "| P4            | 3  | 7  | 6  | 10 | 5  |\n",
    "| P5            | 3  | 6  | 8  | 11 | 7  |\n",
    "\n",
    "**Formulate an integer linear programming model to determine the optimum allocation plan.**\n",
    "**Assume that processing each order on each machine requires an average preparation cost of 10 units. How is the model in the former sector amended?**\n"
   ]
  },
  {
   "cell_type": "markdown",
   "metadata": {},
   "source": [
    "## Problem model\n",
    "Decision variables:\n",
    "\n",
    "$Y_{ij} = 1$ if Machine Mi carries out order Pj, and 0 otherwise;\n",
    "\n",
    "Objective function:\n",
    "It represents the total cost of carrying out tasks:\n",
    "\n",
    "Minimize $z = 16Y_{11} + 4Y_{12} + 9Y_{13} + 5Y_{14} + 6Y_{15} + 2Y_{21} + 14Y_{22} + 7Y_{23} + 5Y_{24} + 13Y_{25} + 8Y_{31} + 10Y_{32} + 3Y_{33} + 12Y_{34} + 11Y_{35} + 3Y_{41} + 7Y_{42} + 6Y_{43} + 10Y_{44} + 5Y_{45} + 3Y_{51} + 6Y_{52} + 8Y_{53} + 11Y_{54} + 7Y_{55}$\n",
    "\n",
    "Constraints:\n",
    "It must be ensured that each machine does only one of the tasks:\n",
    "\n",
    "$Y_{11} + Y_{12} + Y_{13} + Y_{14} + Y_{15} \\leq 1$\n",
    "\n",
    "$Y_{21} + Y_{22} + Y_{23} + Y_{24} + Y_{25} \\leq 1$\n",
    "\n",
    "$Y_{31} + Y_{32} + Y_{33} + Y_{34} + Y_{35} \\leq 1$\n",
    "\n",
    "$Y_{41} + Y_{42} + Y_{43} + Y_{44} + Y_{45} \\leq 1$\n",
    "\n",
    "$Y_{51} + Y_{52} + Y_{53} + Y_{54} + Y_{55} \\leq 1$\n",
    "\n",
    "\n",
    "And that all the orders are carried out:\n",
    "\n",
    "$Y_{11} + Y_{21} + Y_{31} + Y_{41} + Y_{51} \\geq 1$\n",
    "\n",
    "$Y_{12} + Y_{22} + Y_{32} + Y_{42} + Y_{52} \\geq 1$\n",
    "\n",
    "$Y_{13} + Y_{23} + Y_{33} + Y_{43} + Y_{53} \\geq 1$\n",
    "\n",
    "$Y_{14} + Y_{24} + Y_{34} + Y_{44} + Y_{54} \\geq 1$\n",
    "\n",
    "$Y_{15} + Y_{25} + Y_{35} + Y_{45} + Y_{55} \\geq 1$\n",
    "\n"
   ]
  },
  {
   "cell_type": "code",
   "execution_count": null,
   "metadata": {},
   "outputs": [],
   "source": []
  }
 ],
 "metadata": {
  "kernelspec": {
   "display_name": "Python 3",
   "language": "python",
   "name": "python3"
  },
  "language_info": {
   "codemirror_mode": {
    "name": "ipython",
    "version": 3
   },
   "file_extension": ".py",
   "mimetype": "text/x-python",
   "name": "python",
   "nbconvert_exporter": "python",
   "pygments_lexer": "ipython3",
   "version": "3.7.4"
  }
 },
 "nbformat": 4,
 "nbformat_minor": 2
}
