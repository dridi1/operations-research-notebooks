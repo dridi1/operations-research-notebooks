{
 "cells": [
  {
   "cell_type": "markdown",
   "metadata": {},
   "source": [
    "# Transport Planning\n",
    "A firm must transport machines from production plants A, B and C to warehouses X, Y and Z. Five machines are required in X, 4 in Y and 3 in Z, whereas 8 machines are available in A, 5 in B and 3 in C. The transport costs (in euros) between sites\n",
    "are provided in the table below.\n",
    "\n",
    "| Plant/Warehouse | X  | Y  | Z  |\n",
    "|-----------------|----|----|----|\n",
    "| A               | 50 | 60 | 30 |\n",
    "| B               | 60 | 40 | 20 |\n",
    "| C               | 40 | 70 | 30 |\n",
    "\n",
    "**a)** Formulate an integer linear programming model that minimizes transport costs.\n",
    "\n",
    "**b)** Assume that the cost of transporting a machine from plant B increases by €10 for all the machines as of the third one; that is, the 4th, the 5th, etc. Reformulate the model in Section a) by considering this assumption."
   ]
  },
  {
   "cell_type": "code",
   "execution_count": 9,
   "metadata": {},
   "outputs": [],
   "source": [
    "import pulp\n",
    "import pandas as pd\n",
    "#And we will use numpy to perform array operations\n",
    "import numpy as np\n",
    "#We will use display and Markdown to format the output of code cells as Markdown\n",
    "from IPython.display import display, Markdown\n",
    "\n",
    "# Warehouses and dictionaries\n",
    "plants = ('A', 'B', 'C')\n",
    "warehouses = ('X', 'Y', 'Z')\n",
    "#Transportation costs\n",
    "transportation_costs = [[50, 60, 30], [60, 40, 20], [40, 70, 30]]\n",
    "\n",
    "# Instantiate model\n",
    "model = pulp.LpProblem(\"Transport Planning\", pulp.LpMinimize)\n",
    "\n",
    "# Demand\n",
    "demand = [5, 4, 3]\n",
    "\n",
    "# Capacities\n",
    "capacities = [8, 5, 3]\n",
    "\n",
    "variables = pulp.LpVariable.dicts(\"x\",\n",
    "                                  [(i, j) for i in plants for j in warehouses],\n",
    "                                  lowBound=0,\n",
    "                                  cat='Integer')\n",
    "\n",
    "model += (\n",
    "             pulp.lpSum([\n",
    "                 transportation_costs[i][j] * variables[(plants[i], warehouses[j])]\n",
    "                 for i in range(len(plants)) for j in range(len(warehouses))])\n",
    "         ), \"Transportation Cost\"\n",
    "\n",
    "\n",
    "# Capacity constraints\n",
    "for i in range(len(plants)):\n",
    "    model += pulp.lpSum([\n",
    "        variables[(plants[i], warehouses[j])]\n",
    "        for j in range(len(warehouses))]) <= capacities[i], plants[i]\n",
    "\n",
    "# Demand\n",
    "for j in range(len(warehouses)):\n",
    "    model += pulp.lpSum([\n",
    "        variables[(plants[i], warehouses[j])]\n",
    "        for i in range(len(plants))]) >= demand[j], warehouses[j]"
   ]
  },
  {
   "cell_type": "code",
   "execution_count": 10,
   "metadata": {},
   "outputs": [
    {
     "name": "stdout",
     "output_type": "stream",
     "text": [
      "Optimal\n",
      "460.0\n"
     ]
    }
   ],
   "source": [
    "# Solve our problem\n",
    "model.solve()\n",
    "print(pulp.LpStatus[model.status])\n",
    "\n",
    "# Solution\n",
    "max_z = pulp.value(model.objective)\n",
    "print(max_z)"
   ]
  },
  {
   "cell_type": "code",
   "execution_count": 19,
   "metadata": {},
   "outputs": [
    {
     "data": {
      "text/html": [
       "<div>\n",
       "<style scoped>\n",
       "    .dataframe tbody tr th:only-of-type {\n",
       "        vertical-align: middle;\n",
       "    }\n",
       "\n",
       "    .dataframe tbody tr th {\n",
       "        vertical-align: top;\n",
       "    }\n",
       "\n",
       "    .dataframe thead tr th {\n",
       "        text-align: left;\n",
       "    }\n",
       "\n",
       "    .dataframe thead tr:last-of-type th {\n",
       "        text-align: right;\n",
       "    }\n",
       "</style>\n",
       "<table border=\"1\" class=\"dataframe\">\n",
       "  <thead>\n",
       "    <tr>\n",
       "      <th></th>\n",
       "      <th colspan=\"3\" halign=\"left\">Solution</th>\n",
       "    </tr>\n",
       "    <tr>\n",
       "      <th>Warehouses</th>\n",
       "      <th>X</th>\n",
       "      <th>Y</th>\n",
       "      <th>Z</th>\n",
       "    </tr>\n",
       "    <tr>\n",
       "      <th>Plants</th>\n",
       "      <th></th>\n",
       "      <th></th>\n",
       "      <th></th>\n",
       "    </tr>\n",
       "  </thead>\n",
       "  <tbody>\n",
       "    <tr>\n",
       "      <td>A</td>\n",
       "      <td>2.0</td>\n",
       "      <td>0.0</td>\n",
       "      <td>2.0</td>\n",
       "    </tr>\n",
       "    <tr>\n",
       "      <td>B</td>\n",
       "      <td>0.0</td>\n",
       "      <td>4.0</td>\n",
       "      <td>1.0</td>\n",
       "    </tr>\n",
       "    <tr>\n",
       "      <td>C</td>\n",
       "      <td>3.0</td>\n",
       "      <td>0.0</td>\n",
       "      <td>0.0</td>\n",
       "    </tr>\n",
       "  </tbody>\n",
       "</table>\n",
       "</div>"
      ],
      "text/plain": [
       "           Solution          \n",
       "Warehouses        X    Y    Z\n",
       "Plants                       \n",
       "A               2.0  0.0  2.0\n",
       "B               0.0  4.0  1.0\n",
       "C               3.0  0.0  0.0"
      ]
     },
     "metadata": {},
     "output_type": "display_data"
    }
   ],
   "source": [
    "var_df = pd.DataFrame.from_dict(variables, orient=\"index\",\n",
    "                                columns = [\"Variables\"], dtype=object)\n",
    "\n",
    "var_df[\"Solution\"] = var_df[\"Variables\"].apply(lambda item: item.varValue)\n",
    "index = pd.MultiIndex.from_product([plants, warehouses], names=['Plants', 'Warehouses'])\n",
    "var_df2 = pd.DataFrame(var_df[\"Solution\"], index=index, columns = [\"Solution\"])\n",
    "display(var_df2.unstack())"
   ]
  },
  {
   "cell_type": "code",
   "execution_count": null,
   "metadata": {},
   "outputs": [],
   "source": []
  }
 ],
 "metadata": {
  "kernelspec": {
   "display_name": "Python 3",
   "language": "python",
   "name": "python3"
  },
  "language_info": {
   "codemirror_mode": {
    "name": "ipython",
    "version": 3
   },
   "file_extension": ".py",
   "mimetype": "text/x-python",
   "name": "python",
   "nbconvert_exporter": "python",
   "pygments_lexer": "ipython3",
   "version": "3.7.4"
  }
 },
 "nbformat": 4,
 "nbformat_minor": 2
}
