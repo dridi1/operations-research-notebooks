{
 "cells": [
  {
   "cell_type": "markdown",
   "metadata": {},
   "source": [
    "# Production Sequencing\n",
    "## Problem Definition\n",
    "A manufacturer of the metal sector in Stafford manufactures four types of products in sequence on two machines. The Table below provides the necessary technical production details.Taking into account only the data on the production times per product and the maximum daily production capacity of each machine, and taking a maximum daily production of 100 units of each product type, consider and solve a maximal flow model in a graph to determine the maximum number of minutes during which machines 1 and 2 can operate on a production-in-sequence basis given the existing capacity constraints.\n",
    "\n",
    "| Machine | Product 1 | Product 2 | Product 3 | Product 4 | Daily Production Capacity (minutes) |\n",
    "|---------|-----------|-----------|-----------|-----------|-------------------------------------|\n",
    "| 1       | 2         | 3         | 4         | 2         | 500                                 |\n",
    "| 2       | 3         | 2         | 1         | 2         | 380                                 |"
   ]
  },
  {
   "cell_type": "markdown",
   "metadata": {},
   "source": [
    "## Solution\n",
    "This is an example of how graph theory can be used to solve production sequencing problems. In this case, the resource that we want to optimise is machine time. The flow in our graph is going to represent machine time and the unit is going to be minutes. We will have a source node, one node representing the first step of the sequence (machine 1), four nodes representing the different products to be manufactured, another node for the second step of the process (machine 2), and a sink node. The capacity of the edge between the source node and the Machine 1 node is equal to the machine production capacity (500), since it is the total number of minutes that we can use in that machine. The capacities of edges between the machine 1 node and the products nodes are the production times in that machine times the number of units (200, 300, 400, 200), since it is the maximum time that we can invest in each time of product in machine 1. Likewise, the edges between the product nodes and the machine 2 node are 300, 200, 100, and 200, and the capacity of the edge between the machine 2 node and the sink node is 380.\n"
   ]
  },
  {
   "cell_type": "code",
   "execution_count": 14,
   "metadata": {},
   "outputs": [
    {
     "data": {
      "text/plain": [
       "{('S', 'M1'): Text(0.5,1,'500'),\n",
       " ('M1', 'P1'): Text(1.5,0.5,'200'),\n",
       " ('M1', 'P2'): Text(1.5,0.835,'300'),\n",
       " ('M1', 'P3'): Text(1.5,1.165,'400'),\n",
       " ('M1', 'P4'): Text(1.5,1.5,'200'),\n",
       " ('P1', 'M2'): Text(2.5,0.5,'300'),\n",
       " ('P2', 'M2'): Text(2.5,0.835,'200'),\n",
       " ('P3', 'M2'): Text(2.5,1.165,'100'),\n",
       " ('P4', 'M2'): Text(2.5,1.5,'200'),\n",
       " ('M2', 'T'): Text(3.5,1,'380')}"
      ]
     },
     "execution_count": 14,
     "metadata": {},
     "output_type": "execute_result"
    },
    {
     "data": {
      "image/png": "[encoded data removed]",
      "text/plain": [
       "<Figure size 432x288 with 1 Axes>"
      ]
     },
     "metadata": {},
     "output_type": "display_data"
    }
   ],
   "source": [
    "import pandas as pd\n",
    "import networkx as nx\n",
    "from IPython.display import display, Markdown\n",
    "\n",
    "# Create an empty directed graph structure: \n",
    "G = nx.DiGraph()\n",
    "\n",
    "# Add edges and define two attributes, production and costs:\n",
    "G.add_edges_from([(\"S\", \"M1\", {\"capacity\": 500, \"production\": 0}),\n",
    "    (\"M1\", \"P1\", {\"capacity\": 200, \"production\": 2}),\n",
    "    (\"M1\", \"P2\", {\"capacity\": 300, \"production\": 3}),\n",
    "    (\"M1\", \"P3\", {\"capacity\": 400, \"production\": 4}),\n",
    "    (\"M1\", \"P4\", {\"capacity\": 200, \"production\": 2}),\n",
    "    (\"P1\", \"M2\", {\"capacity\": 300, \"production\": 3}),\n",
    "    (\"P2\", \"M2\", {\"capacity\": 200, \"production\": 2}),\n",
    "    (\"P3\", \"M2\", {\"capacity\": 100, \"production\": 2}),\n",
    "    (\"P4\", \"M2\", {\"capacity\": 200, \"production\": 2}),\n",
    "    (\"M2\", \"T\", {\"capacity\": 380, \"production\": 0})])\n",
    "\n",
    "# Draw the directed graph\n",
    "pos = {\"S\": (0, 1),\n",
    "       \"M1\": (1, 1),\n",
    "       \"P1\":(2,0),\n",
    "       \"P2\": (2, 0.67),\n",
    "       \"P3\": (2, 1.33),\n",
    "       \"P4\": (2, 2),\n",
    "       \"M2\": (3, 1),\n",
    "       \"T\": (4, 1)   \n",
    "      }\n",
    "\n",
    "nx.draw(G, pos)\n",
    "nx.draw_networkx_labels(G, pos)\n",
    "nx.draw_networkx_nodes(G, pos, node_size=600, node_color='#efefef')\n",
    "nx.draw_networkx_labels(G, pos, font_weight='bold' )\n",
    "c_label = nx.get_edge_attributes(G, 'capacity')\n",
    "nx.draw_networkx_edge_labels(G, pos, edge_labels=c_label)\n"
   ]
  },
  {
   "cell_type": "code",
   "execution_count": 15,
   "metadata": {},
   "outputs": [
    {
     "name": "stdout",
     "output_type": "stream",
     "text": [
      "380\n"
     ]
    },
    {
     "data": {
      "text/plain": [
       "{'S': {'M1': 380},\n",
       " 'M1': {'P1': 80, 'P2': 200, 'P3': 100, 'P4': 0},\n",
       " 'P1': {'M2': 80},\n",
       " 'P2': {'M2': 200},\n",
       " 'P3': {'M2': 100},\n",
       " 'P4': {'M2': 0},\n",
       " 'M2': {'T': 380},\n",
       " 'T': {}}"
      ]
     },
     "metadata": {},
     "output_type": "display_data"
    }
   ],
   "source": [
    "value, flow = nx.maximum_flow(G, \"S\", \"T\", capacity='capacity' )\n",
    "print(value)\n",
    "display(flow)"
   ]
  },
  {
   "cell_type": "code",
   "execution_count": null,
   "metadata": {},
   "outputs": [],
   "source": []
  }
 ],
 "metadata": {
  "kernelspec": {
   "display_name": "Python 3",
   "language": "python",
   "name": "python3"
  },
  "language_info": {
   "codemirror_mode": {
    "name": "ipython",
    "version": 3
   },
   "file_extension": ".py",
   "mimetype": "text/x-python",
   "name": "python",
   "nbconvert_exporter": "python",
   "pygments_lexer": "ipython3",
   "version": "3.7.4"
  },
  "pycharm": {
   "stem_cell": {
    "cell_type": "raw",
    "source": [],
    "metadata": {
     "collapsed": false
    }
   }
  }
 },
 "nbformat": 4,
 "nbformat_minor": 2
}