{
 "cells": [
  {
   "cell_type": "markdown",
   "metadata": {},
   "source": [
    "# Machinery Transport Planning\n",
    "\n",
    "## Try me\n",
    " [![Open In Colab](../../_static/colabs_badge.png)](https://colab.research.google.com/github/ffraile/operations-research-notebooks/blob/main/docs/source/MIP/solved/Machinery%20Transport%20Planning%20(Solved).ipynb)[![Binder](../../_static/binder_badge.png)](https://mybinder.org/v2/gh/ffraile/operations-research-notebooks/main?labpath=docs%2Fsource%2FMIP%2Fsolved%2FMachinery%20Transport%20Planning%20(Solved).ipynb)\n",
    "\n",
    "## Problem Definition\n",
    "A firm must transport machines from production plants A, B and C to warehouses X, Y and Z. Five machines are required in X, four in Y and three in Z and there are eight machines available in A, five in B and three in C.\n",
    "**a)** Contemplate and solve a Graph Theory model to determine the maximal flow of the machines that can be transported and the run of this flow.\n",
    "**b)** By assuming a mean cost of €45 per transported machine, what would the total cost be of transporting the machines obtained in the former section?"
   ]
  },
  {
   "cell_type": "markdown",
   "metadata": {},
   "source": [
    "## Requirements\n",
    "Run the following script to install the packages used in the exercise:\n",
    "\n"
   ]
  },
  {
   "cell_type": "code",
   "execution_count": null,
   "outputs": [],
   "source": [
    "!pip install networkx\n",
    "!pip install matplotlib\n"
   ],
   "metadata": {
    "collapsed": false,
    "pycharm": {
     "name": "#%%\n"
    }
   }
  },
  {
   "cell_type": "markdown",
   "source": [
    "## Solution\n",
    "We are going to use [networkx] (https://networkx.github.io/) to draw the network and find the maximal flow at a minimum cost between two nodes. We are going to create a graph to model the transport process, the network will comprise the Source node (node S), production plant nodes (nodes A, B, and C), warehouse nodes (nodes X, Y, and Z), and a sink node (node T). Edges are going to have two attributes: \n",
    "\n",
    "- $b_i$: maximum capacity (number of machines) of each production plant or warehouse\n",
    "- $c_i$: cost, cost for the company to move one machine (€).\n",
    "\n",
    "The flow of edges going from source node S to each production plant represent the available machines at each production plant. These edges have a capacity equal to machines available at each production plant, and a cost of 0;  \n",
    "The flow of edges going from each production plant to each warehouse represents the machines transported by the company from each production plant to each warehouse. The edges will have a maximum capacity equal to the machines available at each production plan, and a cost of 45€. \n",
    "Finally, flow in edges from the warehouse nodes to the sink node represent the total number of machines in each ware house.  These edges will have a maximum capacity equal to the demand  of each warehouse, a company cost of 0. \n",
    "\n"
   ],
   "metadata": {
    "collapsed": false,
    "pycharm": {
     "name": "#%% md\n"
    }
   }
  },
  {
   "cell_type": "code",
   "execution_count": 3,
   "metadata": {},
   "outputs": [
    {
     "data": {
      "image/png": "[encoded data removed]",
      "text/plain": [
       "<Figure size 432x288 with 1 Axes>"
      ]
     },
     "metadata": {},
     "output_type": "display_data"
    }
   ],
   "source": [
    "# Import the libraries that we are going to use, Network x to import the \n",
    "\n",
    "import networkx as nx\n",
    "import matplotlib.pyplot as plt\n",
    "\n",
    "\n",
    "\n",
    "# Create an empty directed graph structure: \n",
    "G = nx.DiGraph()\n",
    "\n",
    "# Add edges and define two attributes, production and costs:\n",
    "G.add_edges_from([(\"S\", \"A\", {\"capacity\": 8, \"cost\": 0}),\n",
    "    (\"S\", \"B\", {\"capacity\": 5, \"cost\": 0}),\n",
    "    (\"S\", \"C\", {\"capacity\": 3, \"cost\": 0}),\n",
    "    (\"A\", \"X\", {\"capacity\": 8, \"cost\": 45}),\n",
    "    (\"A\", \"Y\", {\"capacity\": 8, \"cost\": 45}),\n",
    "    (\"A\", \"Z\", {\"capacity\": 8, \"cost\": 45}),\n",
    "    (\"B\", \"X\", {\"capacity\": 5, \"cost\": 45}),\n",
    "    (\"B\", \"Y\", {\"capacity\": 5, \"cost\": 45}),\n",
    "    (\"B\", \"Z\", {\"capacity\": 5, \"cost\": 45}),\n",
    "    (\"C\", \"X\", {\"capacity\": 3, \"cost\": 45}),\n",
    "    (\"C\", \"Y\", {\"capacity\": 3, \"cost\": 45}),\n",
    "    (\"C\", \"Z\", {\"capacity\": 3, \"cost\": 45}),\n",
    "    (\"X\", \"T\", {\"capacity\": 5, \"cost\": 0}),\n",
    "    (\"Y\", \"T\", {\"capacity\": 4, \"cost\": 0}),\n",
    "    (\"Z\", \"T\", {\"capacity\": 3, \"cost\": 0})])\n",
    "\n",
    "# Draw the directed graph\n",
    "pos = {\"S\": (0, 1),\n",
    "       \"A\": (1, 0),\n",
    "       \"B\": (1, 1),\n",
    "       \"C\": (1, 2),\n",
    "       \"X\": (2, 0),\n",
    "       \"Y\": (2, 1),\n",
    "       \"Z\": (2, 2),\n",
    "       \"T\": (3, 1)   \n",
    "      }\n",
    "\n",
    "nx.draw(G, pos)\n",
    "nx.draw_networkx_edges(G, pos, weight=2)\n",
    "nx.draw_networkx_nodes(G, pos, node_size=600, node_color='#efefef')\n",
    "nx.draw_networkx_labels(G, pos, font_weight='bold' )\n",
    "\n",
    "cap = nx.get_edge_attributes(G, 'capacity')\n",
    "nx.draw_networkx_edge_labels(G, pos, edge_labels=cap)\n",
    "plt.show()\n"
   ]
  },
  {
   "cell_type": "code",
   "execution_count": 4,
   "metadata": {
    "scrolled": true
   },
   "outputs": [
    {
     "name": "stdout",
     "output_type": "stream",
     "text": [
      "maximum flow value: 12\n",
      "flow from  S  to  A :  4 ; Cost:  0 total cost:  0\n",
      "flow from  S  to  B :  5 ; Cost:  0 total cost:  0\n",
      "flow from  S  to  C :  3 ; Cost:  0 total cost:  0\n",
      "flow from  A  to  X :  0 ; Cost:  0 total cost:  0\n",
      "flow from  A  to  Y :  1 ; Cost:  45 total cost:  45\n",
      "flow from  A  to  Z :  3 ; Cost:  135 total cost:  180\n",
      "flow from  B  to  X :  2 ; Cost:  90 total cost:  270\n",
      "flow from  B  to  Y :  3 ; Cost:  135 total cost:  405\n",
      "flow from  B  to  Z :  0 ; Cost:  0 total cost:  405\n",
      "flow from  C  to  X :  3 ; Cost:  135 total cost:  540\n",
      "flow from  C  to  Y :  0 ; Cost:  0 total cost:  540\n",
      "flow from  C  to  Z :  0 ; Cost:  0 total cost:  540\n",
      "flow from  X  to  T :  5 ; Cost:  0 total cost:  540\n",
      "flow from  Y  to  T :  4 ; Cost:  0 total cost:  540\n",
      "flow from  Z  to  T :  3 ; Cost:  0 total cost:  540\n",
      "Total cost is:  540\n"
     ]
    }
   ],
   "source": [
    "max_flow, flow= nx.maximum_flow(G, \"S\", \"T\", capacity='capacity')\n",
    "costs = nx.get_edge_attributes(G, 'cost')\n",
    "cost=0\n",
    "print(\"maximum flow value:\", max_flow)\n",
    "for k,v in flow.items():\n",
    "    for k2 in v.keys():\n",
    "        cost+=v[k2]*costs[(k,k2)]\n",
    "        print(\"flow from \", k, \" to \", k2, \": \", v[k2], \"; Cost: \", v[k2]*costs[(k,k2)], \"total cost: \", cost)\n",
    "\n",
    "print (\"Total cost is: \", cost)"
   ]
  },
  {
   "cell_type": "code",
   "execution_count": null,
   "metadata": {},
   "outputs": [],
   "source": [
    "import pandas as pd\n",
    "from IPython.display import display, Markdown\n",
    "\n",
    "flow_df = pd.DataFrame.from_dict(flow, orient='index')\n",
    "display(flow_df)"
   ]
  },
  {
   "cell_type": "code",
   "execution_count": null,
   "metadata": {},
   "outputs": [],
   "source": [
    "optimal_flow = {}\n",
    "for k,v in flow.items():\n",
    "    for k2 in v.keys():\n",
    "        optimal_flow[k,k2] = flow[k][k2]\n",
    "\n",
    "nx.draw(G, pos)\n",
    "nx.draw_networkx_edges(G, pos, weight=2)\n",
    "nx.draw_networkx_nodes(G, pos, node_size=600, node_color='#efefef')\n",
    "nx.draw_networkx_labels(G, pos, font_weight='bold' )\n",
    "nx.draw_networkx_edge_labels(G, pos, edge_labels=optimal_flow)\n"
   ]
  },
  {
   "cell_type": "code",
   "execution_count": null,
   "metadata": {},
   "outputs": [],
   "source": []
  }
 ],
 "metadata": {
  "kernelspec": {
   "display_name": "Python 3",
   "language": "python",
   "name": "python3"
  },
  "language_info": {
   "codemirror_mode": {
    "name": "ipython",
    "version": 3
   },
   "file_extension": ".py",
   "mimetype": "text/x-python",
   "name": "python",
   "nbconvert_exporter": "python",
   "pygments_lexer": "ipython3",
   "version": "3.7.3"
  }
 },
 "nbformat": 4,
 "nbformat_minor": 2
}