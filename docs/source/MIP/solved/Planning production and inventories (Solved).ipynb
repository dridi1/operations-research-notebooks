{
 "cells": [
  {
   "cell_type": "markdown",
   "metadata": {},
   "source": [
    "# Planning Production and Inventories\n",
    "## Problem definition\n",
    "Consider the production of a single product in a planning horizon in T periods. If\n",
    "production during a given period $t (t = 1 ,. . ., T)$ is decided, a fixed cost $cf_{t}$ is\n",
    "incurred. Any excess products manufactured during early periods can be stored to\n",
    "meet the demand for the next period. Besides, all the demand must be met during\n",
    "each period. Production capacity constraints are not considered.\n",
    "\n",
    "As t = 1,.., T:\n",
    "\n",
    "- $d_{t}$ is the demand for this product during each period,\n",
    "\n",
    "- $cp_{t}$ are the cost profits of production per unit during each period, and\n",
    "\n",
    "- $ca_{t}$ are the cost profits of storage per unit during each period.\n",
    "\n",
    "*a)* Formulate an integer linear programming model which minimizes the total\n",
    "costs of production, storage and fixed costs\n",
    "\n",
    "*b)* Assume that we are allowed to have a delay of one period. Delays in deliveries have a cost $crd_{t}$ per demand unit not delivered on time during each period. However, all the demand must\n",
    "be met during the last period T, or in other words, a delay in the demand during\n",
    "period T must be null. Amend the model in the former section to contemplate\n",
    "this option.\n",
    "\n",
    "*c)* Assume that production can take place in a maximum of five periods, although\n",
    "these periods cannot occur consecutively. Amend the model in the former\n",
    "section to contemplate this option."
   ]
  },
  {
   "cell_type": "markdown",
   "metadata": {},
   "source": [
    "## Problem Model\n",
    "### Decision Variables\n",
    "\n",
    "$X_{t}$ = Units to produce in period t\n",
    "\n",
    "$I_{t}$ = Units to store in period t\n",
    "\n",
    "$Y_{t}$ = Binary variable to determine whether we produce in one period or not\n",
    "\n",
    "### Objective function\n",
    "\n",
    "In section a. we consider production costs, the fixed costs, plus the storage costs:\n",
    "\n",
    "$\\min z$ = production_cost + fixed_costs + storage costs\n",
    "\n",
    "The objective function is therefore:\n",
    "\n",
    "$\\min z = \\sum_{t=1}^{T}cp_{t}·X_{t}+\\sum_{t=1}^{T}cf_{t}·Y_{t}+\\sum_{t=1}^{T}I_{t}ca_{t}$\n",
    "\n",
    "### Constraints\n",
    "In this case, we need to make sure that we meet the demand in every period, then:\n",
    "\n",
    "$I_{t-1}+X_{t}-I{t} \\geq d_{t}, \\forall t$\n",
    "\n",
    "We also need to make sure that the binary decision variable makes sense:\n",
    "\n",
    "$X_{t} \\leq M*Y_{t}, \\forall t$ \n",
    "\n",
    "(Where M is a large number. If we do not make any units in a period, then the binary decision variable must be zero).\n",
    "\n",
    "Also, they must be non-negative:\n",
    "\n",
    "$X_{t} \\geq 0, \\forall t$\n",
    "\n",
    "$I_{t} \\geq 0, \\forall t$"
   ]
  },
  {
   "cell_type": "markdown",
   "metadata": {},
   "source": [
    "## b) Delays\n",
    "To take into account the delays, we need to introduce a new term in the objective function. We introduce a new decision variable:\n",
    "\n",
    "$Du_{t}$ = Units to delay at period t\n",
    "\n",
    "And the objective function becomes:\n",
    "\n",
    "$\\min z = \\sum_{t=1}^{T}cp_{t}·X_{t}+\\sum_{t=1}^{T}cf_{t}·Y_{t}+\\sum_{t=1}^{T}I_{t}ca_{t}+\\sum_{t=1}^{T}Du_{t}crd_{t}$\n",
    "\n",
    "We also need to amend the first constraint:\n",
    "\n",
    "$I_{t-1}+X_{t}-I{t}-Du_{t-1}+Du_{t} \\geq d_{t}, \\forall t$\n",
    "\n",
    "Also, we need to make sure that there are no delays at the end of the period:\n",
    "\n",
    "$Du_{T}=0$"
   ]
  },
  {
   "cell_type": "markdown",
   "metadata": {},
   "source": [
    "### c) Maximum number of periods\n",
    "If we have a maximum number of periods, we can introduce another constraint using the binary variable:\n",
    "\n",
    "$\\sum_{t=1}^{T}Y_{t} \\leq 5$\n",
    "\n",
    "Also, since we cannot produce in two consecutive periods, the sum of two consecutive values of the binary variable cannot be higher than one:\n",
    "\n",
    "$Y_{t}+Y_{t-1} \\leq 1, \\forall t$"
   ]
  },
  {
   "cell_type": "code",
   "execution_count": null,
   "metadata": {},
   "outputs": [],
   "source": []
  }
 ],
 "metadata": {
  "kernelspec": {
   "display_name": "Python 3",
   "language": "python",
   "name": "python3"
  },
  "language_info": {
   "codemirror_mode": {
    "name": "ipython",
    "version": 3
   },
   "file_extension": ".py",
   "mimetype": "text/x-python",
   "name": "python",
   "nbconvert_exporter": "python",
   "pygments_lexer": "ipython3",
   "version": "3.7.3"
  },
  "pycharm": {
   "stem_cell": {
    "cell_type": "raw",
    "source": [],
    "metadata": {
     "collapsed": false
    }
   }
  }
 },
 "nbformat": 4,
 "nbformat_minor": 2
}
