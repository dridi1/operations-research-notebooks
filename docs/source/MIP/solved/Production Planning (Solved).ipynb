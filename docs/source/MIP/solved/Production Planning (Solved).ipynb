{
 "cells": [
  {
   "cell_type": "markdown",
   "metadata": {},
   "source": [
    "# Production Planning\n",
    "## Problem Definition\n",
    "PLACASA, a supplier of plastic injection parts for the automobile sector, foresees the demand of an article for the following 4 months of 100, 140, 210 and 180 units, respectively. The firm can maintain only sufficient stock to meet the demand of each month or it can have excess stock to meet the demand of two successive months or more with a storage cost of 1.2€ per month and unit of excessive stock. \n",
    "PLACASA calculates that the production cost for the following months, is €15, €12, €10 and €14 per unit. A preparation cost of €200 is incurred every time a production order is placed. The firm wishes to develop a production plan that minimises the total costs of production orders, of production and of keeping an article in stock. Formulate and solve a shortest path model to find an optimum production plan."
   ]
  },
  {
   "cell_type": "markdown",
   "metadata": {},
   "source": [
    "## Solution\n",
    "We are going to use [networkx] (https://networkx.github.io/) to draw the network and find the shortest path between two nodes. \n",
    "Each node in the graph is going to represent a production period (one month). Thus, there will be 5 nodes, for month 0 (current month) and the four following months. Edges (i,j) represent the decision to produce in month i all the demand up to month j. For instance, edge 01 means that we decide to manufacture in month 0 100 units, which is the demand in month 1, and 04 means that we decide to manufacture in month 0 100+140+210+180=650 units, which is the demand forecast for the forthcoming 4 months.\n",
    "To calculate the costs, we need to apply the production cost $cp_i$, storage cost $cs$, and preparation costs $c_P$.\n",
    "\n",
    "$c_{ij} = c_P+\\sum_{k=i+1}^{j}d_k·(cp_i+(k-1)·cs)$\n",
    "\n",
    "$c_{01} = 200 + \\sum_{k=1}^{1}d_k·(cp_0+(k-1)·cs) = 200 + 100·(15+0·1.2) = 1500$\n",
    "\n",
    "$c_{02}= 200 + \\sum_{k=1}^{2}d_k·(cp_0+(k-1)·cs) = 200 + 100·(15+0·1.2) + 140·(15+1·1.2) = 3968$\n",
    "\n",
    "...\n",
    "\n",
    "$c_{24} = 200 + \\sum_{k=3}^{4}d_k·(cp_2+(k-1)·cs) = 200 + 210·(10+0·1.2) + 180·(10+1·1.2) = 4316$\n",
    "\n",
    "$c_{34} = 200 + \\sum_{k=4}^{4}d_k·(cp_2+(k-1)·cs) = 200 + 180·(14+0·1.2) = 2720$\n",
    "\n",
    "\n",
    "\n",
    "The following code shows the solution in Python."
   ]
  },
  {
   "cell_type": "code",
   "execution_count": 1,
   "metadata": {},
   "outputs": [
    {
     "name": "stdout",
     "output_type": "stream",
     "text": [
      "Total cost is:  7896\n",
      "Shortest path is: [0, 1, 2, 4]\n",
      "Monthly production is:  {0: {'production': 100}, 1: {'production': 140}, 2: {'production': 390}}\n"
     ]
    },
    {
     "data": {
      "text/html": [
       "<div>\n",
       "<style scoped>\n",
       "    .dataframe tbody tr th:only-of-type {\n",
       "        vertical-align: middle;\n",
       "    }\n",
       "\n",
       "    .dataframe tbody tr th {\n",
       "        vertical-align: top;\n",
       "    }\n",
       "\n",
       "    .dataframe thead th {\n",
       "        text-align: right;\n",
       "    }\n",
       "</style>\n",
       "<table border=\"1\" class=\"dataframe\">\n",
       "  <thead>\n",
       "    <tr style=\"text-align: right;\">\n",
       "      <th></th>\n",
       "      <th>source</th>\n",
       "      <th>target</th>\n",
       "      <th>cost</th>\n",
       "      <th>production</th>\n",
       "    </tr>\n",
       "  </thead>\n",
       "  <tbody>\n",
       "    <tr>\n",
       "      <th>0</th>\n",
       "      <td>0</td>\n",
       "      <td>1</td>\n",
       "      <td>1700</td>\n",
       "      <td>100</td>\n",
       "    </tr>\n",
       "    <tr>\n",
       "      <th>1</th>\n",
       "      <td>0</td>\n",
       "      <td>2</td>\n",
       "      <td>3968</td>\n",
       "      <td>240</td>\n",
       "    </tr>\n",
       "    <tr>\n",
       "      <th>2</th>\n",
       "      <td>0</td>\n",
       "      <td>3</td>\n",
       "      <td>7622</td>\n",
       "      <td>450</td>\n",
       "    </tr>\n",
       "    <tr>\n",
       "      <th>3</th>\n",
       "      <td>0</td>\n",
       "      <td>4</td>\n",
       "      <td>10970</td>\n",
       "      <td>630</td>\n",
       "    </tr>\n",
       "    <tr>\n",
       "      <th>4</th>\n",
       "      <td>1</td>\n",
       "      <td>2</td>\n",
       "      <td>1880</td>\n",
       "      <td>140</td>\n",
       "    </tr>\n",
       "    <tr>\n",
       "      <th>5</th>\n",
       "      <td>1</td>\n",
       "      <td>3</td>\n",
       "      <td>4652</td>\n",
       "      <td>350</td>\n",
       "    </tr>\n",
       "    <tr>\n",
       "      <th>6</th>\n",
       "      <td>1</td>\n",
       "      <td>4</td>\n",
       "      <td>7028</td>\n",
       "      <td>530</td>\n",
       "    </tr>\n",
       "    <tr>\n",
       "      <th>7</th>\n",
       "      <td>2</td>\n",
       "      <td>3</td>\n",
       "      <td>2300</td>\n",
       "      <td>210</td>\n",
       "    </tr>\n",
       "    <tr>\n",
       "      <th>8</th>\n",
       "      <td>2</td>\n",
       "      <td>4</td>\n",
       "      <td>4316</td>\n",
       "      <td>390</td>\n",
       "    </tr>\n",
       "    <tr>\n",
       "      <th>9</th>\n",
       "      <td>3</td>\n",
       "      <td>4</td>\n",
       "      <td>2720</td>\n",
       "      <td>180</td>\n",
       "    </tr>\n",
       "  </tbody>\n",
       "</table>\n",
       "</div>"
      ],
      "text/plain": [
       "   source  target   cost  production\n",
       "0       0       1   1700         100\n",
       "1       0       2   3968         240\n",
       "2       0       3   7622         450\n",
       "3       0       4  10970         630\n",
       "4       1       2   1880         140\n",
       "5       1       3   4652         350\n",
       "6       1       4   7028         530\n",
       "7       2       3   2300         210\n",
       "8       2       4   4316         390\n",
       "9       3       4   2720         180"
      ]
     },
     "metadata": {},
     "output_type": "display_data"
    },
    {
     "data": {
      "text/html": [
       "<div>\n",
       "<style scoped>\n",
       "    .dataframe tbody tr th:only-of-type {\n",
       "        vertical-align: middle;\n",
       "    }\n",
       "\n",
       "    .dataframe tbody tr th {\n",
       "        vertical-align: top;\n",
       "    }\n",
       "\n",
       "    .dataframe thead th {\n",
       "        text-align: right;\n",
       "    }\n",
       "</style>\n",
       "<table border=\"1\" class=\"dataframe\">\n",
       "  <thead>\n",
       "    <tr style=\"text-align: right;\">\n",
       "      <th></th>\n",
       "      <th>production</th>\n",
       "    </tr>\n",
       "  </thead>\n",
       "  <tbody>\n",
       "    <tr>\n",
       "      <th>0</th>\n",
       "      <td>100</td>\n",
       "    </tr>\n",
       "    <tr>\n",
       "      <th>1</th>\n",
       "      <td>140</td>\n",
       "    </tr>\n",
       "    <tr>\n",
       "      <th>2</th>\n",
       "      <td>390</td>\n",
       "    </tr>\n",
       "  </tbody>\n",
       "</table>\n",
       "</div>"
      ],
      "text/plain": [
       "   production\n",
       "0         100\n",
       "1         140\n",
       "2         390"
      ]
     },
     "metadata": {},
     "output_type": "display_data"
    }
   ],
   "source": [
    "import pandas as pd\n",
    "import networkx as nx\n",
    "from IPython.display import display, Markdown\n",
    "\n",
    "# Create an empty directed graph structure: \n",
    "G = nx.DiGraph()\n",
    "\n",
    "# Add edges and define two attributes, production and costs:\n",
    "G.add_edges_from([(0,1, {'cost': 1700, 'production': 100}),\n",
    "                  (0,2, {'cost': 3968, 'production': 240}),\n",
    "                  (0,3, {'cost': 7622, 'production': 450}),                  \n",
    "                  (0,4, {'cost': 10970, 'production': 630}),\n",
    "                  (1,2, {'cost': 1880, 'production': 140}),\n",
    "                  (1,3, {'cost': 4652, 'production': 350}),\n",
    "                  (1,4, {'cost': 7028, 'production': 530}),\n",
    "                  (2,3, {'cost': 2300, 'production': 210}),\n",
    "                  (2,4, {'cost': 4316, 'production': 390}),\n",
    "                  (3,4, {'cost': 2720, 'production': 180}),\n",
    "                 ])\n",
    "\n",
    "# Draw the directed graph\n",
    "nx.draw_shell(G, with_labels=True)\n",
    "\n",
    "#Calculate shortest path from 0 to 4, using the attribute cost as edge weight\n",
    "shortest_path = nx.shortest_path(G, 0, 4, weight=\"cost\")\n",
    "\n",
    "# Calculatee the production per month, and the total cost using the shortest path solution and the cost attribute\n",
    "total_cost = 0\n",
    "production = {}\n",
    "for i in range(len(shortest_path)-1):\n",
    "    total_cost+=G[shortest_path[i]][shortest_path[i+1]]['cost']\n",
    "    production[i]={'production': G[shortest_path[i]][shortest_path[i+1]]['production']}\n",
    "    \n",
    "#Print the solution\n",
    "print(\"Total cost is: \", total_cost)\n",
    "print(\"Shortest path is:\", shortest_path)\n",
    "print(\"Monthly production is: \", production)\n",
    "\n",
    "edges_df = nx.to_pandas_edgelist(G);\n",
    "\n",
    "production = pd.DataFrame.from_dict(production, orient='index')\n",
    "display(edges_df)\n",
    "display(production)\n"
   ]
  },
  {
   "cell_type": "code",
   "execution_count": 3,
   "metadata": {},
   "outputs": [
    {
     "data": {
      "image/png": "[encoded data removed]",
      "text/plain": [
       "<Figure size 432x288 with 1 Axes>"
      ]
     },
     "metadata": {
      "needs_background": "light"
     },
     "output_type": "display_data"
    }
   ],
   "source": [
    "import matplotlib.pyplot as plt\n",
    "\n",
    "# Draw the directed graph\n",
    "pos = {0: (28.09, 0.62),\n",
    "       1: (30, 2.01),\n",
    "       2: (31.91, 0.62),\n",
    "       3: (31.18, -1.63),\n",
    "       4: (28.82, -1.63)\n",
    "      }\n",
    "\n",
    "nx.draw_networkx_edges(G, pos)\n",
    "nx.draw_networkx_nodes(G, pos, node_size=600, node_color='#efefef')\n",
    "nx.draw_networkx_labels(G, pos, font_weight='bold' )\n",
    "c_label = nx.get_edge_attributes(G, 'production')\n",
    "nx.draw_networkx_edge_labels(G, pos, edge_labels=c_label)\n",
    "plt.axis('equal')\n",
    "plt.axis('off')\n",
    "plt.show()"
   ]
  },
  {
   "cell_type": "code",
   "execution_count": 12,
   "metadata": {},
   "outputs": [
    {
     "data": {
      "image/png": "[encoded data removed]",
      "text/plain": [
       "<Figure size 432x288 with 1 Axes>"
      ]
     },
     "metadata": {
      "needs_background": "light"
     },
     "output_type": "display_data"
    }
   ],
   "source": [
    "# Draw the directed graph with colored edges\n",
    "pos = {0: (28.09, 0.62),\n",
    "       1: (30, 2.01),\n",
    "       2: (31.91, 0.62),\n",
    "       3: (31.18, -1.63),\n",
    "       4: (28.82, -1.63)\n",
    "      }\n",
    "red_edges = list(zip(shortest_path,shortest_path[1:]))\n",
    "edge_col = ['red' if edge in red_edges else 'black' for edge in G.edges()]\n",
    "nx.draw_networkx_edges(G, pos, edge_color= edge_col)\n",
    "nx.draw_networkx_nodes(G, pos, node_size=600, node_color='#efefef')\n",
    "nx.draw_networkx_labels(G, pos, font_weight='bold')\n",
    "c_label = nx.get_edge_attributes(G, 'production')\n",
    "nx.draw_networkx_edge_labels(G, pos, edge_labels=c_label)\n",
    "plt.axis('equal')\n",
    "plt.axis('off')\n",
    "plt.show()"
   ]
  },
  {
   "cell_type": "code",
   "execution_count": null,
   "metadata": {},
   "outputs": [],
   "source": []
  }
 ],
 "metadata": {
  "kernelspec": {
   "display_name": "Python 3",
   "language": "python",
   "name": "python3"
  },
  "language_info": {
   "codemirror_mode": {
    "name": "ipython",
    "version": 3
   },
   "file_extension": ".py",
   "mimetype": "text/x-python",
   "name": "python",
   "nbconvert_exporter": "python",
   "pygments_lexer": "ipython3",
   "version": "3.7.4"
  }
 },
 "nbformat": 4,
 "nbformat_minor": 2
}
