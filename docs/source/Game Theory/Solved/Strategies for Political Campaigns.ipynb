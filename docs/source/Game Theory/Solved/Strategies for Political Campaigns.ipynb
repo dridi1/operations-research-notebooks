{
 "cells": [
  {
   "cell_type": "markdown",
   "source": [
    "# Strategies for political campaigns\n",
    "## Problem Definition\n",
    "Suppose there are two political parties, The Avengers Party (a coalition of superheroes who have come together to fight for the greater good. They believe in using their powers to protect the people and promote equality and justice) and the BrotherHood party (This party represents a group of mutants who feel oppressed by society and seek to overthrow the existing power structures). They are competing in an election. Each party has three possible strategies: they can focus their campaign on young citizens (below 30), middle-aged citizens (30-50), or senior citizens (over 50). The parties use national statistics to estimate the number of votes that can shift in each demographic group. Here are the estimated values for each demographic group:\n",
    "\n",
    "- Young voters: They represent 60% of the undecided voters.\n",
    "- Middle-aged voters: They represent 25% of the undecided voters.\n",
    "- Senior citizens: They represent 15% of the undecided voters.\n",
    "\n",
    " From past elections, the Avengers party has collected the following estimation about undecided voters on each scenario:\n",
    "\n",
    "- **Young voters:** If both parties focus on young voters, the Avengers party will get 40% of the young voters and the Brotherhood party 60% of the young voters. If the Avengers party focuses on the young voters and the Brotherhood party does not, the Avengers party will get 70% of the young voters. If the Brotherhood party focuses on the young voters and the Avengers party does not, the Avengers party will get 10% of the young voters. If neither party focuses on the young voters, the Avengers party will get 40% of the young voters.\n",
    "- **Middle-aged voters:** If both parties focus on middle-aged voters, the Avengers party will get 60% of the middle-aged voters and the Brotherhood party 40% of the middle-aged voters. If the Avengers party focuses on the middle-aged voters and the Brotherhood party does not, the Avengers party will get 90% of the middle-aged voters. If the Brotherhood party focuses on the middle-aged voters and the Avengers party does not, the Avengers party will get 30% of the middle-aged voters. If neither party focuses on the middle-aged voters, the Avengers party will get 60% of the middle-aged voters.\n",
    "- **Senior citizens:** If both parties focus on senior citizens, the Avengers party will get 70% of the senior citizens and the Brotherhood party 30% of the senior citizens. If the Avengers party focuses on the senior citizens and the Brotherhood party does not, the Avengers party will get 90% of the senior citizens. If the Brotherhood party focuses on the senior citizens and the Avengers party does not, the Avengers party will get 20% of the senior citizens. If neither party focuses on the senior citizens, the Avengers party will get 70% of the senior citizens.\n",
    "\n",
    "Let us use Game Theory to model the strategies of both political parties, following these steps:\n",
    "\n"
   ],
   "metadata": {
    "collapsed": false
   }
  },
  {
   "cell_type": "markdown",
   "source": [
    "1. Identify the alternatives for both players and draw a tabular representation of the game were Player A is the Avengers Party\n",
    "\n",
    "Note that each political party can choose only one out of three possible strategies: Focusing on young, middle-aged, or senior citizens. Therefore, the Avengers Party has three alternatives, noted as:\n",
    "\n",
    "- Young: Focus on young citizens\n",
    "- Middle-aged: Focus on middle-aged citizens\n",
    "- Senior: Focus on senior citizens\n",
    "\n",
    "The Brotherhood Party also has three possible strategies:\n",
    "\n",
    "- Young: Focus on young citizens\n",
    "- Middle-age: Focus on middle-aged citizens\n",
    "- Senior: Focus on senior citizens.\n",
    "\n",
    "For the sake of simplicity, The Avengers Party will be Player A and the Brotherhood Party will be Player B."
   ],
   "metadata": {
    "collapsed": false
   }
  },
  {
   "cell_type": "markdown",
   "source": [
    "\n",
    "2. Complete the tabular representation of the game, estimating the total percentage of undecided voters that would vote for each party\n",
    "\n",
    "Now, since each player has three different strategies, this is 3x3 game and therefore we have a total of 9 possible scenarios. In each possible scenario, we need to assess the total percentage of undecided voters that would vote for each party. For example, if both parties focus on young voters, the Avengers Party will get 40% of the young voters and the Brotherhood party 60% of the young voters. Therefore, the Avengers Party will get 40% of 60% of the undecided voters in this segment, which is 24% of the total undecided voters. Similarly, the Brotherhood Party will get 60% of 60% = 36% of the total undecided voters. Additionally, since we know that both parties are focused on young voters, neither will focus on middle-age voters. Therefore, the Avengers Party will get 60% of 25% = 15% of the total undecided voters in this segment, and the Brotherhood Party will get 40% of 25% = 10% of the total undecided voters in this segment. Similarly, the Avengers Party will get 70% of 15% = 10.5% of the total undecided voters in the senior segment, and the Brotherhood Party will get 30% of 15% = 4,5% of the total undecided voters in the senior segment:\n",
    "\n",
    "- Player A: Young, Player B: Young\n",
    "    - Player A: 0.6*0.4 + 0.6*0.25 + 0.7*0.15 = 0.24 +0.15 + 0.105 = 0.495 = 49.5%\n",
    "    - Player B: 0.6*0.6 + 0.6*0.25 + 0.3*0.15 = 0.36 + 0.15 + 0.045 = 0.555 = 55.5%\n",
    "\n",
    "Note that the sum of the percentages for each player is 100%, since we are considering all the undecided voters, and therefore we can also represent the game as a zero-sum game and do only have of the required calculations.\n",
    "\n",
    "If we repeat this process for each of the 9 possible scenarios, we will get the following table:\n",
    "\n",
    "\n",
    "| -                         | -           | Player B (Brotherhood Party) | -           | -          |\n",
    "|---------------------------|-------------|------------------------------|-------------|------------|\n",
    "| -                         | -           | Young                        | Middle-aged | Senior     |\n",
    "| ---                       | ---         | ---                          | ---         | ---        |\n",
    "| Player A (Avengers Party) | Young       | 49.5, 50.5                   | 60, 40      | 60, 40     |\n",
    "| -                         | Middle-aged | 39, 61                       | 49.5, 50.5  | 49.5, 50.5 |\n",
    "| -                         | Senior      | 34.5, 65.5                   | 45, 55      | 49.5, 50.5 |\n"
   ],
   "metadata": {
    "collapsed": false
   }
  },
  {
   "cell_type": "markdown",
   "source": [
    "3. Calculate the strategy of each party using the MinMax criteria\n",
    "\n",
    "Now, if we apply the MinMax criteria, for the Avengers Party, we first need to calculate the value for the worst case scenario in each of the alternatives, and then select the alternative with the highest value.\n",
    "The worst case scenario can be calculated using the value for Player A and calculating the minimum of each row, that is:\n",
    "\n",
    "- Young: $\\min(49.5, 60, 60) = 49.5$\n",
    "- Middle-aged: $\\min(39, 49.5, 49.5) = 39$\n",
    "- Senior: $\\min(34.5, 45, 49.5) = 34.5$\n",
    "\n",
    "The best worst case scenario is the one with the highest value, which is $\\max(49.5, 39, 34.5) = 49.5$, and therefore the Avengers Party should focus on young voters.\n",
    "\n",
    "Similarly, for the Brotherhood Party, we first need to calculate the value for the worst case scenario in each of the alternatives, now the minimum of the value for Player B in each column, and then select the alternative with the highest value:\n",
    "\n",
    "- Young: $\\min(50.5, 61, 65.5) = 50.5$\n",
    "- Middle-aged: $\\min(40, 50.5, 55) = 40$\n",
    "- Senior: $\\min(40, 50.5, 50.5) = 40$\n",
    "\n",
    "Now, the best worst case scenario is the one with the highest value, which is $\\max(50.5, 40, 40) = 50.5$, and therefore the Brotherhood Party should also focus on young voters.\n",
    "\n",
    "Modelling the problem as a zero-sum game yields the same results.\n"
   ],
   "metadata": {
    "collapsed": false
   }
  }
 ],
 "metadata": {
  "kernelspec": {
   "display_name": "Python 3",
   "language": "python",
   "name": "python3"
  },
  "language_info": {
   "codemirror_mode": {
    "name": "ipython",
    "version": 2
   },
   "file_extension": ".py",
   "mimetype": "text/x-python",
   "name": "python",
   "nbconvert_exporter": "python",
   "pygments_lexer": "ipython2",
   "version": "2.7.6"
  }
 },
 "nbformat": 4,
 "nbformat_minor": 0
}
