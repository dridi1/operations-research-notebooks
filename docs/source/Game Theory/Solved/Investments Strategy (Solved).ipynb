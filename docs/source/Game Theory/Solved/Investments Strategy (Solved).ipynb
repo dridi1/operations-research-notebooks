{
 "cells": [
  {
   "cell_type": "markdown",
   "metadata": {},
   "source": [
    "# Investments Strategy\n",
    "## Problem definition\n",
    "An investor wishes to invest €12,000 over a 1-year period, although he/she must decide to invest in market shares and/or gold. The profitability ratios  stimated for each investment are based on the possible states of economy (see Table).\n",
    "\n",
    "|       Investment         \t| Growth \t| Mean Growth \t| Stabilisation \t| Poor Growth \t|\n",
    "|---------------\t|--------\t|-------------\t|---------------\t|-------------\t|\n",
    "| Market shares \t| 5      \t| 4           \t| 3             \t| -1          \t|\n",
    "| Gold          \t| 2      \t| 3           \t| 4             \t| 5           \t|\n",
    "\n",
    "Consider a zero-sum Games Theory model with two players and answer the\n",
    "following:\n",
    "\n",
    "**a)** How should the investor invest the €12,000 to carry out the optimal strategy?\n",
    "\n",
    "**b)** What mean profitability value is obtained?"
   ]
  },
  {
   "cell_type": "markdown",
   "metadata": {},
   "source": [
    "The interpretation of this Games Theory problem is that the investor is playing\n",
    "against the states of nature (the states of economy).\n",
    "\n"
   ]
  }
 ],
 "metadata": {
  "kernelspec": {
   "display_name": "Python 3",
   "language": "python",
   "name": "python3"
  },
  "language_info": {
   "codemirror_mode": {
    "name": "ipython",
    "version": 3
   },
   "file_extension": ".py",
   "mimetype": "text/x-python",
   "name": "python",
   "nbconvert_exporter": "python",
   "pygments_lexer": "ipython3",
   "version": "3.7.4"
  },
  "pycharm": {
   "stem_cell": {
    "cell_type": "raw",
    "source": [],
    "metadata": {
     "collapsed": false
    }
   }
  }
 },
 "nbformat": 4,
 "nbformat_minor": 2
}