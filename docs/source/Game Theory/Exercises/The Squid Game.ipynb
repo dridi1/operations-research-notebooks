{
 "cells": [
  {
   "cell_type": "markdown",
   "metadata": {
    "collapsed": true,
    "pycharm": {
     "name": "#%% md\n"
    }
   },
   "source": [
    "# The Squid Game\n",
    "## Problem definition\n",
    "You were out celebrating the end of the exams at EDEM and the next thing you know is you are trapped in an island playing for your live to a game known as the Squid Game. There are two players in the Squid Game, the atacker and the defender. The attacker must pass through the field, choosing one out of three possible paths, up, middle, and down. The defender must guess which path the attacker has selected, and follow the same path to meet him in the middle of the field. \n",
    "\n",
    "Both players have a limited endurance, measured in endurance points, and start with 10 endurance points. The winner is the player that resists the longest time without loosing all endurance points.\n",
    "\n",
    "The field is fraught with traps that cause injuries to the players. If the attacker crosses the 'up' or 'down' paths, the damage caused to the attacker is assessed as -3 endurance points. If the atacker chooses the 'middle' path, the damage is assessed as -1 endurance points. If the defender chooses the 'up' or 'down' paths,the damage is -1 endurance points. The damage for the defender is -3 endurance points if he chooses the middle path.\n",
    "\n",
    "Both players are blind folded and choose the path they would like to follow at the same time. If the defender chooses the same path as the atacker, the damage for the atacker is -5 endurance points. If on the other hand the defender chooses a different path, the damage for the defender is -2 endurance points. The following image shows the Squid Game field and the damage in storage points in each path.\n",
    "\n",
    "![squid game](img/squid_game.png)\n",
    "\n",
    "**a)** Write down the tabular representation of the game.\n",
    "\n",
    "**b)** Find the move each player would choose following the minmax criteria. Discuss briefly if there is equilibrium.\n",
    "\n",
    "**c)** Now think of the game as a zero-sum game where the gain in each move is the difference in damage points between the atacker and the defender for each combination of pairs of paths selected. Write down the linear programming problems to calculate the optimal probabilities of the mixed strategies for both players.\n",
    "\n",
    "\n"
   ]
  }
 ],
 "metadata": {
  "kernelspec": {
   "display_name": "Python 3",
   "language": "python",
   "name": "python3"
  },
  "language_info": {
   "codemirror_mode": {
    "name": "ipython",
    "version": 2
   },
   "file_extension": ".py",
   "mimetype": "text/x-python",
   "name": "python",
   "nbconvert_exporter": "python",
   "pygments_lexer": "ipython2",
   "version": "2.7.6"
  },
  "pycharm": {
   "stem_cell": {
    "cell_type": "raw",
    "source": [],
    "metadata": {
     "collapsed": false
    }
   }
  }
 },
 "nbformat": 4,
 "nbformat_minor": 0
}