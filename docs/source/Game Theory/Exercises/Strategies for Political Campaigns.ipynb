{
 "cells": [
  {
   "cell_type": "markdown",
   "source": [
    "# Strategies for political campaigns\n",
    "## Problem Definition\n",
    "Suppose there are two political parties, The Avengers Party (a coalition of superheroes who have come together to fight for the greater good. They believe in using their powers to protect the people and promote equality and justice) and the BrotherHood party (This party represents a group of mutants who feel oppressed by society and seek to overthrow the existing power structures). They are competing in an election. Each party has three possible strategies: they can focus their campaign on young citizens (below 30), middle-aged citizens (30-50), or senior citizens (over 50). The parties use national statistics to estimate the number of votes that can shift in each demographic group. Here are the estimated values for each demographic group:\n",
    "\n",
    "- Young voters: They represent 60% of the undecided voters.\n",
    "- Middle-aged voters: They represent 25% of the undecided voters.\n",
    "- Senior citizens: They represent 15% of the undecided voters.\n",
    "\n",
    " From past elections, the Avengers party has collected the following estimation about undecided voters on each scenario:\n",
    "\n",
    "- **Young voters:** If both parties focus on young voters, the Avengers party will get 40% of the young voters and the Brotherhood party 60% of the young voters. If the Avengers party focuses on the young voters and the Brotherhood party does not, the Avengers party will get 70% of the young voters. If the Brotherhood party focuses on the young voters and the Avengers party does not, the Avengers party will get 10% of the young voters. If neither party focuses on the young voters, the Avengers party will get 40% of the young voters.\n",
    "- **Middle-aged voters:** If both parties focus on middle-aged voters, the Avengers party will get 60% of the middle-aged voters and the Brotherhood party 40% of the middle-aged voters. If the Avengers party focuses on the middle-aged voters and the Brotherhood party does not, the Avengers party will get 90% of the middle-aged voters. If the Brotherhood party focuses on the middle-aged voters and the Avengers party does not, the Avengers party will get 30% of the middle-aged voters. If neither party focuses on the middle-aged voters, the Avengers party will get 60% of the middle-aged voters.\n",
    "- **Senior citizens:** If both parties focus on senior citizens, the Avengers party will get 70% of the senior citizens and the Brotherhood party 30% of the senior citizens. If the Avengers party focuses on the senior citizens and the Brotherhood party does not, the Avengers party will get 90% of the senior citizens. If the Brotherhood party focuses on the senior citizens and the Avengers party does not, the Avengers party will get 20% of the senior citizens. If neither party focuses on the senior citizens, the Avengers party will get 70% of the senior citizens.\n",
    "\n",
    "Let us use Game Theory to model the strategies of both political parties, following these steps:\n",
    "\n",
    "1. Identify the alternatives for both players and draw a tabular representation of the game were Player A is the Avengers Party\n",
    "2. Complete the tabular representation of the game, estimating the total percentage of undecided voters that would vote for each party\n",
    "3. Calculate the strategy of each party using the MinMax criteria"
   ],
   "metadata": {
    "collapsed": false
   }
  }
 ],
 "metadata": {
  "kernelspec": {
   "display_name": "Python 3",
   "language": "python",
   "name": "python3"
  },
  "language_info": {
   "codemirror_mode": {
    "name": "ipython",
    "version": 2
   },
   "file_extension": ".py",
   "mimetype": "text/x-python",
   "name": "python",
   "nbconvert_exporter": "python",
   "pygments_lexer": "ipython2",
   "version": "2.7.6"
  }
 },
 "nbformat": 4,
 "nbformat_minor": 0
}
